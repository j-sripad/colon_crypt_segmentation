{
 "cells": [
  {
   "cell_type": "code",
   "execution_count": 1,
   "id": "b994a17c-b877-43c7-a75f-e6e7a04b1939",
   "metadata": {},
   "outputs": [],
   "source": [
    "import os\n",
    "os.environ['CUDA_VISIBLE_DEVICES'] = '0'\n",
    "import warnings\n",
    "warnings.filterwarnings('ignore')"
   ]
  },
  {
   "cell_type": "code",
   "execution_count": 2,
   "id": "4787112d-2b0f-4165-a2fe-4ab3e636a33b",
   "metadata": {},
   "outputs": [],
   "source": [
    "import torch.nn as nn\n",
    "import torch\n",
    "import segmentation_models_pytorch as sm\n",
    "import numpy as np\n",
    "import pandas as pd\n",
    "import skimage.io as io\n",
    "from PIL import Image\n",
    "import cv2\n",
    "import torchvision.transforms as transforms\n",
    "import albumentations as A\n",
    "from albumentations.pytorch import ToTensorV2\n",
    "from torch.utils.data import DataLoader,Dataset\n",
    "import matplotlib.pyplot as plt\n",
    "import tifffile\n",
    "from sklearn.model_selection import KFold\n",
    "import glob\n",
    "import torch_optimizer as t_optim\n",
    "import utils\n",
    "import torch.optim as optim\n",
    "import tqdm as tqdm\n",
    "import torch.nn.functional as F\n",
    "\n",
    "\n"
   ]
  },
  {
   "cell_type": "code",
   "execution_count": 3,
   "id": "9235584b-0137-44b6-95d0-04a75d1d1696",
   "metadata": {},
   "outputs": [],
   "source": [
    "#Defining configurations\n",
    "class Configuration:\n",
    "    MODEL_SAVEPATH = \"models/\"\n",
    "    ENCODER = \"efficientnet-b2\"#\"se_resnext101_32x4d\"#\"se_resnext50_32x4d\"\n",
    "    PRETRAINED_WEIGHTS = \"imagenet\"\n",
    "    BATCH_SIZE = 8\n",
    "    INPUT_CHANNELS = 3\n",
    "\n",
    "    INPUT_SHAPE = (512,512,3)\n",
    "    NFOLDS = 5\n",
    "    ACTIVATION = None\n",
    "    CLASSES = 2 #(crypts 1 background 0)\n",
    "    DEVICE = \"cuda\" if torch.cuda.is_available() else cpu\n",
    "    EPOCHS = 15\n",
    "    LOSS_CROSSENTROPY = nn.CrossEntropyLoss() \n",
    "    LOSS_DICE = utils.DiceLoss()\n",
    "    WEIGHT_DECAY = 1e-4\n",
    "    METRICS = [sm.utils.metrics.IoU(0.5),\n",
    "sm.utils.metrics.Fscore()]\n",
    "    PREPROCESS = sm.encoders.get_preprocessing_fn(ENCODER,PRETRAINED_WEIGHTS)\n",
    "    \n",
    "    \n",
    "    \n",
    "    \n",
    "    \n",
    "cfg = Configuration()  "
   ]
  },
  {
   "cell_type": "code",
   "execution_count": 5,
   "id": "01d35ac4-8015-4f05-8b24-519bc0477288",
   "metadata": {},
   "outputs": [],
   "source": [
    "def pad_image(image:np.ndarray,pad_for_stride = (512,512)):\n",
    "    padded_imag = np.ones((int(np.ceil(image.shape[0]/pad_for_stride[0])*pad_for_stride[0]),int(np.ceil(image.shape[1]/pad_for_stride[1])*pad_for_stride[1]),3),np.uint8)\n",
    "    padded_imag.fill(255)\n",
    "    for col in range(image.shape[1]):\n",
    "        padded_imag[:,col,:][0:image.shape[0]] = image[:,col,:][:]\n",
    "        \n",
    "    return padded_imag\n",
    "\n",
    "def unpad_image(image:np.ndarray,original_dim = (4536,4704)):\n",
    "    return image[0:original_dim[0],0:original_dim[1]]\n",
    "\n",
    "\n",
    "\n",
    "\n",
    "def tile_generator(image:np.ndarray,tile_size = (512,512)):\n",
    "    cx,cy = 0,0\n",
    "    max_height = image.shape[0]\n",
    "    max_width = image.shape[1]\n",
    "    tile = []\n",
    "    while cy+tile_size[0] <= max_height: \n",
    "        width_wise_tiles = []\n",
    "        while cx+tile_size[1] <= max_width:\n",
    "            width_wise_tiles.append(image[cy:cy+tile_size[0],cx:cx+tile_size[1]])  \n",
    "            cx+=tile_size[1]\n",
    "        cy+=tile_size[0]\n",
    "        cx=0\n",
    "        tile.append(width_wise_tiles)\n",
    "    return tile\n",
    "\n",
    "def preprocessing_fucntion(preprocesing_function=None):\n",
    "    return A.Compose([A.Lambda(image=preprocesing_function),ToTensorV2()])\n",
    "\n",
    "\n",
    "def pred_mask(model:torch.nn,tiles:np.ndarray,mask_shape):\n",
    "    model.eval()\n",
    "    mask_acc = np.zeros((mask_shape))\n",
    "    row = 0\n",
    "    column = 0\n",
    "    for i in range(tiles.shape[0]):\n",
    "        \n",
    "        \n",
    "        for j in range(tiles.shape[1]):\n",
    "            prep = preprocess(image = tiles[i,j])['image']\n",
    "            prep = prep.unsqueeze(0)\n",
    "            p = torch.softmax(model(prep.cuda().float()),1)\n",
    "            mask_acc[row:row+512,column:column+512] = p[0][1].detach().cpu().numpy()>0.5\n",
    "            \n",
    "            column+=512\n",
    "            \n",
    "        row+=512\n",
    "        column=0\n",
    "            \n",
    "            \n",
    "    return mask_acc\n",
    "    \n",
    "            \n",
    "            \n",
    "def rle_encode_less_memory(img):\n",
    "    #the image should be transposed\n",
    "    pixels = img.T.flatten()\n",
    "    \n",
    "    # This simplified method requires first and last pixel to be zero\n",
    "    pixels[0] = 0\n",
    "    pixels[-1] = 0\n",
    "    runs = np.where(pixels[1:] != pixels[:-1])[0] + 2\n",
    "    runs[1::2] -= runs[::2]\n",
    "    \n",
    "    return ' '.join(str(x) for x in runs)\n",
    "        \n",
    "def dice_scores_img(pred, truth, eps=1e-8):\n",
    "    pred = pred.reshape(-1) > 0\n",
    "    truth = truth.reshape(-1) > 0\n",
    "    intersect = (pred & truth).sum(-1)\n",
    "    union = pred.sum(-1) + truth.sum(-1)\n",
    "\n",
    "    dice = (2.0 * intersect + eps) / (union + eps)\n",
    "    return dice\n",
    "  \n",
    "    \n",
    "def get_dice(model,data_path:str,dataframe:pd.DataFrame):\n",
    "    dice = []\n",
    "    submission = pd.DataFrame(columns=[\"id\",\"predictions\"])\n",
    "    for i,row in enumerate(dataframe.iloc[:,0]):\n",
    "        img_path = data_path+\"/test/\"+row+\".tiff\"\n",
    "        mask_path = data_path+\"/test_mask/\"+row+\".tiff\"\n",
    "        print(\"testing\",row)\n",
    "        imag = tifffile.imread(img_path)\n",
    "        mask = tifffile.imread(mask_path)\n",
    "        padded_image = pad_image(imag)\n",
    "        tiles = np.array(tile_generator(padded_image))\n",
    "        \n",
    "        result = pred_mask(model,tiles,padded_image.shape[0:-1])\n",
    "        result = unpad_image(result,(imag.shape[0],imag.shape[1],1))\n",
    "        plt.imshow(result)\n",
    "        plt.show()\n",
    "        rle = rle_encode_less_memory(result)\n",
    "        dice.append(dice_scores_img(result,mask))\n",
    "        submission.loc[i,:] = [row,rle]\n",
    "    submission.to_csv(\"submission.csv\",index=False)\n",
    "    print(\"dice scores\",dice)\n",
    "    print(\"Average test dice score is \",sum(dice)/len(dice))\n",
    "        \n",
    "        \n",
    "        \n",
    "    \n",
    "preprocess  =preprocessing_fucntion(cfg.PREPROCESS)\n",
    "    \n",
    "    \n",
    "    \n",
    "    "
   ]
  },
  {
   "cell_type": "code",
   "execution_count": 9,
   "id": "7099dd28-08af-451e-bb3e-f951088682e2",
   "metadata": {},
   "outputs": [
    {
     "data": {
      "text/plain": [
       "<All keys matched successfully>"
      ]
     },
     "execution_count": 9,
     "metadata": {},
     "output_type": "execute_result"
    }
   ],
   "source": [
    "df_test = pd.read_csv(\"Colonic_crypt_dataset/test.csv\")\n",
    "test_data_path = \"Colonic_crypt_dataset/\"\n",
    "model = sm.Unet(encoder_name=cfg.ENCODER, \n",
    "                     encoder_weights=cfg.PRETRAINED_WEIGHTS, \n",
    "                     in_channels=cfg.INPUT_CHANNELS, \n",
    "                     classes=cfg.CLASSES)\n",
    "\n",
    "model.cuda()\n",
    "device = \"gpu\"\n",
    "model.load_state_dict(torch.load(\"models/fold_1_efficientnet-b2_CE_Valid_slicing_all.pth\"))\n",
    "\n"
   ]
  },
  {
   "cell_type": "code",
   "execution_count": 10,
   "id": "4ed1a607-971a-456b-bbad-5c1aa529f5a7",
   "metadata": {},
   "outputs": [
    {
     "name": "stderr",
     "output_type": "stream",
     "text": [
      "Shaped series: axes do not match shape\n"
     ]
    },
    {
     "name": "stdout",
     "output_type": "stream",
     "text": [
      "testing CL_HandE_1234_B004_bottomleft\n"
     ]
    },
    {
     "data": {
      "image/png": "[encoded data removed]",
      "text/plain": [
       "<Figure size 432x288 with 1 Axes>"
      ]
     },
     "metadata": {
      "needs_background": "light"
     },
     "output_type": "display_data"
    },
    {
     "name": "stderr",
     "output_type": "stream",
     "text": [
      "Shaped series: axes do not match shape\n"
     ]
    },
    {
     "name": "stdout",
     "output_type": "stream",
     "text": [
      "testing HandE_B005_CL_b_RGB_bottomleft\n"
     ]
    },
    {
     "data": {
      "image/png": "[encoded data removed]",
      "text/plain": [
       "<Figure size 432x288 with 1 Axes>"
      ]
     },
     "metadata": {
      "needs_background": "light"
     },
     "output_type": "display_data"
    },
    {
     "name": "stdout",
     "output_type": "stream",
     "text": [
      "dice scores [0.9006960869391212, 0.7893628503087985]\n",
      "Average test dice score is  0.8450294686239599\n"
     ]
    }
   ],
   "source": [
    "get_dice(model,test_data_path,df_test)"
   ]
  },
  {
   "cell_type": "code",
   "execution_count": null,
   "id": "32345332-791f-4d5e-a956-a314c8132236",
   "metadata": {},
   "outputs": [],
   "source": []
  }
 ],
 "metadata": {
  "kernelspec": {
   "display_name": "vm_sripad",
   "language": "python",
   "name": "vm_sripad"
  },
  "language_info": {
   "codemirror_mode": {
    "name": "ipython",
    "version": 3
   },
   "file_extension": ".py",
   "mimetype": "text/x-python",
   "name": "python",
   "nbconvert_exporter": "python",
   "pygments_lexer": "ipython3",
   "version": "3.9.6"
  }
 },
 "nbformat": 4,
 "nbformat_minor": 5
}
