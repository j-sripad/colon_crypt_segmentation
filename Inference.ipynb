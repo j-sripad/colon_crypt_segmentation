{
 "cells": [
  {
   "cell_type": "markdown",
   "id": "a5ac55fb-2536-4e3b-a387-c2fd808ec521",
   "metadata": {},
   "source": [
    "Inference Script"
   ]
  },
  {
   "cell_type": "code",
   "execution_count": 1,
   "id": "b994a17c-b877-43c7-a75f-e6e7a04b1939",
   "metadata": {},
   "outputs": [],
   "source": [
    "import os\n",
    "os.environ['CUDA_VISIBLE_DEVICES'] = '1'\n",
    "import warnings\n",
    "warnings.filterwarnings('ignore')"
   ]
  },
  {
   "cell_type": "code",
   "execution_count": 2,
   "id": "4787112d-2b0f-4165-a2fe-4ab3e636a33b",
   "metadata": {},
   "outputs": [],
   "source": [
    "import torch.nn as nn\n",
    "import torch\n",
    "import segmentation_models_pytorch as sm\n",
    "import numpy as np\n",
    "import pandas as pd\n",
    "import skimage.io as io\n",
    "from PIL import Image\n",
    "import matplotlib.pyplot as plt\n",
    "import tifffile\n",
    "from sklearn.model_selection import KFold\n",
    "import glob\n",
    "import tqdm as tqdm\n",
    "import utils\n",
    "from typing import Tuple, Dict\n",
    "import cv2\n",
    "import torch.nn.functional as F\n",
    "\n",
    "\n"
   ]
  },
  {
   "cell_type": "code",
   "execution_count": 3,
   "id": "9235584b-0137-44b6-95d0-04a75d1d1696",
   "metadata": {},
   "outputs": [],
   "source": [
    "#Defining configurations\n",
    "class Configuration:\n",
    "    MODEL_SAVEPATH = \"models/\"\n",
    "    ENCODER = \"efficientnet-b2\"#\"se_resnext101_32x4d\"#\"se_resnext50_32x4d\"\n",
    "    DEVICE = \"cuda\" if torch.cuda.is_available() else cpu\n",
    "    PRETRAINED_WEIGHTS = \"imagenet\"\n",
    "    INPUT_CHANNELS = 3\n",
    "    CLASSES = 2\n",
    "    PREPROCESS = sm.encoders.get_preprocessing_fn(ENCODER,PRETRAINED_WEIGHTS)\n",
    "    \n",
    "\n",
    "cfg = Configuration()  "
   ]
  },
  {
   "cell_type": "code",
   "execution_count": 4,
   "id": "01d35ac4-8015-4f05-8b24-519bc0477288",
   "metadata": {},
   "outputs": [],
   "source": [
    "def pad_image(image:np.ndarray,pad_for_stride:Tuple = (512,512))->np.ndarray:\n",
    "    padded_imag = np.ones((int(np.ceil(image.shape[0]/pad_for_stride[0])*pad_for_stride[0]),int(np.ceil(image.shape[1]/pad_for_stride[1])*pad_for_stride[1]),3),np.uint8)\n",
    "    padded_imag.fill(255)\n",
    "    for col in range(image.shape[1]):\n",
    "        padded_imag[:,col,:][0:image.shape[0]] = image[:,col,:][:]\n",
    "        \n",
    "    return padded_imag\n",
    "\n",
    "\n",
    "\n",
    "def unpad_image(image:np.ndarray,original_dim:Tuple = (4536,4704))->np.ndarray:\n",
    "    return image[0:original_dim[0],0:original_dim[1]]\n",
    "\n",
    "\n",
    "\n",
    "\n",
    "def tile_generator(image:np.ndarray,tile_size:Tuple = (512,512))->list:\n",
    "    cx,cy = 0,0\n",
    "    max_height = image.shape[0]\n",
    "    max_width = image.shape[1]\n",
    "    tile = []\n",
    "    while cy+tile_size[0] <= max_height: \n",
    "        width_wise_tiles = []\n",
    "        while cx+tile_size[1] <= max_width:\n",
    "            width_wise_tiles.append(image[cy:cy+tile_size[0],cx:cx+tile_size[1]])  \n",
    "            cx+=tile_size[1]\n",
    "        cy+=tile_size[0]\n",
    "        cx=0\n",
    "        tile.append(width_wise_tiles)\n",
    "    return tile\n",
    "\n",
    "\n",
    "\n",
    "\n",
    "def pred_mask(model:torch.nn,tiles:np.ndarray,mask_shape:Tuple,save_mask = True)->np.ndarray:\n",
    "    model.eval()\n",
    "    predicted_masks_of_all_patches = []\n",
    "    patches_collected = []\n",
    "    mask_acc = np.zeros((mask_shape))\n",
    "    row = 0\n",
    "    column = 0\n",
    "    for i in range(tiles.shape[0]):\n",
    "        \n",
    "        \n",
    "        for j in range(tiles.shape[1]):\n",
    "            \n",
    "            prep = preprocess(image = tiles[i,j])['image']\n",
    "            prep = prep.unsqueeze(0)\n",
    "            p = torch.softmax(model(prep.to(cfg.DEVICE).float()),1)\n",
    "            predicted_mask = p[0][1].detach().cpu().numpy()>0.5\n",
    "            \n",
    "            if save_mask:\n",
    "                patches_collected.append(tiles[i,j])\n",
    "                predicted_masks_of_all_patches.append(predicted_mask)\n",
    "            mask_acc[row:row+512,column:column+512] = predicted_mask\n",
    "            \n",
    "            column+=512\n",
    "            \n",
    "        row+=512\n",
    "        column=0\n",
    "            \n",
    "            \n",
    "    return mask_acc,patches_collected,predicted_masks_of_all_patches if save_mask else mask_acc\n",
    "    \n",
    "            \n",
    "            \n",
    "def rle_encode_less_memory(img):\n",
    "    #the image should be transposed\n",
    "    pixels = img.T.flatten()\n",
    "    \n",
    "    # This simplified method requires first and last pixel to be zero\n",
    "    pixels[0] = 0\n",
    "    pixels[-1] = 0\n",
    "    runs = np.where(pixels[1:] != pixels[:-1])[0] + 2\n",
    "    runs[1::2] -= runs[::2]\n",
    "    \n",
    "    return ' '.join(str(x) for x in runs)\n",
    "        \n",
    "    \n",
    "def dice_score(pred, truth, eps=1e-8):\n",
    "    pred = pred.reshape(-1) > 0\n",
    "    truth = truth.reshape(-1) > 0\n",
    "    intersect = (pred & truth).sum(-1)\n",
    "    union = pred.sum(-1) + truth.sum(-1)\n",
    "\n",
    "    dice = (2.0 * intersect + eps) / (union + eps)\n",
    "    return dice\n",
    "  \n",
    "    \n",
    "def save_masks_(image_id:str,mask_list:list,original_patches:list)->None:\n",
    "    \n",
    "    if not os.path.isdir(\"result_patches/\"+image_id):\n",
    "        os.makedirs(\"result_patches/\"+image_id)\n",
    "    \n",
    "    path = \"result_patches/\"+image_id+\"/\"\n",
    "    for i,tile_mask in enumerate(mask_list):\n",
    "        tile_mask = cv2.cvtColor(np.uint8(tile_mask*255),cv2.COLOR_GRAY2RGB)\n",
    "        concat_image_mask = cv2.hconcat([np.uint8(original_patches[i]),tile_mask])\n",
    "        io.imsave(path+image_id+f\"_{i}.png\",concat_image_mask)\n",
    "        # io.imsave(path+image_id+f\"image_{i}.png\",tile_mask)\n",
    "        \n",
    "        \n",
    "    \n",
    "def prediction(model:torch.nn,data_path:str,dataframe:pd.DataFrame,save_masks:bool=True):\n",
    "    dice = []\n",
    "    submission = pd.DataFrame(columns=[\"id\",\"predictions\"])\n",
    "    for i,row in enumerate(dataframe.iloc[:,0]):\n",
    "        img_path = data_path+\"/test/\"+row+\".tiff\"\n",
    "        mask_path = data_path+\"/test_mask/\"+row+\".tiff\"\n",
    "        print(\"testing\",row)\n",
    "        imag = tifffile.imread(img_path)\n",
    "        mask = tifffile.imread(mask_path)\n",
    "        padded_image = pad_image(imag)\n",
    "        tiles = np.array(tile_generator(padded_image))\n",
    "        \n",
    "        result = pred_mask(model,tiles,padded_image.shape[0:-1],save_mask=save_masks)\n",
    "        if save_masks:\n",
    "            save_masks_(row,result[2],result[1])\n",
    "            \n",
    "            result = result[0]\n",
    "        result = unpad_image(result[0],(imag.shape[0],imag.shape[1],1))\n",
    "        plt.imshow(result)\n",
    "        plt.show()\n",
    "        rle = rle_encode_less_memory(result)\n",
    "        dice.append(dice_score(result,mask))\n",
    "        submission.loc[i,:] = [row,rle]\n",
    "    submission.to_csv(\"submission.csv\",index=False)\n",
    "    print(\"dice scores\",dice)\n",
    "    print(\"Average test dice score is \",sum(dice)/len(dice))\n",
    "        \n",
    "        \n",
    "        \n",
    "    \n",
    "preprocess  =utils.preprocessing_fucntion(cfg.PREPROCESS)\n",
    "    \n",
    "    \n",
    "    \n",
    "    "
   ]
  },
  {
   "cell_type": "code",
   "execution_count": 13,
   "id": "7099dd28-08af-451e-bb3e-f951088682e2",
   "metadata": {},
   "outputs": [
    {
     "data": {
      "text/plain": [
       "<All keys matched successfully>"
      ]
     },
     "execution_count": 13,
     "metadata": {},
     "output_type": "execute_result"
    }
   ],
   "source": [
    "df_test = pd.read_csv(\"Colonic_crypt_dataset/test.csv\")\n",
    "test_data_path = \"Colonic_crypt_dataset/\"\n",
    "model = sm.Unet(encoder_name=cfg.ENCODER, \n",
    "                     encoder_weights=cfg.PRETRAINED_WEIGHTS, \n",
    "                     in_channels=cfg.INPUT_CHANNELS, \n",
    "                     classes=cfg.CLASSES)\n",
    "\n",
    "model.to(cfg.DEVICE)\n",
    "# device = \"gpu\"\n",
    "model.load_state_dict(torch.load(\"models/fold_4_UNET_efficientnet-b2_16_CE_Valid_slicing_all.pth\"))\n",
    "\n"
   ]
  },
  {
   "cell_type": "code",
   "execution_count": 14,
   "id": "4ed1a607-971a-456b-bbad-5c1aa529f5a7",
   "metadata": {},
   "outputs": [
    {
     "name": "stderr",
     "output_type": "stream",
     "text": [
      "Shaped series: axes do not match shape\n"
     ]
    },
    {
     "name": "stdout",
     "output_type": "stream",
     "text": [
      "testing CL_HandE_1234_B004_bottomleft\n"
     ]
    },
    {
     "data": {
      "image/png": "[encoded data removed]",
      "text/plain": [
       "<Figure size 432x288 with 1 Axes>"
      ]
     },
     "metadata": {
      "needs_background": "light"
     },
     "output_type": "display_data"
    },
    {
     "name": "stderr",
     "output_type": "stream",
     "text": [
      "Shaped series: axes do not match shape\n"
     ]
    },
    {
     "name": "stdout",
     "output_type": "stream",
     "text": [
      "testing HandE_B005_CL_b_RGB_bottomleft\n"
     ]
    },
    {
     "data": {
      "image/png": "[encoded data removed]",
      "text/plain": [
       "<Figure size 432x288 with 1 Axes>"
      ]
     },
     "metadata": {
      "needs_background": "light"
     },
     "output_type": "display_data"
    },
    {
     "name": "stdout",
     "output_type": "stream",
     "text": [
      "dice scores [0.9074720082560629, 0.7623446336538605]\n",
      "Average test dice score is  0.8349083209549617\n"
     ]
    }
   ],
   "source": [
    "prediction(model,test_data_path,df_test,False)"
   ]
  },
  {
   "cell_type": "code",
   "execution_count": null,
   "id": "081df637-49fc-4c86-91a7-c45c878b4d57",
   "metadata": {},
   "outputs": [],
   "source": []
  },
  {
   "cell_type": "code",
   "execution_count": null,
   "id": "2500e576-30ea-4620-8acd-024b20b39efb",
   "metadata": {},
   "outputs": [],
   "source": []
  }
 ],
 "metadata": {
  "kernelspec": {
   "display_name": "vm_sripad",
   "language": "python",
   "name": "vm_sripad"
  },
  "language_info": {
   "codemirror_mode": {
    "name": "ipython",
    "version": 3
   },
   "file_extension": ".py",
   "mimetype": "text/x-python",
   "name": "python",
   "nbconvert_exporter": "python",
   "pygments_lexer": "ipython3",
   "version": "3.9.6"
  }
 },
 "nbformat": 4,
 "nbformat_minor": 5
}
