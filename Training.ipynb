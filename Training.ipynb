{
 "cells": [
  {
   "cell_type": "markdown",
   "id": "0cb081c8-e115-4a36-9771-d2b5d7b373fc",
   "metadata": {},
   "source": [
    "#### Training\n",
    "\n",
    "This notebook contains code to train the model for crypt segmentation in colon images. We use segmentation models to train "
   ]
  },
  {
   "cell_type": "code",
   "execution_count": 1,
   "id": "30a69eeb-2c2c-4136-9a85-c6998e41826f",
   "metadata": {},
   "outputs": [],
   "source": [
    "# import os\n",
    "# os.environ['CUDA_VISIBLE_DEVICES'] = '1'\n",
    "import warnings\n",
    "warnings.filterwarnings('ignore')"
   ]
  },
  {
   "cell_type": "code",
   "execution_count": 2,
   "id": "531ec2a1-f87e-480e-b5fb-5861b39ccc96",
   "metadata": {},
   "outputs": [],
   "source": [
    "import torch.nn as nn\n",
    "import torch\n",
    "import segmentation_models_pytorch as sm\n",
    "import numpy as np\n",
    "import pandas as pd\n",
    "import skimage.io as io\n",
    "from PIL import Image\n",
    "import cv2\n",
    "import torchvision.transforms as transforms\n",
    "import albumentations as A\n",
    "from albumentations.pytorch import ToTensorV2\n",
    "from torch.utils.data import DataLoader,Dataset\n",
    "import matplotlib.pyplot as plt\n",
    "import tifffile\n",
    "from sklearn.model_selection import KFold\n",
    "import glob\n",
    "import torch_optimizer as t_optim\n",
    "import utils\n",
    "import torch.optim as optim\n",
    "from tqdm.notebook import tqdm\n",
    "from torch.optim.lr_scheduler import OneCycleLR\n",
    "\n"
   ]
  },
  {
   "cell_type": "code",
   "execution_count": 3,
   "id": "8b19b1d8-3475-4772-8d31-286252b56e31",
   "metadata": {},
   "outputs": [],
   "source": [
    "class Colon_Dataset(Dataset):\n",
    "    def __init__(self,data_csv_path:str=\"train_data.csv\",indexes:list= None,valid:bool=False,transform:transforms = None, target_transform:transforms=None,preprocessing=None):\n",
    "        self.data = pd.read_csv(data_csv_path)\n",
    "        self.indexed_data = self.data.iloc[indexes,:]\n",
    "        self.transform = transform\n",
    "        self.target_transform = target_transform\n",
    "        self.preprocessing = preprocessing\n",
    "        \n",
    "    def __getitem__(self,idx):\n",
    "        \n",
    "        image = tifffile.imread(self.indexed_data.iloc[idx,0])\n",
    "        mask = tifffile.imread(self.indexed_data.iloc[idx,1]).astype(float)\n",
    "        \n",
    "        \n",
    "        if self.transform:\n",
    "            augmentations = self.transform(image=image,mask=mask)\n",
    "            image,mask = augmentations['image'],augmentations['mask']\n",
    "            \n",
    "            \n",
    "        if self.preprocessing:\n",
    "            preprocessed = self.preprocessing(image=image,mask=mask)\n",
    "            image,mask = preprocessed['image'],preprocessed['mask']\n",
    "    \n",
    "        return image.float(),(mask[:,:,0]/255.0).type(torch.LongTensor)\n",
    "    \n",
    "    def __len__(self):\n",
    "        return len(self.indexed_data)        "
   ]
  },
  {
   "cell_type": "code",
   "execution_count": 4,
   "id": "a4304efd-38b3-45f6-9969-ef317c2bbe23",
   "metadata": {},
   "outputs": [],
   "source": [
    "train_transform =  A.Compose([\n",
    "        A.HorizontalFlip(),\n",
    "        A.VerticalFlip(),\n",
    "        A.RandomRotate90(),\n",
    "        A.ShiftScaleRotate(shift_limit=0.0625, scale_limit=0.2, rotate_limit=15, p=0.9,\n",
    "                         border_mode=cv2.BORDER_REFLECT),\n",
    "        A.OneOf([\n",
    "            A.ElasticTransform(p=.3),\n",
    "            A.GaussianBlur(p=.3),\n",
    "            A.GaussNoise(p=.3),\n",
    "            A.OpticalDistortion(p=0.3),\n",
    "            A.GridDistortion(p=.1),\n",
    "            A.PiecewiseAffine(p=0.3),\n",
    "        ], p=0.3),\n",
    "        A.OneOf([\n",
    "            A.HueSaturationValue(15,25,0),\n",
    "            A.CLAHE(clip_limit=2),\n",
    "            A.RandomBrightnessContrast(brightness_limit=0.3, contrast_limit=0.3),\n",
    "        ], p=0.3),\n",
    "    \n",
    "        \n",
    "    ])\n",
    "\n",
    "validation_transform = A.Compose([ToTensorV2()])\n",
    "\n",
    "def preprocessing_fucntion(preprocesing_function=None):\n",
    "    return A.Compose([A.Lambda(image=preprocesing_function),ToTensorV2()])\n",
    "    "
   ]
  },
  {
   "cell_type": "code",
   "execution_count": 5,
   "id": "2733ca0c-7ded-4882-aa14-81edbadce209",
   "metadata": {},
   "outputs": [],
   "source": [
    "#Defining configurations\n",
    "class Configuration:\n",
    "    MODEL_SAVEPATH = \"models/\"\n",
    "    ENCODER = \"efficientnet-b2\"\n",
    "    PRETRAINED_WEIGHTS = \"imagenet\"\n",
    "    BATCH_SIZE = 16\n",
    "    INPUT_CHANNELS = 3\n",
    "    INPUT_SHAPE = (512,512,3)\n",
    "    NFOLDS = 5\n",
    "    ACTIVATION = None\n",
    "    CLASSES = 2 #(crypts 1 background 0)\n",
    "    DEVICE = \"cuda\" if torch.cuda.is_available() else cpu\n",
    "    EPOCHS = 10\n",
    "    LOSS_CROSSENTROPY = nn.CrossEntropyLoss() \n",
    "    LOSS_DICE = utils.DiceScore()\n",
    "    DICE_COEF = utils.DiceLoss()\n",
    "    WEIGHT_DECAY = 1e-4\n",
    "    LEARNING_RATE = 1e-3\n",
    "    PREPROCESS = sm.encoders.get_preprocessing_fn(ENCODER,PRETRAINED_WEIGHTS)\n",
    "    ONECYCLELR = False\n",
    "    MODEL_NAME = 0\n",
    "    MAX_LR_FOR_ONECYCLELR = 1e-3\n",
    "       \n",
    "cfg = Configuration()  "
   ]
  },
  {
   "cell_type": "code",
   "execution_count": 6,
   "id": "3f3b4fa2-a758-4f84-9291-29e66d79a83d",
   "metadata": {},
   "outputs": [],
   "source": [
    "#init kfold"
   ]
  },
  {
   "cell_type": "code",
   "execution_count": 7,
   "id": "a110fe31-d36d-4fea-80a4-844ea61b3a03",
   "metadata": {},
   "outputs": [],
   "source": [
    "Train_ids = pd.read_csv(\"Colonic_crypt_dataset/train.csv\").iloc[0:-1,:]['id'].values"
   ]
  },
  {
   "cell_type": "code",
   "execution_count": 8,
   "id": "87db9a8d-5588-420c-ab8c-f35b0220d775",
   "metadata": {},
   "outputs": [],
   "source": [
    "kfold = KFold(cfg.NFOLDS, shuffle=True, random_state=0)\n"
   ]
  },
  {
   "cell_type": "code",
   "execution_count": 9,
   "id": "0dead4f7-96cd-443b-9c7b-8e75af3ed93a",
   "metadata": {},
   "outputs": [],
   "source": [
    "df = pd.read_csv(\"train_data.csv\")\n"
   ]
  },
  {
   "cell_type": "code",
   "execution_count": 10,
   "id": "1b07e43d-fd4e-4936-8f70-a06c40d429ab",
   "metadata": {},
   "outputs": [],
   "source": [
    "class Trainer:\n",
    "    def __init__(self,cfg:Configuration,train_data_loader:DataLoader,valid_data_loader:DataLoader)->None:\n",
    "        self.cfg = cfg\n",
    "        self.model = sm.Unet(encoder_name=self.cfg.ENCODER, \n",
    "                     encoder_weights=self.cfg.PRETRAINED_WEIGHTS, \n",
    "                     in_channels=self.cfg.INPUT_CHANNELS, \n",
    "                     classes=self.cfg.CLASSES)\n",
    "        self.loss_function = self.cfg.LOSS_CROSSENTROPY\n",
    "        self.lr = self.cfg.LEARNING_RATE\n",
    "        self.batch_size = self.cfg.BATCH_SIZE\n",
    "        self.train_dataloader = train_data_loader\n",
    "        self.valid_dataloader = valid_data_loader\n",
    "        self.device = self.cfg.DEVICE\n",
    "        self.epochs = self.cfg.EPOCHS\n",
    "        self.lr = 1e-3\n",
    "        self.log = pd.DataFrame(columns=[\"model_name\",\"train_loss\",\"train_dice\",\"valid_loss\",\"valid_dice\"])\n",
    "        \n",
    "        \n",
    "        \n",
    "        self.optimizer = t_optim.Ranger(self.model.parameters(),weight_decay=self.cfg.WEIGHT_DECAY)\n",
    "        if self.cfg.ONECYCLELR:\n",
    "            self.optimizer = OneCycleLR(self.optimizer, max_lr=self.cfg.MAX_LR_FOR_ONECYCLELR, steps_per_epoch=len(self.train_dataloader), epochs=self.EPOCHS)\n",
    "        \n",
    "   \n",
    "    \n",
    "    def calculate_metrics(self,data_loader:DataLoader):\n",
    "        self.model.eval()\n",
    "        total_loss = 0\n",
    "        total_dice = 0 #batch wise dice loss\n",
    "        with torch.no_grad():\n",
    "            for data in tqdm(data_loader,total=len(data_loader)):\n",
    "                im = data[0].to(self.device)\n",
    "                mask = data[1].to(self.device)\n",
    "                out = self.model(im)\n",
    "                loss = self.loss_function(out.data,mask) #+ cfg.LOSS_DICE(out,mask)\n",
    "                total_loss+=loss.item()\n",
    "                total_dice+= self.cfg.DICE_COEF(out.data,mask)\n",
    "        return total_dice/len(data_loader),total_loss/len(data_loader)\n",
    "\n",
    "\n",
    "        \n",
    "    def fit(self)->None:\n",
    "        print(\"started fitting the model\")\n",
    "        best_loss = 9999999\n",
    "        for epoch in range(self.epochs):\n",
    "            self.model.train()\n",
    "            self.model.to(self.device)\n",
    "            \n",
    "            dice_score_ = 0\n",
    "            loss_ = 0\n",
    "            \n",
    "            for j,data in enumerate(tqdm(self.train_dataloader,total = len(self.train_dataloader))):\n",
    "                input_image_batch = data[0].to(self.device)\n",
    "                mask_batch = data[1].to(self.device)\n",
    "                self.optimizer.zero_grad()\n",
    "                output = self.model(input_image_batch)\n",
    "                loss = self.loss_function(output,mask_batch)#+cfg.LOSS_DICE(output,mask_batch.unsqueeze(1))\n",
    "                loss.backward()\n",
    "                self.optimizer.step()\n",
    "                loss_+=loss.item()\n",
    "                dice_score_+= self.cfg.DiceScore(output.data,mask_batch)\n",
    "\n",
    "            \n",
    "            dice_score_valid,loss_valid, = self.calculate_metrics(self.valid_dataloader)\n",
    "            train_dice = dice_score_/len(self.train_dataloader)\n",
    "            train_loss = loss_/len(self.train_dataloader)\n",
    "            print(f\"train dice score : {train_dice}, train loss {train_loss}\")\n",
    "            print(f\"valid dice score : {dice_score_valid}, valid loss {loss_valid}\")\n",
    "            \n",
    "            self.log.loc[epoch,:] = [f\"fold_{i}_{self.cfg.ENCODER}.pth\",f\"{train_loss}\",f\"{train_dice}\",f\"{loss_valid}\",f\"{dice_score_valid}\"]\n",
    "            self.log.to_csv(self.cfg.MODEL_SAVEPATH+f\"/fold_{i}_{cfg.ENCODER}_CE_Valid_slicing_all.csv\",index=False)\n",
    "\n",
    "            if train_loss < best_loss:\n",
    "                best_loss = train_loss\n",
    "                torch.save(self.model.state_dict(),self.cfg.MODEL_SAVEPATH+f\"/fold_{self.cfg.MODEL_NAME}_{self.cfg.ENCODER}_CE_Valid_slicing_all.pth\")\n",
    "        \n",
    "        \n",
    "        \n",
    "\n",
    "        "
   ]
  },
  {
   "cell_type": "code",
   "execution_count": 11,
   "id": "6d0a151b-24b3-41ee-8cf3-2b09e06e2bd5",
   "metadata": {},
   "outputs": [
    {
     "name": "stdout",
     "output_type": "stream",
     "text": [
      "started fitting the model\n"
     ]
    },
    {
     "data": {
      "application/vnd.jupyter.widget-view+json": {
       "model_id": "a09793c18b584c53854256209dca9576",
       "version_major": 2,
       "version_minor": 0
      },
      "text/plain": [
       "  0%|          | 0/47 [00:00<?, ?it/s]"
      ]
     },
     "metadata": {},
     "output_type": "display_data"
    },
    {
     "data": {
      "application/vnd.jupyter.widget-view+json": {
       "model_id": "0c0668ba8cae4b2580a209178da5762c",
       "version_major": 2,
       "version_minor": 0
      },
      "text/plain": [
       "  0%|          | 0/8 [00:00<?, ?it/s]"
      ]
     },
     "metadata": {},
     "output_type": "display_data"
    },
    {
     "name": "stdout",
     "output_type": "stream",
     "text": [
      "train dice score : 0.14549367129802704, train loss 0.70356880730771\n",
      "valid dice score : 0.15102466940879822, valid loss 0.6046241745352745\n"
     ]
    },
    {
     "data": {
      "application/vnd.jupyter.widget-view+json": {
       "model_id": "1cd0921e39e14a1fa936c61356e8f47f",
       "version_major": 2,
       "version_minor": 0
      },
      "text/plain": [
       "  0%|          | 0/47 [00:00<?, ?it/s]"
      ]
     },
     "metadata": {},
     "output_type": "display_data"
    },
    {
     "data": {
      "application/vnd.jupyter.widget-view+json": {
       "model_id": "bcee3b7ffd0d414bb53e21df6e181a62",
       "version_major": 2,
       "version_minor": 0
      },
      "text/plain": [
       "  0%|          | 0/8 [00:00<?, ?it/s]"
      ]
     },
     "metadata": {},
     "output_type": "display_data"
    },
    {
     "name": "stdout",
     "output_type": "stream",
     "text": [
      "train dice score : 0.1555912047624588, train loss 0.5069651863676436\n",
      "valid dice score : 0.13499605655670166, valid loss 0.49028777331113815\n"
     ]
    },
    {
     "data": {
      "application/vnd.jupyter.widget-view+json": {
       "model_id": "ff994b0856b6475a87e3e29ce249a7e5",
       "version_major": 2,
       "version_minor": 0
      },
      "text/plain": [
       "  0%|          | 0/47 [00:00<?, ?it/s]"
      ]
     },
     "metadata": {},
     "output_type": "display_data"
    },
    {
     "data": {
      "application/vnd.jupyter.widget-view+json": {
       "model_id": "b1466f969cf14e558e7add9e42fbb9e5",
       "version_major": 2,
       "version_minor": 0
      },
      "text/plain": [
       "  0%|          | 0/8 [00:00<?, ?it/s]"
      ]
     },
     "metadata": {},
     "output_type": "display_data"
    },
    {
     "name": "stdout",
     "output_type": "stream",
     "text": [
      "train dice score : 0.162323459982872, train loss 0.3650266496424979\n",
      "valid dice score : 0.16826657950878143, valid loss 0.3502356596291065\n"
     ]
    },
    {
     "data": {
      "application/vnd.jupyter.widget-view+json": {
       "model_id": "0593c6c071d645adb229d93b32b636ba",
       "version_major": 2,
       "version_minor": 0
      },
      "text/plain": [
       "  0%|          | 0/47 [00:00<?, ?it/s]"
      ]
     },
     "metadata": {},
     "output_type": "display_data"
    },
    {
     "data": {
      "application/vnd.jupyter.widget-view+json": {
       "model_id": "777761576ce24c2191fbf33a65acb597",
       "version_major": 2,
       "version_minor": 0
      },
      "text/plain": [
       "  0%|          | 0/8 [00:00<?, ?it/s]"
      ]
     },
     "metadata": {},
     "output_type": "display_data"
    },
    {
     "name": "stdout",
     "output_type": "stream",
     "text": [
      "train dice score : 0.2991184890270233, train loss 0.24406688042143557\n",
      "valid dice score : 0.4026572108268738, valid loss 0.2617147322744131\n"
     ]
    },
    {
     "data": {
      "application/vnd.jupyter.widget-view+json": {
       "model_id": "24bf2428c3cb470d80f68916b75f5f84",
       "version_major": 2,
       "version_minor": 0
      },
      "text/plain": [
       "  0%|          | 0/47 [00:00<?, ?it/s]"
      ]
     },
     "metadata": {},
     "output_type": "display_data"
    },
    {
     "data": {
      "application/vnd.jupyter.widget-view+json": {
       "model_id": "03daf8d890284b69a5c08303b3b6a899",
       "version_major": 2,
       "version_minor": 0
      },
      "text/plain": [
       "  0%|          | 0/8 [00:00<?, ?it/s]"
      ]
     },
     "metadata": {},
     "output_type": "display_data"
    },
    {
     "name": "stdout",
     "output_type": "stream",
     "text": [
      "train dice score : 0.45884042978286743, train loss 0.1622293450413866\n",
      "valid dice score : 0.45979875326156616, valid loss 0.18297969829291105\n"
     ]
    },
    {
     "data": {
      "application/vnd.jupyter.widget-view+json": {
       "model_id": "cf72a4f815ec43cbb5da5152f4865e14",
       "version_major": 2,
       "version_minor": 0
      },
      "text/plain": [
       "  0%|          | 0/47 [00:00<?, ?it/s]"
      ]
     },
     "metadata": {},
     "output_type": "display_data"
    },
    {
     "data": {
      "application/vnd.jupyter.widget-view+json": {
       "model_id": "fe9a01ec4ff7435e84a863ad5e923fb5",
       "version_major": 2,
       "version_minor": 0
      },
      "text/plain": [
       "  0%|          | 0/8 [00:00<?, ?it/s]"
      ]
     },
     "metadata": {},
     "output_type": "display_data"
    },
    {
     "name": "stdout",
     "output_type": "stream",
     "text": [
      "train dice score : 0.5297406911849976, train loss 0.13078120747145186\n",
      "valid dice score : 0.5077509880065918, valid loss 0.17555162589997053\n"
     ]
    },
    {
     "data": {
      "application/vnd.jupyter.widget-view+json": {
       "model_id": "07995c29c7fc4339af00ec24344baffe",
       "version_major": 2,
       "version_minor": 0
      },
      "text/plain": [
       "  0%|          | 0/47 [00:00<?, ?it/s]"
      ]
     },
     "metadata": {},
     "output_type": "display_data"
    },
    {
     "data": {
      "application/vnd.jupyter.widget-view+json": {
       "model_id": "4ca637b0179c43b5a94eb191c684cf32",
       "version_major": 2,
       "version_minor": 0
      },
      "text/plain": [
       "  0%|          | 0/8 [00:00<?, ?it/s]"
      ]
     },
     "metadata": {},
     "output_type": "display_data"
    },
    {
     "name": "stdout",
     "output_type": "stream",
     "text": [
      "train dice score : 0.6000689268112183, train loss 0.10682061536515013\n",
      "valid dice score : 0.5431884527206421, valid loss 0.15840877080336213\n"
     ]
    },
    {
     "data": {
      "application/vnd.jupyter.widget-view+json": {
       "model_id": "0be0ccc4af6e4dd5bbcc221d84c16491",
       "version_major": 2,
       "version_minor": 0
      },
      "text/plain": [
       "  0%|          | 0/47 [00:00<?, ?it/s]"
      ]
     },
     "metadata": {},
     "output_type": "display_data"
    },
    {
     "data": {
      "application/vnd.jupyter.widget-view+json": {
       "model_id": "a19a7369940c4608a686108e6ab59975",
       "version_major": 2,
       "version_minor": 0
      },
      "text/plain": [
       "  0%|          | 0/8 [00:00<?, ?it/s]"
      ]
     },
     "metadata": {},
     "output_type": "display_data"
    },
    {
     "name": "stdout",
     "output_type": "stream",
     "text": [
      "train dice score : 0.6243547797203064, train loss 0.09650277552452494\n",
      "valid dice score : 0.5526847839355469, valid loss 0.13707481743767858\n"
     ]
    },
    {
     "data": {
      "application/vnd.jupyter.widget-view+json": {
       "model_id": "ed0a004a683e461ca8bf6db3eb35d3bb",
       "version_major": 2,
       "version_minor": 0
      },
      "text/plain": [
       "  0%|          | 0/47 [00:00<?, ?it/s]"
      ]
     },
     "metadata": {},
     "output_type": "display_data"
    },
    {
     "data": {
      "application/vnd.jupyter.widget-view+json": {
       "model_id": "c763410a793e4c5eb3511730ab8941db",
       "version_major": 2,
       "version_minor": 0
      },
      "text/plain": [
       "  0%|          | 0/8 [00:00<?, ?it/s]"
      ]
     },
     "metadata": {},
     "output_type": "display_data"
    },
    {
     "name": "stdout",
     "output_type": "stream",
     "text": [
      "train dice score : 0.649639904499054, train loss 0.0887027752209217\n",
      "valid dice score : 0.5567726492881775, valid loss 0.13557483535259962\n"
     ]
    },
    {
     "data": {
      "application/vnd.jupyter.widget-view+json": {
       "model_id": "85a8f5cd5abc4a30ac481fe281c7f03f",
       "version_major": 2,
       "version_minor": 0
      },
      "text/plain": [
       "  0%|          | 0/47 [00:00<?, ?it/s]"
      ]
     },
     "metadata": {},
     "output_type": "display_data"
    },
    {
     "data": {
      "application/vnd.jupyter.widget-view+json": {
       "model_id": "9254038af58a4c2b88a038f710bb149e",
       "version_major": 2,
       "version_minor": 0
      },
      "text/plain": [
       "  0%|          | 0/8 [00:00<?, ?it/s]"
      ]
     },
     "metadata": {},
     "output_type": "display_data"
    },
    {
     "name": "stdout",
     "output_type": "stream",
     "text": [
      "train dice score : 0.6986401677131653, train loss 0.07517618257948692\n",
      "valid dice score : 0.5633401870727539, valid loss 0.13439303822815418\n",
      "started fitting the model\n"
     ]
    },
    {
     "data": {
      "application/vnd.jupyter.widget-view+json": {
       "model_id": "e01da05e57904fd38a919e391d776de6",
       "version_major": 2,
       "version_minor": 0
      },
      "text/plain": [
       "  0%|          | 0/38 [00:00<?, ?it/s]"
      ]
     },
     "metadata": {},
     "output_type": "display_data"
    },
    {
     "data": {
      "application/vnd.jupyter.widget-view+json": {
       "model_id": "6cae5ee1619a43abbd11537b98e3da22",
       "version_major": 2,
       "version_minor": 0
      },
      "text/plain": [
       "  0%|          | 0/17 [00:00<?, ?it/s]"
      ]
     },
     "metadata": {},
     "output_type": "display_data"
    },
    {
     "name": "stdout",
     "output_type": "stream",
     "text": [
      "train dice score : 0.15324977040290833, train loss 0.8544206085957979\n",
      "valid dice score : 0.13735713064670563, valid loss 0.681135892868042\n"
     ]
    },
    {
     "data": {
      "application/vnd.jupyter.widget-view+json": {
       "model_id": "c0455b8a88654ca18623c42c03d5e6fa",
       "version_major": 2,
       "version_minor": 0
      },
      "text/plain": [
       "  0%|          | 0/38 [00:00<?, ?it/s]"
      ]
     },
     "metadata": {},
     "output_type": "display_data"
    },
    {
     "data": {
      "application/vnd.jupyter.widget-view+json": {
       "model_id": "1af0ceedd40f4fb9ab53db2a2c8a488e",
       "version_major": 2,
       "version_minor": 0
      },
      "text/plain": [
       "  0%|          | 0/17 [00:00<?, ?it/s]"
      ]
     },
     "metadata": {},
     "output_type": "display_data"
    },
    {
     "name": "stdout",
     "output_type": "stream",
     "text": [
      "train dice score : 0.16521991789340973, train loss 0.653639576937023\n",
      "valid dice score : 0.14650863409042358, valid loss 0.5488022706087898\n"
     ]
    },
    {
     "data": {
      "application/vnd.jupyter.widget-view+json": {
       "model_id": "5ee0b9b30f0b4561b7e6962b712dc063",
       "version_major": 2,
       "version_minor": 0
      },
      "text/plain": [
       "  0%|          | 0/38 [00:00<?, ?it/s]"
      ]
     },
     "metadata": {},
     "output_type": "display_data"
    },
    {
     "data": {
      "application/vnd.jupyter.widget-view+json": {
       "model_id": "f80cb495fb2f44b9a6dc9505d424c3cb",
       "version_major": 2,
       "version_minor": 0
      },
      "text/plain": [
       "  0%|          | 0/17 [00:00<?, ?it/s]"
      ]
     },
     "metadata": {},
     "output_type": "display_data"
    },
    {
     "name": "stdout",
     "output_type": "stream",
     "text": [
      "train dice score : 0.16448916494846344, train loss 0.4737762777428878\n",
      "valid dice score : 0.14905805885791779, valid loss 0.45816096488167257\n"
     ]
    },
    {
     "data": {
      "application/vnd.jupyter.widget-view+json": {
       "model_id": "cea5a6732d864f3ba2f720ffecdf0ef5",
       "version_major": 2,
       "version_minor": 0
      },
      "text/plain": [
       "  0%|          | 0/38 [00:00<?, ?it/s]"
      ]
     },
     "metadata": {},
     "output_type": "display_data"
    },
    {
     "data": {
      "application/vnd.jupyter.widget-view+json": {
       "model_id": "5ff8af9bc0bf44c0ba01cd45b8d111ef",
       "version_major": 2,
       "version_minor": 0
      },
      "text/plain": [
       "  0%|          | 0/17 [00:00<?, ?it/s]"
      ]
     },
     "metadata": {},
     "output_type": "display_data"
    },
    {
     "name": "stdout",
     "output_type": "stream",
     "text": [
      "train dice score : 0.18631479144096375, train loss 0.35881907845798294\n",
      "valid dice score : 0.18868623673915863, valid loss 0.32867976321893577\n"
     ]
    },
    {
     "data": {
      "application/vnd.jupyter.widget-view+json": {
       "model_id": "823bede4b798427298394a0f133cfc4b",
       "version_major": 2,
       "version_minor": 0
      },
      "text/plain": [
       "  0%|          | 0/38 [00:00<?, ?it/s]"
      ]
     },
     "metadata": {},
     "output_type": "display_data"
    },
    {
     "data": {
      "application/vnd.jupyter.widget-view+json": {
       "model_id": "af6fbd606fc84ad2a8cf8c678421548c",
       "version_major": 2,
       "version_minor": 0
      },
      "text/plain": [
       "  0%|          | 0/17 [00:00<?, ?it/s]"
      ]
     },
     "metadata": {},
     "output_type": "display_data"
    },
    {
     "name": "stdout",
     "output_type": "stream",
     "text": [
      "train dice score : 0.2802342474460602, train loss 0.2629535409965013\n",
      "valid dice score : 0.36661335825920105, valid loss 0.20789140199913697\n"
     ]
    },
    {
     "data": {
      "application/vnd.jupyter.widget-view+json": {
       "model_id": "079b6ddf3a47434b8f4055467dfcf2d5",
       "version_major": 2,
       "version_minor": 0
      },
      "text/plain": [
       "  0%|          | 0/38 [00:00<?, ?it/s]"
      ]
     },
     "metadata": {},
     "output_type": "display_data"
    },
    {
     "data": {
      "application/vnd.jupyter.widget-view+json": {
       "model_id": "7d23ce5e26f8412ca4060abe289da571",
       "version_major": 2,
       "version_minor": 0
      },
      "text/plain": [
       "  0%|          | 0/17 [00:00<?, ?it/s]"
      ]
     },
     "metadata": {},
     "output_type": "display_data"
    },
    {
     "name": "stdout",
     "output_type": "stream",
     "text": [
      "train dice score : 0.4229559600353241, train loss 0.19155175121206985\n",
      "valid dice score : 0.4125586152076721, valid loss 0.16200096729923696\n"
     ]
    },
    {
     "data": {
      "application/vnd.jupyter.widget-view+json": {
       "model_id": "21b43bc6cd124c95b32ccf60b6dda7b1",
       "version_major": 2,
       "version_minor": 0
      },
      "text/plain": [
       "  0%|          | 0/38 [00:00<?, ?it/s]"
      ]
     },
     "metadata": {},
     "output_type": "display_data"
    },
    {
     "data": {
      "application/vnd.jupyter.widget-view+json": {
       "model_id": "a9b3fde4168b4beab0de57b969abcd6c",
       "version_major": 2,
       "version_minor": 0
      },
      "text/plain": [
       "  0%|          | 0/17 [00:00<?, ?it/s]"
      ]
     },
     "metadata": {},
     "output_type": "display_data"
    },
    {
     "name": "stdout",
     "output_type": "stream",
     "text": [
      "train dice score : 0.5042730569839478, train loss 0.15347032974425115\n",
      "valid dice score : 0.48493537306785583, valid loss 0.12307130282416064\n"
     ]
    },
    {
     "data": {
      "application/vnd.jupyter.widget-view+json": {
       "model_id": "6baf9e94c1ef439486bd07da51c9ddd1",
       "version_major": 2,
       "version_minor": 0
      },
      "text/plain": [
       "  0%|          | 0/38 [00:00<?, ?it/s]"
      ]
     },
     "metadata": {},
     "output_type": "display_data"
    },
    {
     "data": {
      "application/vnd.jupyter.widget-view+json": {
       "model_id": "1c34d45bd6404bb187b521823f4d5815",
       "version_major": 2,
       "version_minor": 0
      },
      "text/plain": [
       "  0%|          | 0/17 [00:00<?, ?it/s]"
      ]
     },
     "metadata": {},
     "output_type": "display_data"
    },
    {
     "name": "stdout",
     "output_type": "stream",
     "text": [
      "train dice score : 0.5407430529594421, train loss 0.13195736510188957\n",
      "valid dice score : 0.5336718559265137, valid loss 0.10778799214783837\n"
     ]
    },
    {
     "data": {
      "application/vnd.jupyter.widget-view+json": {
       "model_id": "ab38d3a6d0874bf7adfd63a3b997192f",
       "version_major": 2,
       "version_minor": 0
      },
      "text/plain": [
       "  0%|          | 0/38 [00:00<?, ?it/s]"
      ]
     },
     "metadata": {},
     "output_type": "display_data"
    },
    {
     "data": {
      "application/vnd.jupyter.widget-view+json": {
       "model_id": "a5ee3292b9ba458c9c2555103e3e4126",
       "version_major": 2,
       "version_minor": 0
      },
      "text/plain": [
       "  0%|          | 0/17 [00:00<?, ?it/s]"
      ]
     },
     "metadata": {},
     "output_type": "display_data"
    },
    {
     "name": "stdout",
     "output_type": "stream",
     "text": [
      "train dice score : 0.5959455370903015, train loss 0.11315887107660896\n",
      "valid dice score : 0.5672350525856018, valid loss 0.09841509163379669\n"
     ]
    },
    {
     "data": {
      "application/vnd.jupyter.widget-view+json": {
       "model_id": "fe6d81af2dcb4c7abe56e1b8ff101282",
       "version_major": 2,
       "version_minor": 0
      },
      "text/plain": [
       "  0%|          | 0/38 [00:00<?, ?it/s]"
      ]
     },
     "metadata": {},
     "output_type": "display_data"
    },
    {
     "data": {
      "application/vnd.jupyter.widget-view+json": {
       "model_id": "febefa0173cb42768ee4b3f1cfdcb8f2",
       "version_major": 2,
       "version_minor": 0
      },
      "text/plain": [
       "  0%|          | 0/17 [00:00<?, ?it/s]"
      ]
     },
     "metadata": {},
     "output_type": "display_data"
    },
    {
     "name": "stdout",
     "output_type": "stream",
     "text": [
      "train dice score : 0.6151795983314514, train loss 0.10684863654406447\n",
      "valid dice score : 0.6183412671089172, valid loss 0.09275092820034307\n",
      "started fitting the model\n"
     ]
    },
    {
     "data": {
      "application/vnd.jupyter.widget-view+json": {
       "model_id": "479f5b2d7e2048acb581f849d3a475dd",
       "version_major": 2,
       "version_minor": 0
      },
      "text/plain": [
       "  0%|          | 0/38 [00:00<?, ?it/s]"
      ]
     },
     "metadata": {},
     "output_type": "display_data"
    },
    {
     "data": {
      "application/vnd.jupyter.widget-view+json": {
       "model_id": "5ca2105cf87b46e3ae41945885fb44f5",
       "version_major": 2,
       "version_minor": 0
      },
      "text/plain": [
       "  0%|          | 0/17 [00:00<?, ?it/s]"
      ]
     },
     "metadata": {},
     "output_type": "display_data"
    },
    {
     "name": "stdout",
     "output_type": "stream",
     "text": [
      "train dice score : 0.134597510099411, train loss 0.5266858135399065\n",
      "valid dice score : 0.1393374353647232, valid loss 0.5607414561159471\n"
     ]
    },
    {
     "data": {
      "application/vnd.jupyter.widget-view+json": {
       "model_id": "b21d5e09f0a34cccbcdf46cedb07d238",
       "version_major": 2,
       "version_minor": 0
      },
      "text/plain": [
       "  0%|          | 0/38 [00:00<?, ?it/s]"
      ]
     },
     "metadata": {},
     "output_type": "display_data"
    },
    {
     "data": {
      "application/vnd.jupyter.widget-view+json": {
       "model_id": "d19be48351b944b88cdacfc187271b28",
       "version_major": 2,
       "version_minor": 0
      },
      "text/plain": [
       "  0%|          | 0/17 [00:00<?, ?it/s]"
      ]
     },
     "metadata": {},
     "output_type": "display_data"
    },
    {
     "name": "stdout",
     "output_type": "stream",
     "text": [
      "train dice score : 0.17195294797420502, train loss 0.3943428561875695\n",
      "valid dice score : 0.13538770377635956, valid loss 0.45143697542302746\n"
     ]
    },
    {
     "data": {
      "application/vnd.jupyter.widget-view+json": {
       "model_id": "0f579f5236284ad1af97ca17cdf88cbd",
       "version_major": 2,
       "version_minor": 0
      },
      "text/plain": [
       "  0%|          | 0/38 [00:00<?, ?it/s]"
      ]
     },
     "metadata": {},
     "output_type": "display_data"
    },
    {
     "data": {
      "application/vnd.jupyter.widget-view+json": {
       "model_id": "758335dfbaa14af4868611bf853c3605",
       "version_major": 2,
       "version_minor": 0
      },
      "text/plain": [
       "  0%|          | 0/17 [00:00<?, ?it/s]"
      ]
     },
     "metadata": {},
     "output_type": "display_data"
    },
    {
     "name": "stdout",
     "output_type": "stream",
     "text": [
      "train dice score : 0.17245040833950043, train loss 0.3069569288115752\n",
      "valid dice score : 0.1774313598871231, valid loss 0.3543376221376307\n"
     ]
    },
    {
     "data": {
      "application/vnd.jupyter.widget-view+json": {
       "model_id": "6eb464dd12e04ce497a469b27d694dda",
       "version_major": 2,
       "version_minor": 0
      },
      "text/plain": [
       "  0%|          | 0/38 [00:00<?, ?it/s]"
      ]
     },
     "metadata": {},
     "output_type": "display_data"
    },
    {
     "data": {
      "application/vnd.jupyter.widget-view+json": {
       "model_id": "47c8f1ad0d544fb6841900bcf815c4a0",
       "version_major": 2,
       "version_minor": 0
      },
      "text/plain": [
       "  0%|          | 0/17 [00:00<?, ?it/s]"
      ]
     },
     "metadata": {},
     "output_type": "display_data"
    },
    {
     "name": "stdout",
     "output_type": "stream",
     "text": [
      "train dice score : 0.2984291613101959, train loss 0.21653759989299273\n",
      "valid dice score : 0.3688996732234955, valid loss 0.23774818199522355\n"
     ]
    },
    {
     "data": {
      "application/vnd.jupyter.widget-view+json": {
       "model_id": "c879fe446c7f4a47bbcd8a2cd012fbbb",
       "version_major": 2,
       "version_minor": 0
      },
      "text/plain": [
       "  0%|          | 0/38 [00:00<?, ?it/s]"
      ]
     },
     "metadata": {},
     "output_type": "display_data"
    },
    {
     "data": {
      "application/vnd.jupyter.widget-view+json": {
       "model_id": "f4ea48727eec41b3ae98b75711aec930",
       "version_major": 2,
       "version_minor": 0
      },
      "text/plain": [
       "  0%|          | 0/17 [00:00<?, ?it/s]"
      ]
     },
     "metadata": {},
     "output_type": "display_data"
    },
    {
     "name": "stdout",
     "output_type": "stream",
     "text": [
      "train dice score : 0.43144094944000244, train loss 0.15550456333317256\n",
      "valid dice score : 0.4702044427394867, valid loss 0.1635129723478766\n"
     ]
    },
    {
     "data": {
      "application/vnd.jupyter.widget-view+json": {
       "model_id": "e3046401abcc489385da325283cb8b83",
       "version_major": 2,
       "version_minor": 0
      },
      "text/plain": [
       "  0%|          | 0/38 [00:00<?, ?it/s]"
      ]
     },
     "metadata": {},
     "output_type": "display_data"
    },
    {
     "data": {
      "application/vnd.jupyter.widget-view+json": {
       "model_id": "359715c520564796a1b2b63552c05675",
       "version_major": 2,
       "version_minor": 0
      },
      "text/plain": [
       "  0%|          | 0/17 [00:00<?, ?it/s]"
      ]
     },
     "metadata": {},
     "output_type": "display_data"
    },
    {
     "name": "stdout",
     "output_type": "stream",
     "text": [
      "train dice score : 0.4933711588382721, train loss 0.13464617454691938\n",
      "valid dice score : 0.5087540149688721, valid loss 0.14304827372817433\n"
     ]
    },
    {
     "data": {
      "application/vnd.jupyter.widget-view+json": {
       "model_id": "1ea316c1c4c8477cbadf2c986d105d30",
       "version_major": 2,
       "version_minor": 0
      },
      "text/plain": [
       "  0%|          | 0/38 [00:00<?, ?it/s]"
      ]
     },
     "metadata": {},
     "output_type": "display_data"
    },
    {
     "data": {
      "application/vnd.jupyter.widget-view+json": {
       "model_id": "2c0a4d8b67294f98a5fd465ede0b5e51",
       "version_major": 2,
       "version_minor": 0
      },
      "text/plain": [
       "  0%|          | 0/17 [00:00<?, ?it/s]"
      ]
     },
     "metadata": {},
     "output_type": "display_data"
    },
    {
     "name": "stdout",
     "output_type": "stream",
     "text": [
      "train dice score : 0.5690075755119324, train loss 0.11373356965027358\n",
      "valid dice score : 0.5691515803337097, valid loss 0.1253201698555666\n"
     ]
    },
    {
     "data": {
      "application/vnd.jupyter.widget-view+json": {
       "model_id": "ca9a883a5be64f6083da5170d408b375",
       "version_major": 2,
       "version_minor": 0
      },
      "text/plain": [
       "  0%|          | 0/38 [00:00<?, ?it/s]"
      ]
     },
     "metadata": {},
     "output_type": "display_data"
    },
    {
     "data": {
      "application/vnd.jupyter.widget-view+json": {
       "model_id": "63c1d9ba06834dc6b01df9258ffbdb01",
       "version_major": 2,
       "version_minor": 0
      },
      "text/plain": [
       "  0%|          | 0/17 [00:00<?, ?it/s]"
      ]
     },
     "metadata": {},
     "output_type": "display_data"
    },
    {
     "name": "stdout",
     "output_type": "stream",
     "text": [
      "train dice score : 0.6395724415779114, train loss 0.09855852040805314\n",
      "valid dice score : 0.6070603132247925, valid loss 0.12679636631818378\n"
     ]
    },
    {
     "data": {
      "application/vnd.jupyter.widget-view+json": {
       "model_id": "8c08cc8e33874ddfbb03b59c6486db39",
       "version_major": 2,
       "version_minor": 0
      },
      "text/plain": [
       "  0%|          | 0/38 [00:00<?, ?it/s]"
      ]
     },
     "metadata": {},
     "output_type": "display_data"
    },
    {
     "ename": "KeyboardInterrupt",
     "evalue": "",
     "output_type": "error",
     "traceback": [
      "\u001b[0;31m---------------------------------------------------------------------------\u001b[0m",
      "\u001b[0;31mKeyboardInterrupt\u001b[0m                         Traceback (most recent call last)",
      "\u001b[0;32m/tmp/ipykernel_246081/3418220343.py\u001b[0m in \u001b[0;36m<module>\u001b[0;34m\u001b[0m\n\u001b[1;32m      9\u001b[0m     \u001b[0mcfg\u001b[0m\u001b[0;34m.\u001b[0m\u001b[0mMODEL_NAME\u001b[0m \u001b[0;34m=\u001b[0m \u001b[0mstr\u001b[0m\u001b[0;34m(\u001b[0m\u001b[0mi\u001b[0m\u001b[0;34m)\u001b[0m\u001b[0;34m\u001b[0m\u001b[0;34m\u001b[0m\u001b[0m\n\u001b[1;32m     10\u001b[0m     \u001b[0mtrainer\u001b[0m \u001b[0;34m=\u001b[0m\u001b[0mTrainer\u001b[0m\u001b[0;34m(\u001b[0m\u001b[0mcfg\u001b[0m\u001b[0;34m,\u001b[0m\u001b[0mtrain_dataloader\u001b[0m\u001b[0;34m,\u001b[0m\u001b[0mvalid_dataloader\u001b[0m\u001b[0;34m)\u001b[0m\u001b[0;34m\u001b[0m\u001b[0;34m\u001b[0m\u001b[0m\n\u001b[0;32m---> 11\u001b[0;31m     \u001b[0mtrainer\u001b[0m\u001b[0;34m.\u001b[0m\u001b[0mfit\u001b[0m\u001b[0;34m(\u001b[0m\u001b[0;34m)\u001b[0m\u001b[0;34m\u001b[0m\u001b[0;34m\u001b[0m\u001b[0m\n\u001b[0m",
      "\u001b[0;32m/tmp/ipykernel_246081/3396365611.py\u001b[0m in \u001b[0;36mfit\u001b[0;34m(self)\u001b[0m\n\u001b[1;32m     54\u001b[0m                 \u001b[0mmask_batch\u001b[0m \u001b[0;34m=\u001b[0m \u001b[0mdata\u001b[0m\u001b[0;34m[\u001b[0m\u001b[0;36m1\u001b[0m\u001b[0;34m]\u001b[0m\u001b[0;34m.\u001b[0m\u001b[0mto\u001b[0m\u001b[0;34m(\u001b[0m\u001b[0mself\u001b[0m\u001b[0;34m.\u001b[0m\u001b[0mdevice\u001b[0m\u001b[0;34m)\u001b[0m\u001b[0;34m\u001b[0m\u001b[0;34m\u001b[0m\u001b[0m\n\u001b[1;32m     55\u001b[0m                 \u001b[0mself\u001b[0m\u001b[0;34m.\u001b[0m\u001b[0moptimizer\u001b[0m\u001b[0;34m.\u001b[0m\u001b[0mzero_grad\u001b[0m\u001b[0;34m(\u001b[0m\u001b[0;34m)\u001b[0m\u001b[0;34m\u001b[0m\u001b[0;34m\u001b[0m\u001b[0m\n\u001b[0;32m---> 56\u001b[0;31m                 \u001b[0moutput\u001b[0m \u001b[0;34m=\u001b[0m \u001b[0mself\u001b[0m\u001b[0;34m.\u001b[0m\u001b[0mmodel\u001b[0m\u001b[0;34m(\u001b[0m\u001b[0minput_image_batch\u001b[0m\u001b[0;34m)\u001b[0m\u001b[0;34m\u001b[0m\u001b[0;34m\u001b[0m\u001b[0m\n\u001b[0m\u001b[1;32m     57\u001b[0m                 \u001b[0mloss\u001b[0m \u001b[0;34m=\u001b[0m \u001b[0mself\u001b[0m\u001b[0;34m.\u001b[0m\u001b[0mloss_function\u001b[0m\u001b[0;34m(\u001b[0m\u001b[0moutput\u001b[0m\u001b[0;34m,\u001b[0m\u001b[0mmask_batch\u001b[0m\u001b[0;34m)\u001b[0m\u001b[0;31m#+cfg.LOSS_DICE(output,mask_batch.unsqueeze(1))\u001b[0m\u001b[0;34m\u001b[0m\u001b[0;34m\u001b[0m\u001b[0m\n\u001b[1;32m     58\u001b[0m                 \u001b[0mloss\u001b[0m\u001b[0;34m.\u001b[0m\u001b[0mbackward\u001b[0m\u001b[0;34m(\u001b[0m\u001b[0;34m)\u001b[0m\u001b[0;34m\u001b[0m\u001b[0;34m\u001b[0m\u001b[0m\n",
      "\u001b[0;32m/N/project/DL_MRI/Myocarditis-segmentation/vm_sripad/lib/python3.9/site-packages/torch/nn/modules/module.py\u001b[0m in \u001b[0;36m_call_impl\u001b[0;34m(self, *input, **kwargs)\u001b[0m\n\u001b[1;32m   1100\u001b[0m         if not (self._backward_hooks or self._forward_hooks or self._forward_pre_hooks or _global_backward_hooks\n\u001b[1;32m   1101\u001b[0m                 or _global_forward_hooks or _global_forward_pre_hooks):\n\u001b[0;32m-> 1102\u001b[0;31m             \u001b[0;32mreturn\u001b[0m \u001b[0mforward_call\u001b[0m\u001b[0;34m(\u001b[0m\u001b[0;34m*\u001b[0m\u001b[0minput\u001b[0m\u001b[0;34m,\u001b[0m \u001b[0;34m**\u001b[0m\u001b[0mkwargs\u001b[0m\u001b[0;34m)\u001b[0m\u001b[0;34m\u001b[0m\u001b[0;34m\u001b[0m\u001b[0m\n\u001b[0m\u001b[1;32m   1103\u001b[0m         \u001b[0;31m# Do not call functions when jit is used\u001b[0m\u001b[0;34m\u001b[0m\u001b[0;34m\u001b[0m\u001b[0;34m\u001b[0m\u001b[0m\n\u001b[1;32m   1104\u001b[0m         \u001b[0mfull_backward_hooks\u001b[0m\u001b[0;34m,\u001b[0m \u001b[0mnon_full_backward_hooks\u001b[0m \u001b[0;34m=\u001b[0m \u001b[0;34m[\u001b[0m\u001b[0;34m]\u001b[0m\u001b[0;34m,\u001b[0m \u001b[0;34m[\u001b[0m\u001b[0;34m]\u001b[0m\u001b[0;34m\u001b[0m\u001b[0;34m\u001b[0m\u001b[0m\n",
      "\u001b[0;32m/N/project/DL_MRI/Myocarditis-segmentation/vm_sripad/lib/python3.9/site-packages/segmentation_models_pytorch/base/model.py\u001b[0m in \u001b[0;36mforward\u001b[0;34m(self, x)\u001b[0m\n\u001b[1;32m     13\u001b[0m     \u001b[0;32mdef\u001b[0m \u001b[0mforward\u001b[0m\u001b[0;34m(\u001b[0m\u001b[0mself\u001b[0m\u001b[0;34m,\u001b[0m \u001b[0mx\u001b[0m\u001b[0;34m)\u001b[0m\u001b[0;34m:\u001b[0m\u001b[0;34m\u001b[0m\u001b[0;34m\u001b[0m\u001b[0m\n\u001b[1;32m     14\u001b[0m         \u001b[0;34m\"\"\"Sequentially pass `x` trough model`s encoder, decoder and heads\"\"\"\u001b[0m\u001b[0;34m\u001b[0m\u001b[0;34m\u001b[0m\u001b[0m\n\u001b[0;32m---> 15\u001b[0;31m         \u001b[0mfeatures\u001b[0m \u001b[0;34m=\u001b[0m \u001b[0mself\u001b[0m\u001b[0;34m.\u001b[0m\u001b[0mencoder\u001b[0m\u001b[0;34m(\u001b[0m\u001b[0mx\u001b[0m\u001b[0;34m)\u001b[0m\u001b[0;34m\u001b[0m\u001b[0;34m\u001b[0m\u001b[0m\n\u001b[0m\u001b[1;32m     16\u001b[0m         \u001b[0mdecoder_output\u001b[0m \u001b[0;34m=\u001b[0m \u001b[0mself\u001b[0m\u001b[0;34m.\u001b[0m\u001b[0mdecoder\u001b[0m\u001b[0;34m(\u001b[0m\u001b[0;34m*\u001b[0m\u001b[0mfeatures\u001b[0m\u001b[0;34m)\u001b[0m\u001b[0;34m\u001b[0m\u001b[0;34m\u001b[0m\u001b[0m\n\u001b[1;32m     17\u001b[0m \u001b[0;34m\u001b[0m\u001b[0m\n",
      "\u001b[0;32m/N/project/DL_MRI/Myocarditis-segmentation/vm_sripad/lib/python3.9/site-packages/torch/nn/modules/module.py\u001b[0m in \u001b[0;36m_call_impl\u001b[0;34m(self, *input, **kwargs)\u001b[0m\n\u001b[1;32m   1100\u001b[0m         if not (self._backward_hooks or self._forward_hooks or self._forward_pre_hooks or _global_backward_hooks\n\u001b[1;32m   1101\u001b[0m                 or _global_forward_hooks or _global_forward_pre_hooks):\n\u001b[0;32m-> 1102\u001b[0;31m             \u001b[0;32mreturn\u001b[0m \u001b[0mforward_call\u001b[0m\u001b[0;34m(\u001b[0m\u001b[0;34m*\u001b[0m\u001b[0minput\u001b[0m\u001b[0;34m,\u001b[0m \u001b[0;34m**\u001b[0m\u001b[0mkwargs\u001b[0m\u001b[0;34m)\u001b[0m\u001b[0;34m\u001b[0m\u001b[0;34m\u001b[0m\u001b[0m\n\u001b[0m\u001b[1;32m   1103\u001b[0m         \u001b[0;31m# Do not call functions when jit is used\u001b[0m\u001b[0;34m\u001b[0m\u001b[0;34m\u001b[0m\u001b[0;34m\u001b[0m\u001b[0m\n\u001b[1;32m   1104\u001b[0m         \u001b[0mfull_backward_hooks\u001b[0m\u001b[0;34m,\u001b[0m \u001b[0mnon_full_backward_hooks\u001b[0m \u001b[0;34m=\u001b[0m \u001b[0;34m[\u001b[0m\u001b[0;34m]\u001b[0m\u001b[0;34m,\u001b[0m \u001b[0;34m[\u001b[0m\u001b[0;34m]\u001b[0m\u001b[0;34m\u001b[0m\u001b[0;34m\u001b[0m\u001b[0m\n",
      "\u001b[0;32m/N/project/DL_MRI/Myocarditis-segmentation/vm_sripad/lib/python3.9/site-packages/segmentation_models_pytorch/encoders/efficientnet.py\u001b[0m in \u001b[0;36mforward\u001b[0;34m(self, x)\u001b[0m\n\u001b[1;32m     71\u001b[0m                     \u001b[0mdrop_connect\u001b[0m \u001b[0;34m=\u001b[0m \u001b[0mdrop_connect_rate\u001b[0m \u001b[0;34m*\u001b[0m \u001b[0mblock_number\u001b[0m \u001b[0;34m/\u001b[0m \u001b[0mlen\u001b[0m\u001b[0;34m(\u001b[0m\u001b[0mself\u001b[0m\u001b[0;34m.\u001b[0m\u001b[0m_blocks\u001b[0m\u001b[0;34m)\u001b[0m\u001b[0;34m\u001b[0m\u001b[0;34m\u001b[0m\u001b[0m\n\u001b[1;32m     72\u001b[0m                     \u001b[0mblock_number\u001b[0m \u001b[0;34m+=\u001b[0m \u001b[0;36m1.\u001b[0m\u001b[0;34m\u001b[0m\u001b[0;34m\u001b[0m\u001b[0m\n\u001b[0;32m---> 73\u001b[0;31m                     \u001b[0mx\u001b[0m \u001b[0;34m=\u001b[0m \u001b[0mmodule\u001b[0m\u001b[0;34m(\u001b[0m\u001b[0mx\u001b[0m\u001b[0;34m,\u001b[0m \u001b[0mdrop_connect\u001b[0m\u001b[0;34m)\u001b[0m\u001b[0;34m\u001b[0m\u001b[0;34m\u001b[0m\u001b[0m\n\u001b[0m\u001b[1;32m     74\u001b[0m \u001b[0;34m\u001b[0m\u001b[0m\n\u001b[1;32m     75\u001b[0m             \u001b[0mfeatures\u001b[0m\u001b[0;34m.\u001b[0m\u001b[0mappend\u001b[0m\u001b[0;34m(\u001b[0m\u001b[0mx\u001b[0m\u001b[0;34m)\u001b[0m\u001b[0;34m\u001b[0m\u001b[0;34m\u001b[0m\u001b[0m\n",
      "\u001b[0;32m/N/project/DL_MRI/Myocarditis-segmentation/vm_sripad/lib/python3.9/site-packages/torch/nn/modules/module.py\u001b[0m in \u001b[0;36m_call_impl\u001b[0;34m(self, *input, **kwargs)\u001b[0m\n\u001b[1;32m   1100\u001b[0m         if not (self._backward_hooks or self._forward_hooks or self._forward_pre_hooks or _global_backward_hooks\n\u001b[1;32m   1101\u001b[0m                 or _global_forward_hooks or _global_forward_pre_hooks):\n\u001b[0;32m-> 1102\u001b[0;31m             \u001b[0;32mreturn\u001b[0m \u001b[0mforward_call\u001b[0m\u001b[0;34m(\u001b[0m\u001b[0;34m*\u001b[0m\u001b[0minput\u001b[0m\u001b[0;34m,\u001b[0m \u001b[0;34m**\u001b[0m\u001b[0mkwargs\u001b[0m\u001b[0;34m)\u001b[0m\u001b[0;34m\u001b[0m\u001b[0;34m\u001b[0m\u001b[0m\n\u001b[0m\u001b[1;32m   1103\u001b[0m         \u001b[0;31m# Do not call functions when jit is used\u001b[0m\u001b[0;34m\u001b[0m\u001b[0;34m\u001b[0m\u001b[0;34m\u001b[0m\u001b[0m\n\u001b[1;32m   1104\u001b[0m         \u001b[0mfull_backward_hooks\u001b[0m\u001b[0;34m,\u001b[0m \u001b[0mnon_full_backward_hooks\u001b[0m \u001b[0;34m=\u001b[0m \u001b[0;34m[\u001b[0m\u001b[0;34m]\u001b[0m\u001b[0;34m,\u001b[0m \u001b[0;34m[\u001b[0m\u001b[0;34m]\u001b[0m\u001b[0;34m\u001b[0m\u001b[0;34m\u001b[0m\u001b[0m\n",
      "\u001b[0;32m/N/project/DL_MRI/Myocarditis-segmentation/vm_sripad/lib/python3.9/site-packages/efficientnet_pytorch/model.py\u001b[0m in \u001b[0;36mforward\u001b[0;34m(self, inputs, drop_connect_rate)\u001b[0m\n\u001b[1;32m     84\u001b[0m             \u001b[0mx\u001b[0m \u001b[0;34m=\u001b[0m \u001b[0mtorch\u001b[0m\u001b[0;34m.\u001b[0m\u001b[0msigmoid\u001b[0m\u001b[0;34m(\u001b[0m\u001b[0mx_squeezed\u001b[0m\u001b[0;34m)\u001b[0m \u001b[0;34m*\u001b[0m \u001b[0mx\u001b[0m\u001b[0;34m\u001b[0m\u001b[0;34m\u001b[0m\u001b[0m\n\u001b[1;32m     85\u001b[0m \u001b[0;34m\u001b[0m\u001b[0m\n\u001b[0;32m---> 86\u001b[0;31m         \u001b[0mx\u001b[0m \u001b[0;34m=\u001b[0m \u001b[0mself\u001b[0m\u001b[0;34m.\u001b[0m\u001b[0m_bn2\u001b[0m\u001b[0;34m(\u001b[0m\u001b[0mself\u001b[0m\u001b[0;34m.\u001b[0m\u001b[0m_project_conv\u001b[0m\u001b[0;34m(\u001b[0m\u001b[0mx\u001b[0m\u001b[0;34m)\u001b[0m\u001b[0;34m)\u001b[0m\u001b[0;34m\u001b[0m\u001b[0;34m\u001b[0m\u001b[0m\n\u001b[0m\u001b[1;32m     87\u001b[0m \u001b[0;34m\u001b[0m\u001b[0m\n\u001b[1;32m     88\u001b[0m         \u001b[0;31m# Skip connection and drop connect\u001b[0m\u001b[0;34m\u001b[0m\u001b[0;34m\u001b[0m\u001b[0;34m\u001b[0m\u001b[0m\n",
      "\u001b[0;32m/N/project/DL_MRI/Myocarditis-segmentation/vm_sripad/lib/python3.9/site-packages/torch/nn/modules/module.py\u001b[0m in \u001b[0;36m_call_impl\u001b[0;34m(self, *input, **kwargs)\u001b[0m\n\u001b[1;32m   1100\u001b[0m         if not (self._backward_hooks or self._forward_hooks or self._forward_pre_hooks or _global_backward_hooks\n\u001b[1;32m   1101\u001b[0m                 or _global_forward_hooks or _global_forward_pre_hooks):\n\u001b[0;32m-> 1102\u001b[0;31m             \u001b[0;32mreturn\u001b[0m \u001b[0mforward_call\u001b[0m\u001b[0;34m(\u001b[0m\u001b[0;34m*\u001b[0m\u001b[0minput\u001b[0m\u001b[0;34m,\u001b[0m \u001b[0;34m**\u001b[0m\u001b[0mkwargs\u001b[0m\u001b[0;34m)\u001b[0m\u001b[0;34m\u001b[0m\u001b[0;34m\u001b[0m\u001b[0m\n\u001b[0m\u001b[1;32m   1103\u001b[0m         \u001b[0;31m# Do not call functions when jit is used\u001b[0m\u001b[0;34m\u001b[0m\u001b[0;34m\u001b[0m\u001b[0;34m\u001b[0m\u001b[0m\n\u001b[1;32m   1104\u001b[0m         \u001b[0mfull_backward_hooks\u001b[0m\u001b[0;34m,\u001b[0m \u001b[0mnon_full_backward_hooks\u001b[0m \u001b[0;34m=\u001b[0m \u001b[0;34m[\u001b[0m\u001b[0;34m]\u001b[0m\u001b[0;34m,\u001b[0m \u001b[0;34m[\u001b[0m\u001b[0;34m]\u001b[0m\u001b[0;34m\u001b[0m\u001b[0;34m\u001b[0m\u001b[0m\n",
      "\u001b[0;32m/N/project/DL_MRI/Myocarditis-segmentation/vm_sripad/lib/python3.9/site-packages/torch/nn/modules/batchnorm.py\u001b[0m in \u001b[0;36mforward\u001b[0;34m(self, input)\u001b[0m\n\u001b[1;32m    166\u001b[0m         \u001b[0mused\u001b[0m \u001b[0;32mfor\u001b[0m \u001b[0mnormalization\u001b[0m \u001b[0;34m(\u001b[0m\u001b[0mi\u001b[0m\u001b[0;34m.\u001b[0m\u001b[0me\u001b[0m\u001b[0;34m.\u001b[0m \u001b[0;32min\u001b[0m \u001b[0meval\u001b[0m \u001b[0mmode\u001b[0m \u001b[0mwhen\u001b[0m \u001b[0mbuffers\u001b[0m \u001b[0mare\u001b[0m \u001b[0;32mnot\u001b[0m \u001b[0;32mNone\u001b[0m\u001b[0;34m)\u001b[0m\u001b[0;34m.\u001b[0m\u001b[0;34m\u001b[0m\u001b[0;34m\u001b[0m\u001b[0m\n\u001b[1;32m    167\u001b[0m         \"\"\"\n\u001b[0;32m--> 168\u001b[0;31m         return F.batch_norm(\n\u001b[0m\u001b[1;32m    169\u001b[0m             \u001b[0minput\u001b[0m\u001b[0;34m,\u001b[0m\u001b[0;34m\u001b[0m\u001b[0;34m\u001b[0m\u001b[0m\n\u001b[1;32m    170\u001b[0m             \u001b[0;31m# If buffers are not to be tracked, ensure that they won't be updated\u001b[0m\u001b[0;34m\u001b[0m\u001b[0;34m\u001b[0m\u001b[0;34m\u001b[0m\u001b[0m\n",
      "\u001b[0;32m/N/project/DL_MRI/Myocarditis-segmentation/vm_sripad/lib/python3.9/site-packages/torch/nn/functional.py\u001b[0m in \u001b[0;36mbatch_norm\u001b[0;34m(input, running_mean, running_var, weight, bias, training, momentum, eps)\u001b[0m\n\u001b[1;32m   2280\u001b[0m         \u001b[0m_verify_batch_size\u001b[0m\u001b[0;34m(\u001b[0m\u001b[0minput\u001b[0m\u001b[0;34m.\u001b[0m\u001b[0msize\u001b[0m\u001b[0;34m(\u001b[0m\u001b[0;34m)\u001b[0m\u001b[0;34m)\u001b[0m\u001b[0;34m\u001b[0m\u001b[0;34m\u001b[0m\u001b[0m\n\u001b[1;32m   2281\u001b[0m \u001b[0;34m\u001b[0m\u001b[0m\n\u001b[0;32m-> 2282\u001b[0;31m     return torch.batch_norm(\n\u001b[0m\u001b[1;32m   2283\u001b[0m         \u001b[0minput\u001b[0m\u001b[0;34m,\u001b[0m \u001b[0mweight\u001b[0m\u001b[0;34m,\u001b[0m \u001b[0mbias\u001b[0m\u001b[0;34m,\u001b[0m \u001b[0mrunning_mean\u001b[0m\u001b[0;34m,\u001b[0m \u001b[0mrunning_var\u001b[0m\u001b[0;34m,\u001b[0m \u001b[0mtraining\u001b[0m\u001b[0;34m,\u001b[0m \u001b[0mmomentum\u001b[0m\u001b[0;34m,\u001b[0m \u001b[0meps\u001b[0m\u001b[0;34m,\u001b[0m \u001b[0mtorch\u001b[0m\u001b[0;34m.\u001b[0m\u001b[0mbackends\u001b[0m\u001b[0;34m.\u001b[0m\u001b[0mcudnn\u001b[0m\u001b[0;34m.\u001b[0m\u001b[0menabled\u001b[0m\u001b[0;34m\u001b[0m\u001b[0;34m\u001b[0m\u001b[0m\n\u001b[1;32m   2284\u001b[0m     )\n",
      "\u001b[0;31mKeyboardInterrupt\u001b[0m: "
     ]
    }
   ],
   "source": [
    "for i, (train_idx, val_idx) in enumerate(kfold.split(Train_ids)):\n",
    "    train_ids = (df[df.Train_image_path.str.contains(\"|\".join(Train_ids[train_idx]))]).index\n",
    "    valid_ids = (df[df.Train_image_path.str.contains(\"|\".join(Train_ids[val_idx]))]).index\n",
    "    train_dataset = Colon_Dataset(\"train_data.csv\",indexes=train_ids,transform=train_transform,preprocessing=preprocessing_fucntion(cfg.PREPROCESS))\n",
    "    valid_dataset = Colon_Dataset(\"train_data.csv\",indexes=valid_ids,preprocessing=preprocessing_fucntion(cfg.PREPROCESS))\n",
    "    \n",
    "    train_dataloader = DataLoader(train_dataset,batch_size=cfg.BATCH_SIZE,shuffle=True,num_workers=8)\n",
    "    valid_dataloader = DataLoader(valid_dataset,batch_size=cfg.BATCH_SIZE,shuffle=False,num_workers=8)\n",
    "    cfg.MODEL_NAME = str(i)\n",
    "    trainer =Trainer(cfg,train_dataloader,valid_dataloader)\n",
    "    trainer.fit()"
   ]
  },
  {
   "cell_type": "code",
   "execution_count": null,
   "id": "3bba54d9-757a-4de5-a8ea-5988eaf1b3a8",
   "metadata": {},
   "outputs": [],
   "source": []
  },
  {
   "cell_type": "code",
   "execution_count": null,
   "id": "166b5fb3-cbc7-4a58-882b-916a8a8b76c1",
   "metadata": {},
   "outputs": [],
   "source": []
  },
  {
   "cell_type": "code",
   "execution_count": 16,
   "id": "2be0ecf7-94c3-4014-a06f-100acd1455fd",
   "metadata": {},
   "outputs": [],
   "source": [
    "# def calculate_metrics(model,data_loader):\n",
    "#     model.eval()\n",
    "#     total_loss = 0\n",
    "#     total_dice = 0 #batch wise dice loss\n",
    "#     with torch.no_grad():\n",
    "#         for data in tqdm.tqdm(data_loader,total=len(data_loader)):\n",
    "#             im = data[0].cuda()\n",
    "#             mask = data[1].cuda()\n",
    "#             out = model(im)\n",
    "#             loss = cfg.LOSS_CROSSENTROPY(out,mask) #+ cfg.LOSS_DICE(out,mask)\n",
    "#             total_loss+=loss.item()\n",
    "#             total_dice+= 1-cfg.LOSS_DICE(out,mask)\n",
    "            \n",
    "            \n",
    "#     return total_dice/len(data_loader),total_loss/len(data_loader)"
   ]
  },
  {
   "cell_type": "code",
   "execution_count": 18,
   "id": "c4c48094-22fc-4e03-81c8-2f53e8f7a84a",
   "metadata": {
    "tags": []
   },
   "outputs": [
    {
     "data": {
      "application/vnd.jupyter.widget-view+json": {
       "model_id": "80aef681d8dd42be9ff4ca2050c072dc",
       "version_major": 2,
       "version_minor": 0
      },
      "text/plain": [
       "  0%|          | 0/47 [00:00<?, ?it/s]"
      ]
     },
     "metadata": {},
     "output_type": "display_data"
    },
    {
     "name": "stderr",
     "output_type": "stream",
     "text": [
      "Exception ignored in: <generator object tqdm.__iter__ at 0x2b2a2d6fb200>\n",
      "Traceback (most recent call last):\n",
      "  File \"/N/project/DL_MRI/Myocarditis-segmentation/vm_sripad/lib/python3.9/site-packages/tqdm/std.py\", line 1181, in __iter__\n",
      "    yield obj\n",
      "KeyboardInterrupt: \n"
     ]
    },
    {
     "ename": "KeyboardInterrupt",
     "evalue": "",
     "output_type": "error",
     "traceback": [
      "\u001b[0;31m---------------------------------------------------------------------------\u001b[0m",
      "\u001b[0;31mKeyboardInterrupt\u001b[0m                         Traceback (most recent call last)",
      "\u001b[0;32m/tmp/ipykernel_232445/3690640397.py\u001b[0m in \u001b[0;36m<module>\u001b[0;34m\u001b[0m\n\u001b[1;32m     34\u001b[0m             \u001b[0moptimizer\u001b[0m\u001b[0;34m.\u001b[0m\u001b[0mstep\u001b[0m\u001b[0;34m(\u001b[0m\u001b[0;34m)\u001b[0m\u001b[0;34m\u001b[0m\u001b[0;34m\u001b[0m\u001b[0m\n\u001b[1;32m     35\u001b[0m             \u001b[0mloss_\u001b[0m\u001b[0;34m+=\u001b[0m\u001b[0mloss\u001b[0m\u001b[0;34m.\u001b[0m\u001b[0mitem\u001b[0m\u001b[0;34m(\u001b[0m\u001b[0;34m)\u001b[0m\u001b[0;34m\u001b[0m\u001b[0;34m\u001b[0m\u001b[0m\n\u001b[0;32m---> 36\u001b[0;31m             \u001b[0mdice_score_\u001b[0m\u001b[0;34m+=\u001b[0m \u001b[0;36m1\u001b[0m\u001b[0;34m-\u001b[0m\u001b[0mcfg\u001b[0m\u001b[0;34m.\u001b[0m\u001b[0mLOSS_DICE\u001b[0m\u001b[0;34m(\u001b[0m\u001b[0moutput\u001b[0m\u001b[0;34m.\u001b[0m\u001b[0mdetach\u001b[0m\u001b[0;34m(\u001b[0m\u001b[0;34m)\u001b[0m\u001b[0;34m.\u001b[0m\u001b[0mcpu\u001b[0m\u001b[0;34m(\u001b[0m\u001b[0;34m)\u001b[0m\u001b[0;34m,\u001b[0m\u001b[0mmask_batch\u001b[0m\u001b[0;34m.\u001b[0m\u001b[0mdetach\u001b[0m\u001b[0;34m(\u001b[0m\u001b[0;34m)\u001b[0m\u001b[0;34m.\u001b[0m\u001b[0mcpu\u001b[0m\u001b[0;34m(\u001b[0m\u001b[0;34m)\u001b[0m\u001b[0;34m)\u001b[0m\u001b[0;31m#1-utils.DiceLoss()(output.detach(),mask_batch.unsqueeze(1))\u001b[0m\u001b[0;34m\u001b[0m\u001b[0;34m\u001b[0m\u001b[0m\n\u001b[0m\u001b[1;32m     37\u001b[0m \u001b[0;34m\u001b[0m\u001b[0m\n\u001b[1;32m     38\u001b[0m     \u001b[0;31m# 1-cfg.LOSS_DICE(output,mask_batch)#\u001b[0m\u001b[0;34m\u001b[0m\u001b[0;34m\u001b[0m\u001b[0;34m\u001b[0m\u001b[0m\n",
      "\u001b[0;32m/N/project/DL_MRI/Myocarditis-segmentation/vm_sripad/lib/python3.9/site-packages/torch/nn/modules/module.py\u001b[0m in \u001b[0;36m_call_impl\u001b[0;34m(self, *input, **kwargs)\u001b[0m\n\u001b[1;32m   1100\u001b[0m         if not (self._backward_hooks or self._forward_hooks or self._forward_pre_hooks or _global_backward_hooks\n\u001b[1;32m   1101\u001b[0m                 or _global_forward_hooks or _global_forward_pre_hooks):\n\u001b[0;32m-> 1102\u001b[0;31m             \u001b[0;32mreturn\u001b[0m \u001b[0mforward_call\u001b[0m\u001b[0;34m(\u001b[0m\u001b[0;34m*\u001b[0m\u001b[0minput\u001b[0m\u001b[0;34m,\u001b[0m \u001b[0;34m**\u001b[0m\u001b[0mkwargs\u001b[0m\u001b[0;34m)\u001b[0m\u001b[0;34m\u001b[0m\u001b[0;34m\u001b[0m\u001b[0m\n\u001b[0m\u001b[1;32m   1103\u001b[0m         \u001b[0;31m# Do not call functions when jit is used\u001b[0m\u001b[0;34m\u001b[0m\u001b[0;34m\u001b[0m\u001b[0;34m\u001b[0m\u001b[0m\n\u001b[1;32m   1104\u001b[0m         \u001b[0mfull_backward_hooks\u001b[0m\u001b[0;34m,\u001b[0m \u001b[0mnon_full_backward_hooks\u001b[0m \u001b[0;34m=\u001b[0m \u001b[0;34m[\u001b[0m\u001b[0;34m]\u001b[0m\u001b[0;34m,\u001b[0m \u001b[0;34m[\u001b[0m\u001b[0;34m]\u001b[0m\u001b[0;34m\u001b[0m\u001b[0;34m\u001b[0m\u001b[0m\n",
      "\u001b[0;32m/N/project/DL_MRI/Myocarditis-segmentation/vm_sripad/lib/python3.9/site-packages/segmentation_models_pytorch/losses/dice.py\u001b[0m in \u001b[0;36mforward\u001b[0;34m(self, y_pred, y_true)\u001b[0m\n\u001b[1;32m     65\u001b[0m             \u001b[0;31m# extreme values 0 and 1\u001b[0m\u001b[0;34m\u001b[0m\u001b[0;34m\u001b[0m\u001b[0;34m\u001b[0m\u001b[0m\n\u001b[1;32m     66\u001b[0m             \u001b[0;32mif\u001b[0m \u001b[0mself\u001b[0m\u001b[0;34m.\u001b[0m\u001b[0mmode\u001b[0m \u001b[0;34m==\u001b[0m \u001b[0mMULTICLASS_MODE\u001b[0m\u001b[0;34m:\u001b[0m\u001b[0;34m\u001b[0m\u001b[0;34m\u001b[0m\u001b[0m\n\u001b[0;32m---> 67\u001b[0;31m                 \u001b[0my_pred\u001b[0m \u001b[0;34m=\u001b[0m \u001b[0my_pred\u001b[0m\u001b[0;34m.\u001b[0m\u001b[0mlog_softmax\u001b[0m\u001b[0;34m(\u001b[0m\u001b[0mdim\u001b[0m\u001b[0;34m=\u001b[0m\u001b[0;36m1\u001b[0m\u001b[0;34m)\u001b[0m\u001b[0;34m.\u001b[0m\u001b[0mexp\u001b[0m\u001b[0;34m(\u001b[0m\u001b[0;34m)\u001b[0m\u001b[0;34m\u001b[0m\u001b[0;34m\u001b[0m\u001b[0m\n\u001b[0m\u001b[1;32m     68\u001b[0m             \u001b[0;32melse\u001b[0m\u001b[0;34m:\u001b[0m\u001b[0;34m\u001b[0m\u001b[0;34m\u001b[0m\u001b[0m\n\u001b[1;32m     69\u001b[0m                 \u001b[0my_pred\u001b[0m \u001b[0;34m=\u001b[0m \u001b[0mF\u001b[0m\u001b[0;34m.\u001b[0m\u001b[0mlogsigmoid\u001b[0m\u001b[0;34m(\u001b[0m\u001b[0my_pred\u001b[0m\u001b[0;34m)\u001b[0m\u001b[0;34m.\u001b[0m\u001b[0mexp\u001b[0m\u001b[0;34m(\u001b[0m\u001b[0;34m)\u001b[0m\u001b[0;34m\u001b[0m\u001b[0;34m\u001b[0m\u001b[0m\n",
      "\u001b[0;31mKeyboardInterrupt\u001b[0m: "
     ]
    }
   ],
   "source": [
    "# for i, (train_idx, val_idx) in enumerate(kfold.split(Train_ids)):\n",
    "#     # if i == 0 or i == 1:\n",
    "#     #     continue\n",
    "#     log = pd.DataFrame(columns=[\"model_name\",\"train_loss\",\"train_dice\",\"valid_loss\",\"valid_dice\"])\n",
    "#     train_ids = (df[df.Train_image_path.str.contains(\"|\".join(Train_ids[train_idx]))]).index\n",
    "#     valid_ids = (df[df.Train_image_path.str.contains(\"|\".join(Train_ids[val_idx]))]).index\n",
    "#     train_dataset = Colon_Dataset(\"train_data.csv\",indexes=train_ids,transform=train_transform,preprocessing=preprocessing_fucntion(cfg.PREPROCESS))\n",
    "#     valid_dataset = Colon_Dataset(\"train_data.csv\",indexes=valid_ids,preprocessing=preprocessing_fucntion(cfg.PREPROCESS))\n",
    "    \n",
    "#     train_dataloader = DataLoader(train_dataset,batch_size=cfg.BATCH_SIZE,shuffle=True,num_workers=8)\n",
    "#     valid_dataloader = DataLoader(valid_dataset,batch_size=cfg.BATCH_SIZE,shuffle=False,num_workers=8)\n",
    "    \n",
    "#     model = sm.Unet(encoder_name=cfg.ENCODER, \n",
    "#                      encoder_weights=cfg.PRETRAINED_WEIGHTS, \n",
    "#                      in_channels=cfg.INPUT_CHANNELS, \n",
    "#                      classes=cfg.CLASSES)\n",
    "    \n",
    "#     # model = nn.DataParallel(model)\n",
    "#     model.cuda()\n",
    "#     optimizer = t_optim.Ranger(model.parameters(),weight_decay=cfg.WEIGHT_DECAY)#optim.Adam(model.parameters())\n",
    "#     best_loss = 999999\n",
    "#     total_train_loss = 0\n",
    "    \n",
    "#     for epoch in range(cfg.EPOCHS):\n",
    "#         dice_score_ = 0\n",
    "#         loss_ = 0\n",
    "#         for j,data in enumerate(tqdm(train_dataloader,total = len(train_dataloader))):\n",
    "#             input_image_batch = data[0].cuda()\n",
    "#             mask_batch = data[1].cuda()\n",
    "#             optimizer.zero_grad()\n",
    "#             output = model(input_image_batch)\n",
    "#             loss = cfg.LOSS_CROSSENTROPY(output,mask_batch)#+cfg.LOSS_DICE(output,mask_batch.unsqueeze(1))\n",
    "#             loss.backward()\n",
    "#             optimizer.step()\n",
    "#             loss_+=loss.item()\n",
    "#             dice_score_+= 1-cfg.LOSS_DICE(output.detach().cpu(),mask_batch.detach().cpu())#1-utils.DiceLoss()(output.detach(),mask_batch.unsqueeze(1))\n",
    "            \n",
    "#     # 1-cfg.LOSS_DICE(output,mask_batch)#\n",
    "#         dice_score_train,loss_train, = calculate_metrics(model,train_dataloader)\n",
    "#         dice_score_valid,loss_valid, = calculate_metrics(model,valid_dataloader)\n",
    "#         print(f\"train dice score : {dice_score_train}, train loss {loss_train}\")\n",
    "#         print(f\"valid dice score : {dice_score_valid}, valid loss {loss_valid}\")\n",
    "#         print(f\"loop train dice : {dice_score_/len(train_dataloader)}, train loss {loss_/len(train_dataloader)}\")\n",
    "#         log.loc[epoch,:] = [f\"fold_{i}_{cfg.ENCODER}.pth\",f\"{loss_train}\",f\"{dice_score_train}\",f\"{loss_valid}\",f\"{dice_score_valid}\"]\n",
    "#         log.to_csv(cfg.MODEL_SAVEPATH+f\"/fold_{i}_{cfg.ENCODER}_CE_Valid_slicing_all.csv\",index=False)\n",
    "            \n",
    "#         if loss_train < best_loss:\n",
    "#             best_loss = loss_train\n",
    "#             torch.save(model.state_dict(),cfg.MODEL_SAVEPATH+f\"/fold_{i}_{cfg.ENCODER}_CE_Valid_slicing_all.pth\")\n",
    "    \n",
    "    \n",
    "    \n",
    "    \n",
    "\n",
    "                \n",
    "        \n",
    "            \n",
    "            \n",
    "    \n",
    "    \n",
    "    "
   ]
  },
  {
   "cell_type": "code",
   "execution_count": null,
   "id": "4e4d3b91-6b17-431e-99eb-bfba66c8baa8",
   "metadata": {},
   "outputs": [],
   "source": []
  }
 ],
 "metadata": {
  "kernelspec": {
   "display_name": "vm_sripad",
   "language": "python",
   "name": "vm_sripad"
  },
  "language_info": {
   "codemirror_mode": {
    "name": "ipython",
    "version": 3
   },
   "file_extension": ".py",
   "mimetype": "text/x-python",
   "name": "python",
   "nbconvert_exporter": "python",
   "pygments_lexer": "ipython3",
   "version": "3.9.6"
  }
 },
 "nbformat": 4,
 "nbformat_minor": 5
}
