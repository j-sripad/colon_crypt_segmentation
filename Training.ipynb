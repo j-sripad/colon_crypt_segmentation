{
 "cells": [
  {
   "cell_type": "markdown",
   "id": "0cb081c8-e115-4a36-9771-d2b5d7b373fc",
   "metadata": {},
   "source": [
    "#### Training\n",
    "\n",
    "This notebook contains code to train the model for crypt segmentation in colon images. We use segmentation models to train "
   ]
  },
  {
   "cell_type": "code",
   "execution_count": 1,
   "id": "531ec2a1-f87e-480e-b5fb-5861b39ccc96",
   "metadata": {},
   "outputs": [],
   "source": [
    "import torch.nn as nn\n",
    "import torch\n",
    "import segmentation_models_pytorch as sm\n",
    "import numpy as np\n",
    "import pandas as pd\n",
    "import skimage.io as io\n",
    "from PIL import Image\n",
    "import cv2\n",
    "import torchvision.transforms as transforms\n",
    "import albumentations as A\n",
    "from albumentations.pytorch import ToTensorV2\n",
    "from torch.utils.data import DataLoader,Dataset\n",
    "import matplotlib.pyplot as plt\n",
    "import tifffile\n",
    "from sklearn.model_selection import KFold\n",
    "import glob\n",
    "import torch_optimizer as t_optim\n",
    "import utils\n",
    "import torch.optim as optim\n",
    "import tqdm as tqdm\n",
    "# import pytorch_lightning as pl\n",
    "# from pytorch_lightning.callbacks import ModelCheckpoint, LearningRateMonitor, EarlyStopping\n",
    "\n"
   ]
  },
  {
   "cell_type": "code",
   "execution_count": 2,
   "id": "8b19b1d8-3475-4772-8d31-286252b56e31",
   "metadata": {},
   "outputs": [],
   "source": [
    "class Colon_Dataset(Dataset):\n",
    "    def __init__(self,data_csv_path:str=\"train_data.csv\",indexes:list= None,valid:bool=False,transform:transforms = None, target_transform:transforms=None,preprocessing=None):\n",
    "        self.data = pd.read_csv(data_csv_path)\n",
    "        self.indexed_data = self.data.iloc[indexes,:]\n",
    "        self.transform = transform\n",
    "        self.target_transform = target_transform\n",
    "        self.preprocessing = preprocessing\n",
    "        \n",
    "    def __getitem__(self,idx):\n",
    "        \n",
    "        image = tifffile.imread(self.indexed_data.iloc[idx,0])\n",
    "        mask = tifffile.imread(self.indexed_data.iloc[idx,1]).astype(float)\n",
    "        \n",
    "        \n",
    "        \n",
    "        \n",
    "        if self.transform:\n",
    "            augmentations = self.transform(image=image,mask=mask)\n",
    "            image,mask = augmentations['image'],augmentations['mask']\n",
    "            \n",
    "            \n",
    "        if self.preprocessing:\n",
    "            preprocessed = self.preprocessing(image=image,mask=mask)\n",
    "            image,mask = preprocessed['image'],preprocessed['mask']\n",
    "        \n",
    "            \n",
    "#         backgroud_mask = (mask==0)[:,:,0]\n",
    "#         foreground_mask = (mask==255)[:,:,0]\n",
    "        \n",
    "#         mask = torch.stack([backgroud_mask,foreground_mask])\n",
    "    \n",
    "        return image.float(),(mask[:,:,0]/255.0).type(torch.LongTensor)\n",
    "    \n",
    "    \n",
    "    def __len__(self):\n",
    "        return len(self.indexed_data)        "
   ]
  },
  {
   "cell_type": "code",
   "execution_count": 3,
   "id": "a4304efd-38b3-45f6-9969-ef317c2bbe23",
   "metadata": {},
   "outputs": [],
   "source": [
    "train_transform =  A.Compose([\n",
    "        A.HorizontalFlip(),\n",
    "        A.VerticalFlip(),\n",
    "        A.RandomRotate90(),\n",
    "        A.ShiftScaleRotate(shift_limit=0.0625, scale_limit=0.2, rotate_limit=15, p=0.9,\n",
    "                         border_mode=cv2.BORDER_REFLECT),\n",
    "        A.OneOf([\n",
    "            A.ElasticTransform(p=.3),\n",
    "            A.GaussianBlur(p=.3),\n",
    "            A.GaussNoise(p=.3),\n",
    "            A.OpticalDistortion(p=0.3),\n",
    "            A.GridDistortion(p=.1),\n",
    "            A.PiecewiseAffine(p=0.3),\n",
    "        ], p=0.3),\n",
    "        A.OneOf([\n",
    "            A.HueSaturationValue(15,25,0),\n",
    "            A.CLAHE(clip_limit=2),\n",
    "            A.RandomBrightnessContrast(brightness_limit=0.3, contrast_limit=0.3),\n",
    "        ], p=0.3),\n",
    "    \n",
    "        \n",
    "    ])\n",
    "\n",
    "validation_transform = A.Compose([ToTensorV2()])\n",
    "\n",
    "def preprocessing_fucntion(preprocesing_function=None):\n",
    "    return A.Compose([A.Lambda(image=preprocesing_function),ToTensorV2()])\n",
    "    "
   ]
  },
  {
   "cell_type": "code",
   "execution_count": 4,
   "id": "2733ca0c-7ded-4882-aa14-81edbadce209",
   "metadata": {},
   "outputs": [],
   "source": [
    "#Defining configurations\n",
    "class Configuration:\n",
    "    MODEL_SAVEPATH = \"models/\"\n",
    "    ENCODER = \"efficientnet-b2\"#\"se_resnext50_32x4d\"\n",
    "    PRETRAINED_WEIGHTS = \"imagenet\"\n",
    "    BATCH_SIZE = 16\n",
    "    INPUT_CHANNELS = 3\n",
    "\n",
    "    INPUT_SHAPE = (512,512,3)\n",
    "    NFOLDS = 5\n",
    "    ACTIVATION = None\n",
    "    CLASSES = 2 #(crypts 1 background 0)\n",
    "    DEVICE = \"cuda\" if torch.cuda.is_available() else cpu\n",
    "    EPOCHS = 15\n",
    "    LOSS_CROSSENTROPY = nn.CrossEntropyLoss() \n",
    "    LOSS_DICE = utils.DiceLoss()\n",
    "    WEIGHT_DECAY = 1e-4\n",
    "    METRICS = [sm.utils.metrics.IoU(0.5),\n",
    "sm.utils.metrics.Fscore()]\n",
    "    PREPROCESS = sm.encoders.get_preprocessing_fn(ENCODER,PRETRAINED_WEIGHTS)\n",
    "    \n",
    "    \n",
    "    \n",
    "    \n",
    "    \n",
    "cfg = Configuration()  "
   ]
  },
  {
   "cell_type": "code",
   "execution_count": 5,
   "id": "3f3b4fa2-a758-4f84-9291-29e66d79a83d",
   "metadata": {},
   "outputs": [],
   "source": [
    "#init kfold"
   ]
  },
  {
   "cell_type": "code",
   "execution_count": 6,
   "id": "a110fe31-d36d-4fea-80a4-844ea61b3a03",
   "metadata": {},
   "outputs": [],
   "source": [
    "Train_ids = pd.read_csv(\"Colonic_crypt_dataset/train.csv\").iloc[0:-1,:]['id'].values"
   ]
  },
  {
   "cell_type": "code",
   "execution_count": 7,
   "id": "87db9a8d-5588-420c-ab8c-f35b0220d775",
   "metadata": {},
   "outputs": [],
   "source": [
    "kfold = KFold(cfg.NFOLDS, shuffle=True, random_state=0)\n"
   ]
  },
  {
   "cell_type": "code",
   "execution_count": 8,
   "id": "0dead4f7-96cd-443b-9c7b-8e75af3ed93a",
   "metadata": {},
   "outputs": [],
   "source": [
    "df = pd.read_csv(\"train_data.csv\")\n"
   ]
  },
  {
   "cell_type": "code",
   "execution_count": 9,
   "id": "2be0ecf7-94c3-4014-a06f-100acd1455fd",
   "metadata": {},
   "outputs": [],
   "source": [
    "def calculate_metrics(model,data_loader):\n",
    "    model.eval()\n",
    "    total_loss = 0\n",
    "    total_dice = 0 #batch wise dice loss\n",
    "    with torch.no_grad():\n",
    "        for data in tqdm.tqdm(data_loader,total=len(data_loader)):\n",
    "            im = data[0].cuda()\n",
    "            mask = data[1].cuda()\n",
    "            out = model(im)\n",
    "            loss = cfg.LOSS_CROSSENTROPY(out,mask) #+ cfg.LOSS_DICE(out,mask.unsqueeze(1))\n",
    "            total_loss+=loss.item()\n",
    "            total_dice+= 1-utils.DiceLoss()(out,mask.unsqueeze(1))\n",
    "            \n",
    "    return total_dice/len(data_loader),total_loss/len(data_loader)"
   ]
  },
  {
   "cell_type": "code",
   "execution_count": null,
   "id": "c4c48094-22fc-4e03-81c8-2f53e8f7a84a",
   "metadata": {
    "tags": []
   },
   "outputs": [
    {
     "name": "stderr",
     "output_type": "stream",
     "text": [
      "  0%|                                                    | 0/47 [00:00<?, ?it/s]/N/project/DL_MRI/Myocarditis-segmentation/vm_sripad/lib/python3.9/site-packages/pytorch_ranger/ranger.py:172: UserWarning: This overload of addcmul_ is deprecated:\n",
      "\taddcmul_(Number value, Tensor tensor1, Tensor tensor2)\n",
      "Consider using one of the following signatures instead:\n",
      "\taddcmul_(Tensor tensor1, Tensor tensor2, *, Number value) (Triggered internally at  ../torch/csrc/utils/python_arg_parser.cpp:1050.)\n",
      "  exp_avg_sq.mul_(beta2).addcmul_(1 - beta2, grad, grad)\n",
      "100%|███████████████████████████████████████████| 47/47 [01:40<00:00,  2.14s/it]\n",
      "100%|███████████████████████████████████████████| 47/47 [01:02<00:00,  1.33s/it]\n",
      "100%|█████████████████████████████████████████████| 8/8 [00:04<00:00,  1.74it/s]\n"
     ]
    },
    {
     "name": "stdout",
     "output_type": "stream",
     "text": [
      "train dice score : 0.3657574951648712, train loss 0.9188516203393328\n",
      "valid dice score : 0.3642618954181671, valid loss 0.9838464334607124\n"
     ]
    },
    {
     "name": "stderr",
     "output_type": "stream",
     "text": [
      "100%|███████████████████████████████████████████| 47/47 [01:30<00:00,  1.93s/it]\n",
      "100%|███████████████████████████████████████████| 47/47 [01:04<00:00,  1.38s/it]\n",
      "100%|█████████████████████████████████████████████| 8/8 [00:03<00:00,  2.02it/s]\n"
     ]
    },
    {
     "name": "stdout",
     "output_type": "stream",
     "text": [
      "train dice score : 0.5251930356025696, train loss 0.2702587628935246\n",
      "valid dice score : 0.5154837965965271, valid loss 0.3009013459086418\n"
     ]
    },
    {
     "name": "stderr",
     "output_type": "stream",
     "text": [
      "100%|███████████████████████████████████████████| 47/47 [01:23<00:00,  1.78s/it]\n",
      "100%|███████████████████████████████████████████| 47/47 [01:00<00:00,  1.29s/it]\n",
      "100%|█████████████████████████████████████████████| 8/8 [00:03<00:00,  2.04it/s]\n"
     ]
    },
    {
     "name": "stdout",
     "output_type": "stream",
     "text": [
      "train dice score : 0.730129599571228, train loss 0.12622607856037768\n",
      "valid dice score : 0.6994335651397705, valid loss 0.16591704543679953\n"
     ]
    },
    {
     "name": "stderr",
     "output_type": "stream",
     "text": [
      "100%|███████████████████████████████████████████| 47/47 [01:19<00:00,  1.69s/it]\n",
      "100%|███████████████████████████████████████████| 47/47 [01:20<00:00,  1.71s/it]\n",
      "100%|█████████████████████████████████████████████| 8/8 [00:04<00:00,  1.85it/s]\n"
     ]
    },
    {
     "name": "stdout",
     "output_type": "stream",
     "text": [
      "train dice score : 0.8035935759544373, train loss 0.09376924374002091\n",
      "valid dice score : 0.7642971277236938, valid loss 0.13450106605887413\n"
     ]
    },
    {
     "name": "stderr",
     "output_type": "stream",
     "text": [
      "100%|███████████████████████████████████████████| 47/47 [01:34<00:00,  2.01s/it]\n",
      "100%|███████████████████████████████████████████| 47/47 [02:02<00:00,  2.61s/it]\n",
      "100%|█████████████████████████████████████████████| 8/8 [00:06<00:00,  1.16it/s]\n"
     ]
    },
    {
     "name": "stdout",
     "output_type": "stream",
     "text": [
      "train dice score : 0.8238102197647095, train loss 0.08140059956844817\n",
      "valid dice score : 0.7768575549125671, valid loss 0.12819277867674828\n"
     ]
    },
    {
     "name": "stderr",
     "output_type": "stream",
     "text": [
      "100%|███████████████████████████████████████████| 47/47 [02:33<00:00,  3.27s/it]\n",
      "100%|███████████████████████████████████████████| 47/47 [01:34<00:00,  2.01s/it]\n",
      "100%|█████████████████████████████████████████████| 8/8 [00:06<00:00,  1.25it/s]\n"
     ]
    },
    {
     "name": "stdout",
     "output_type": "stream",
     "text": [
      "train dice score : 0.8154136538505554, train loss 0.076536071110279\n",
      "valid dice score : 0.7641127109527588, valid loss 0.12386440811678767\n"
     ]
    },
    {
     "name": "stderr",
     "output_type": "stream",
     "text": [
      "100%|███████████████████████████████████████████| 47/47 [02:31<00:00,  3.22s/it]\n",
      "100%|███████████████████████████████████████████| 47/47 [01:30<00:00,  1.93s/it]\n",
      "100%|█████████████████████████████████████████████| 8/8 [00:04<00:00,  1.95it/s]\n"
     ]
    },
    {
     "name": "stdout",
     "output_type": "stream",
     "text": [
      "train dice score : 0.8724920153617859, train loss 0.06398663281443272\n",
      "valid dice score : 0.8159602284431458, valid loss 0.13155545736663043\n"
     ]
    },
    {
     "name": "stderr",
     "output_type": "stream",
     "text": [
      "100%|███████████████████████████████████████████| 47/47 [01:45<00:00,  2.24s/it]\n",
      "100%|███████████████████████████████████████████| 47/47 [01:49<00:00,  2.32s/it]\n",
      "100%|█████████████████████████████████████████████| 8/8 [00:06<00:00,  1.30it/s]\n"
     ]
    },
    {
     "name": "stdout",
     "output_type": "stream",
     "text": [
      "train dice score : 0.8766228556632996, train loss 0.062284164586441315\n",
      "valid dice score : 0.8182024359703064, valid loss 0.13004957768134773\n"
     ]
    },
    {
     "name": "stderr",
     "output_type": "stream",
     "text": [
      "100%|███████████████████████████████████████████| 47/47 [02:16<00:00,  2.91s/it]\n",
      "100%|███████████████████████████████████████████| 47/47 [01:16<00:00,  1.62s/it]\n",
      "100%|█████████████████████████████████████████████| 8/8 [00:03<00:00,  2.10it/s]\n"
     ]
    },
    {
     "name": "stdout",
     "output_type": "stream",
     "text": [
      "train dice score : 0.8863102793693542, train loss 0.057779832842185144\n",
      "valid dice score : 0.8131837844848633, valid loss 0.16279348800890148\n"
     ]
    },
    {
     "name": "stderr",
     "output_type": "stream",
     "text": [
      "100%|███████████████████████████████████████████| 47/47 [01:21<00:00,  1.74s/it]\n",
      "100%|███████████████████████████████████████████| 47/47 [01:00<00:00,  1.29s/it]\n",
      "100%|█████████████████████████████████████████████| 8/8 [00:03<00:00,  2.01it/s]\n"
     ]
    },
    {
     "name": "stdout",
     "output_type": "stream",
     "text": [
      "train dice score : 0.8557848334312439, train loss 0.06115677936914119\n",
      "valid dice score : 0.7727298736572266, valid loss 0.13604851393029094\n"
     ]
    },
    {
     "name": "stderr",
     "output_type": "stream",
     "text": [
      "100%|███████████████████████████████████████████| 47/47 [01:28<00:00,  1.88s/it]\n",
      "100%|███████████████████████████████████████████| 47/47 [01:02<00:00,  1.33s/it]\n",
      "100%|█████████████████████████████████████████████| 8/8 [00:04<00:00,  1.96it/s]\n"
     ]
    },
    {
     "name": "stdout",
     "output_type": "stream",
     "text": [
      "train dice score : 0.9084177017211914, train loss 0.04499176838138002\n",
      "valid dice score : 0.8242107629776001, valid loss 0.13523804675787687\n"
     ]
    },
    {
     "name": "stderr",
     "output_type": "stream",
     "text": [
      "100%|███████████████████████████████████████████| 47/47 [02:06<00:00,  2.68s/it]\n",
      "100%|███████████████████████████████████████████| 47/47 [01:53<00:00,  2.43s/it]\n",
      "100%|█████████████████████████████████████████████| 8/8 [00:06<00:00,  1.27it/s]\n"
     ]
    },
    {
     "name": "stdout",
     "output_type": "stream",
     "text": [
      "train dice score : 0.8908453583717346, train loss 0.04759816486546968\n",
      "valid dice score : 0.8194962739944458, valid loss 0.13376343436539173\n"
     ]
    },
    {
     "name": "stderr",
     "output_type": "stream",
     "text": [
      "100%|███████████████████████████████████████████| 47/47 [01:38<00:00,  2.09s/it]\n",
      "100%|███████████████████████████████████████████| 47/47 [01:02<00:00,  1.34s/it]\n",
      "100%|█████████████████████████████████████████████| 8/8 [00:04<00:00,  1.89it/s]\n"
     ]
    },
    {
     "name": "stdout",
     "output_type": "stream",
     "text": [
      "train dice score : 0.8844990730285645, train loss 0.05663048834639027\n",
      "valid dice score : 0.8064718842506409, valid loss 0.13242571288719773\n"
     ]
    },
    {
     "name": "stderr",
     "output_type": "stream",
     "text": [
      "100%|███████████████████████████████████████████| 47/47 [01:40<00:00,  2.14s/it]\n",
      "100%|███████████████████████████████████████████| 47/47 [01:05<00:00,  1.40s/it]\n",
      "100%|█████████████████████████████████████████████| 8/8 [00:04<00:00,  1.80it/s]\n"
     ]
    },
    {
     "name": "stdout",
     "output_type": "stream",
     "text": [
      "train dice score : 0.8913809061050415, train loss 0.06653701371334969\n",
      "valid dice score : 0.8006278872489929, valid loss 0.2557852154131979\n"
     ]
    },
    {
     "name": "stderr",
     "output_type": "stream",
     "text": [
      " 34%|██████████████▋                            | 16/47 [00:33<01:01,  1.99s/it]"
     ]
    }
   ],
   "source": [
    "logs = []\n",
    "for i, (train_idx, val_idx) in enumerate(kfold.split(Train_ids)):\n",
    "    log = pd.DataFrame(columns=[\"model_name\",\"train_loss\",\"train_dice\",\"valid_loss\",\"valid_dice\"])\n",
    "    train_ids = (df[df.Train_image_path.str.contains(\"|\".join(Train_ids[train_idx]))]).index\n",
    "    valid_ids = (df[df.Train_image_path.str.contains(\"|\".join(Train_ids[val_idx]))]).index\n",
    "    train_dataset = Colon_Dataset(\"train_data.csv\",indexes=train_ids,transform=train_transform,preprocessing=preprocessing_fucntion(cfg.PREPROCESS))\n",
    "    valid_dataset = Colon_Dataset(\"train_data.csv\",indexes=valid_ids,preprocessing=preprocessing_fucntion(cfg.PREPROCESS))\n",
    "    \n",
    "    train_dataloader = DataLoader(train_dataset,batch_size=cfg.BATCH_SIZE,shuffle=True)\n",
    "    valid_dataloader = DataLoader(valid_dataset,batch_size=cfg.BATCH_SIZE,shuffle=False)\n",
    "    model = sm.Unet(encoder_name=cfg.ENCODER, \n",
    "                     encoder_weights=cfg.PRETRAINED_WEIGHTS, \n",
    "                     in_channels=cfg.INPUT_CHANNELS, \n",
    "                     classes=cfg.CLASSES)\n",
    "    model.cuda()\n",
    "    optimizer = t_optim.Ranger(model.parameters(),)#optim.Adam(model.parameters())\n",
    "    best_loss = 99\n",
    "    total_train_loss = 0\n",
    "    \n",
    "    for epoch in range(cfg.EPOCHS):\n",
    "        for j,data in enumerate(tqdm.tqdm(train_dataloader,total = len(train_dataloader))):\n",
    "            input_image_batch = data[0].cuda()\n",
    "            mask_batch = data[1].cuda()\n",
    "            optimizer.zero_grad()\n",
    "            output = model(input_image_batch)\n",
    "            loss = cfg.LOSS_CROSSENTROPY(output,mask_batch)#+cfg.LOSS_DICE(output,mask_batch.unsqueeze(1))\n",
    "            loss.backward()\n",
    "            optimizer.step()\n",
    "    \n",
    "        dice_score_train,loss_train = calculate_metrics(model,train_dataloader)\n",
    "        dice_score_valid,loss_valid = calculate_metrics(model,valid_dataloader)\n",
    "        print(f\"train dice score : {dice_score_train}, train loss {loss_train}\")\n",
    "        print(f\"valid dice score : {dice_score_valid}, valid loss {loss_valid}\")\n",
    "        log.loc[epoch,:] = [f\"fold_{i}_{cfg.ENCODER}.pth\",f\"{loss_train}\",f\"{dice_score_train}\",f\"{loss_valid}\",f\"{dice_score_valid}\"]\n",
    "            \n",
    "        if loss_train < best_loss:\n",
    "            best_loss = loss_train\n",
    "            torch.save(model.state_dict(),cfg.MODEL_SAVEPATH+f\"/fold_{i}_{cfg.ENCODER}_CE_Valid_slicing_all.pth\")\n",
    "    logs.append(log)\n",
    "    \n",
    "    break\n",
    "    \n",
    "\n",
    "                \n",
    "        \n",
    "            \n",
    "            \n",
    "    \n",
    "    \n",
    "    "
   ]
  },
  {
   "cell_type": "code",
   "execution_count": null,
   "id": "2ddd5100-1c88-458e-bb0c-5d12923c9c2c",
   "metadata": {},
   "outputs": [],
   "source": []
  },
  {
   "cell_type": "code",
   "execution_count": null,
   "id": "be0acd26-cd24-40d2-a726-cc5a41b583ec",
   "metadata": {},
   "outputs": [],
   "source": []
  },
  {
   "cell_type": "code",
   "execution_count": null,
   "id": "4e4d3b91-6b17-431e-99eb-bfba66c8baa8",
   "metadata": {},
   "outputs": [],
   "source": []
  }
 ],
 "metadata": {
  "kernelspec": {
   "display_name": "vm_sripad",
   "language": "python",
   "name": "vm_sripad"
  },
  "language_info": {
   "codemirror_mode": {
    "name": "ipython",
    "version": 3
   },
   "file_extension": ".py",
   "mimetype": "text/x-python",
   "name": "python",
   "nbconvert_exporter": "python",
   "pygments_lexer": "ipython3",
   "version": "3.9.6"
  }
 },
 "nbformat": 4,
 "nbformat_minor": 5
}
