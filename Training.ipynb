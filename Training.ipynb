{
 "cells": [
  {
   "cell_type": "markdown",
   "id": "0cb081c8-e115-4a36-9771-d2b5d7b373fc",
   "metadata": {},
   "source": [
    "#### Training\n",
    "\n",
    "This notebook contains code to train the model for crypt segmentation in colon images."
   ]
  },
  {
   "cell_type": "code",
   "execution_count": 1,
   "id": "30a69eeb-2c2c-4136-9a85-c6998e41826f",
   "metadata": {},
   "outputs": [],
   "source": [
    "# import os\n",
    "# os.environ['CUDA_VISIBLE_DEVICES'] = '1'"
   ]
  },
  {
   "cell_type": "code",
   "execution_count": 2,
   "id": "531ec2a1-f87e-480e-b5fb-5861b39ccc96",
   "metadata": {},
   "outputs": [],
   "source": [
    "#import libraries\n",
    "import os\n",
    "import warnings\n",
    "warnings.filterwarnings('ignore')\n",
    "import torch.nn as nn\n",
    "import torch\n",
    "import segmentation_models_pytorch as sm\n",
    "import numpy as np\n",
    "import pandas as pd\n",
    "import skimage.io as io\n",
    "from PIL import Image\n",
    "import cv2\n",
    "from torch.utils.data import DataLoader,Dataset\n",
    "import matplotlib.pyplot as plt\n",
    "import tifffile\n",
    "from sklearn.model_selection import KFold\n",
    "import glob\n",
    "import torch_optimizer as t_optim\n",
    "import utils\n",
    "import cv2\n",
    "import torch.optim as optim\n",
    "from tqdm.notebook import tqdm\n",
    "import torchvision.transforms as transforms\n",
    "from torch.optim.lr_scheduler import OneCycleLR\n",
    "\n"
   ]
  },
  {
   "cell_type": "markdown",
   "id": "f7cff815-7abe-45e0-a255-0c7cf32142dc",
   "metadata": {},
   "source": [
    "### Dataset"
   ]
  },
  {
   "cell_type": "code",
   "execution_count": 3,
   "id": "8b19b1d8-3475-4772-8d31-286252b56e31",
   "metadata": {},
   "outputs": [],
   "source": [
    "class Colon_Dataset(Dataset):\n",
    "    def __init__(self,data_csv_path:str=\"train_data.csv\",indexes:list= None,valid:bool=False,transform:transforms = None, target_transform:transforms=None,preprocessing=None):\n",
    "        self.data = pd.read_csv(data_csv_path)\n",
    "        self.indexed_data = self.data.iloc[indexes,:]\n",
    "        self.transform = transform\n",
    "        self.target_transform = target_transform\n",
    "        self.preprocessing = preprocessing\n",
    "        \n",
    "    def __getitem__(self,idx):\n",
    "        \n",
    "        image = tifffile.imread(self.indexed_data.iloc[idx,0])\n",
    "        mask = tifffile.imread(self.indexed_data.iloc[idx,1]).astype(float)\n",
    "        \n",
    "        \n",
    "        if self.transform:\n",
    "            augmentations = self.transform(image=image,mask=mask)\n",
    "            image,mask = augmentations['image'],augmentations['mask']\n",
    "            \n",
    "            \n",
    "        if self.preprocessing:\n",
    "            preprocessed = self.preprocessing(image=image,mask=mask)\n",
    "            image,mask = preprocessed['image'],preprocessed['mask']\n",
    "    \n",
    "        return image.float(),(mask[:,:,0]/255.0).type(torch.LongTensor)\n",
    "    \n",
    "    def __len__(self):\n",
    "        return len(self.indexed_data)        "
   ]
  },
  {
   "cell_type": "markdown",
   "id": "11ae7dfa-17dd-43bf-9e04-5df29df37081",
   "metadata": {},
   "source": [
    "### Config "
   ]
  },
  {
   "cell_type": "code",
   "execution_count": 4,
   "id": "2733ca0c-7ded-4882-aa14-81edbadce209",
   "metadata": {},
   "outputs": [],
   "source": [
    "#Defining configurations\n",
    "class Configuration:\n",
    "    MODEL_SAVEPATH = \"models/\"\n",
    "    ENCODER = \"efficientnet-b2\"\n",
    "    PRETRAINED_WEIGHTS = \"imagenet\"\n",
    "    BATCH_SIZE = 16\n",
    "    INPUT_CHANNELS = 3\n",
    "    INPUT_SHAPE = (512,512,3)\n",
    "    NFOLDS = 5\n",
    "    ACTIVATION = None\n",
    "    CLASSES = 2 #(crypts 1 background 0)\n",
    "    DEVICE = \"cuda\" if torch.cuda.is_available() else cpu\n",
    "    EPOCHS = 25\n",
    "    LOSS_CROSSENTROPY = nn.CrossEntropyLoss() \n",
    "    LOSS_DICE = utils.DiceScore(loss=True)#utils.DiceLoss()\n",
    "    DICE_COEF = utils.DiceScore(loss=False)#utils.DiceScore()\n",
    "    WEIGHT_DECAY = 1e-4\n",
    "    LEARNING_RATE = 1e-3\n",
    "    PREPROCESS = sm.encoders.get_preprocessing_fn(ENCODER,PRETRAINED_WEIGHTS)\n",
    "    ONECYCLELR = False\n",
    "    MODEL_NAME = 0\n",
    "    ARCHITECTURE = \"UNET\"\n",
    "    MAX_LR_FOR_ONECYCLELR = 1e-3\n",
    "       \n",
    "cfg = Configuration()  "
   ]
  },
  {
   "cell_type": "markdown",
   "id": "fc5b4839-c315-4a83-8ddd-e3c4fc6ec2ea",
   "metadata": {},
   "source": [
    "Trainer class"
   ]
  },
  {
   "cell_type": "code",
   "execution_count": 5,
   "id": "1b07e43d-fd4e-4936-8f70-a06c40d429ab",
   "metadata": {},
   "outputs": [],
   "source": [
    "class Trainer:\n",
    "    def __init__(self,cfg:Configuration,train_data_loader:DataLoader,valid_data_loader:DataLoader)->None:\n",
    "        self.cfg = cfg\n",
    "        self.patience = 5\n",
    "        self.model = sm.Unet(encoder_name=self.cfg.ENCODER, \n",
    "                     encoder_weights=self.cfg.PRETRAINED_WEIGHTS, \n",
    "                     in_channels=self.cfg.INPUT_CHANNELS, \n",
    "                     classes=self.cfg.CLASSES)\n",
    "        self.loss_function = self.cfg.LOSS_CROSSENTROPY\n",
    "        self.lr = self.cfg.LEARNING_RATE\n",
    "        self.batch_size = self.cfg.BATCH_SIZE\n",
    "        self.train_dataloader = train_data_loader\n",
    "        self.valid_dataloader = valid_data_loader\n",
    "        self.device = self.cfg.DEVICE\n",
    "        self.epochs = self.cfg.EPOCHS\n",
    "        self.lr = 1e-3\n",
    "        self.track_best_valid = []\n",
    "        self.val_for_early_stopping = 9999999\n",
    "        if not os.path.isdir(self.cfg.MODEL_SAVEPATH):\n",
    "            os.makedirs(self.cfg.MODEL_SAVEPATH)\n",
    "        \n",
    "        \n",
    "            \n",
    "            \n",
    "        self.log = pd.DataFrame(columns=[\"model_name\",\"train_loss\",\"train_dice\",\"valid_loss\",\"valid_dice\"])\n",
    "        \n",
    "        \n",
    "        \n",
    "        self.optimizer = t_optim.Ranger(self.model.parameters(),weight_decay=self.cfg.WEIGHT_DECAY)\n",
    "        if self.cfg.ONECYCLELR:\n",
    "            self.optimizer = OneCycleLR(self.optimizer, max_lr=self.cfg.MAX_LR_FOR_ONECYCLELR, steps_per_epoch=len(self.train_dataloader), epochs=self.EPOCHS)\n",
    "        \n",
    "   \n",
    "    \n",
    "    def calculate_metrics(self,data_loader:DataLoader):\n",
    "        self.model.eval()\n",
    "        total_loss = 0\n",
    "        total_dice = 0 #batch wise dice loss\n",
    "        with torch.no_grad():\n",
    "            for data in tqdm(data_loader,total=len(data_loader)):\n",
    "                im = data[0].to(self.device)\n",
    "                mask = data[1].to(self.device)\n",
    "                out = self.model(im)\n",
    "                loss = self.loss_function(out.data,mask) #+ cfg.LOSS_DICE(out,mask)\n",
    "                total_loss+=loss.item()\n",
    "                total_dice+= self.cfg.DICE_COEF(out.data.to(\"cpu\"),mask.cpu())\n",
    "        return total_dice/len(data_loader),total_loss/len(data_loader)\n",
    "\n",
    "    \n",
    "    def earlystopping(self,val_loss):\n",
    "        \n",
    "        if val_loss < self.val_for_early_stopping:\n",
    "            self.val_for_early_stopping = val_loss\n",
    "            return True\n",
    "        else:\n",
    "            self.patience-=1\n",
    "            return False\n",
    " \n",
    "    def fit(self)->None:\n",
    "        print(\"started fitting the model\")\n",
    "        best_loss = 9999999\n",
    "        \n",
    "        for epoch in range(self.epochs):\n",
    "            self.model.train()\n",
    "            self.model.to(self.device)\n",
    "            \n",
    "            dice_score_ = 0\n",
    "            loss_ = 0\n",
    "            \n",
    "            for j,data in enumerate(tqdm(self.train_dataloader,total = len(self.train_dataloader))):\n",
    "                input_image_batch = data[0].to(self.device)\n",
    "                mask_batch = data[1].to(self.device)\n",
    "                self.optimizer.zero_grad()\n",
    "                output = self.model(input_image_batch)\n",
    "                loss = self.loss_function(output,mask_batch)#+cfg.LOSS_DICE(output,mask_batch.unsqueeze(1))\n",
    "                loss.backward()\n",
    "                self.optimizer.step()\n",
    "                loss_+=loss.item()\n",
    "            \n",
    "                dice_score_+= self.cfg.DICE_COEF(output.data.to(\"cpu\"),mask_batch.to(\"cpu\"))\n",
    "\n",
    "            \n",
    "            dice_score_valid,loss_valid, = self.calculate_metrics(self.valid_dataloader)\n",
    "            train_dice = dice_score_/len(self.train_dataloader)\n",
    "            train_loss = loss_/len(self.train_dataloader)\n",
    "            print(f\"train dice score : {train_dice}, train loss {train_loss}\")\n",
    "            print(f\"valid dice score : {dice_score_valid}, valid loss {loss_valid}\")\n",
    "            \n",
    "            self.log.loc[epoch,:] = [f\"fold_{self.cfg.ENCODER}_{self.cfg.ENCODER}.pth\",f\"{train_loss}\",f\"{train_dice}\",f\"{loss_valid}\",f\"{dice_score_valid}\"]\n",
    "            self.log.to_csv(self.cfg.MODEL_SAVEPATH+f\"/fold_{self.cfg.MODEL_NAME}__{self.cfg.ENCODER}_{self.cfg.BATCH_SIZE}_CE_Valid_slicing_all.csv\",index=False)\n",
    "            \n",
    "            if self.patience >= 0 and self.earlystopping(loss_valid):\n",
    "                print(\"saving model\")\n",
    "                \n",
    "                torch.save(self.model.state_dict(),self.cfg.MODEL_SAVEPATH+f\"/fold_{self.cfg.MODEL_NAME}_{self.cfg.ENCODER}_{self.cfg.BATCH_SIZE}_CE_Valid_slicing_all.pth\")\n",
    "                self.patience= 5\n",
    "                \n",
    "            \n",
    "            if self.patience <= 0:\n",
    "                print(\"Training terminated, no improvement in valid loss\")\n",
    "                break\n",
    "                \n",
    "        \n",
    "        \n",
    "        \n",
    "\n",
    "        "
   ]
  },
  {
   "cell_type": "markdown",
   "id": "925d58f6-f602-4496-9b1e-f16e3ebcf22d",
   "metadata": {},
   "source": [
    "#### Model Training"
   ]
  },
  {
   "cell_type": "markdown",
   "id": "5ff2628e-508f-4dd1-8014-0d5b2763b118",
   "metadata": {},
   "source": [
    "##### Performing k fold cross validation "
   ]
  },
  {
   "cell_type": "code",
   "execution_count": 6,
   "id": "49fbfb93-36ac-4530-b7e1-159f38f2123a",
   "metadata": {},
   "outputs": [],
   "source": [
    "train_data_csv_path = \"Colonic_crypt_dataset/train.csv\"\n",
    "patches_csv_path = \"train_data.csv\"\n",
    "\n",
    "def kfold_training(train_data_csv_path:str,patches_csv_path:str,n_folds:int)->pd.DataFrame:\n",
    "    #get all the training data unique image ids\n",
    "    train_ids_from_csv = pd.read_csv(train_data_csv_path).iloc[0:-1,:]['id'].values\n",
    "    \n",
    "    nfold = KFold(n_folds, shuffle=True, random_state=0)\n",
    "    \n",
    "    patch_dataframe = pd.read_csv(patches_csv_path)\n",
    "    track_best_model = []\n",
    "    for i, (train_idx, val_idx) in enumerate(nfold.split(train_ids_from_csv)):\n",
    "        \n",
    "        train_ids = (patch_dataframe[patch_dataframe.Train_image_path.str.contains(\"|\".join(train_ids_from_csv[train_idx]))]).index\n",
    "        valid_ids = (patch_dataframe[patch_dataframe.Train_image_path.str.contains(\"|\".join(train_ids_from_csv[val_idx]))]).index\n",
    "        train_dataset = Colon_Dataset(\"train_data.csv\",indexes=train_ids,transform=utils.get_train_transforms(),preprocessing=utils.preprocessing_fucntion(cfg.PREPROCESS))\n",
    "        valid_dataset = Colon_Dataset(\"train_data.csv\",indexes=valid_ids,preprocessing=utils.preprocessing_fucntion(cfg.PREPROCESS))\n",
    "\n",
    "        train_dataloader = DataLoader(train_dataset,batch_size=cfg.BATCH_SIZE,shuffle=True)\n",
    "        valid_dataloader = DataLoader(valid_dataset,batch_size=cfg.BATCH_SIZE,shuffle=False)\n",
    "        cfg.MODEL_NAME = str(i) + \"_\"+cfg.ARCHITECTURE\n",
    "        trainer =Trainer(cfg,train_dataloader,valid_dataloader)\n",
    "        trainer.fit()\n",
    "        track_best_model.append([cfg.MODEL_NAME,trainer.val_for_early_stopping])\n",
    "        \n",
    "    pd.DataFrame(track_best_model,columns=[\"model name\",\"valid_loss\"]).to_csv(\"report_\"+cfg.MODEL_NAME+\".csv\",index=False)\n",
    "        \n",
    "    return track_best_model\n",
    "\n",
    "\n",
    "\n",
    "    \n"
   ]
  },
  {
   "cell_type": "code",
   "execution_count": 7,
   "id": "1cdbab23-c7ab-421e-a82b-f51dfb43beb8",
   "metadata": {},
   "outputs": [
    {
     "name": "stdout",
     "output_type": "stream",
     "text": [
      "started fitting the model\n"
     ]
    },
    {
     "data": {
      "application/vnd.jupyter.widget-view+json": {
       "model_id": "b6af8676831c433a80231be1fb603e09",
       "version_major": 2,
       "version_minor": 0
      },
      "text/plain": [
       "  0%|          | 0/47 [00:00<?, ?it/s]"
      ]
     },
     "metadata": {},
     "output_type": "display_data"
    },
    {
     "data": {
      "application/vnd.jupyter.widget-view+json": {
       "model_id": "d5cca3069165431e8eb743c91f6802cc",
       "version_major": 2,
       "version_minor": 0
      },
      "text/plain": [
       "  0%|          | 0/8 [00:00<?, ?it/s]"
      ]
     },
     "metadata": {},
     "output_type": "display_data"
    },
    {
     "name": "stdout",
     "output_type": "stream",
     "text": [
      "train dice score : 0.7793204188346863, train loss 0.36847229143406485\n",
      "valid dice score : 0.8037179708480835, valid loss 0.3701242655515671\n",
      "saving model\n"
     ]
    },
    {
     "data": {
      "application/vnd.jupyter.widget-view+json": {
       "model_id": "8b3d5c65f2414d9097e5f45fa1620afc",
       "version_major": 2,
       "version_minor": 0
      },
      "text/plain": [
       "  0%|          | 0/47 [00:00<?, ?it/s]"
      ]
     },
     "metadata": {},
     "output_type": "display_data"
    },
    {
     "data": {
      "application/vnd.jupyter.widget-view+json": {
       "model_id": "6fd953ad603e4254adf27ea64e1dc4e4",
       "version_major": 2,
       "version_minor": 0
      },
      "text/plain": [
       "  0%|          | 0/8 [00:00<?, ?it/s]"
      ]
     },
     "metadata": {},
     "output_type": "display_data"
    },
    {
     "name": "stdout",
     "output_type": "stream",
     "text": [
      "train dice score : 0.8323666453361511, train loss 0.27541542243450245\n",
      "valid dice score : 0.8157902956008911, valid loss 0.3339341804385185\n",
      "saving model\n"
     ]
    },
    {
     "data": {
      "application/vnd.jupyter.widget-view+json": {
       "model_id": "4cd69828778e436eb317f8effe150a2d",
       "version_major": 2,
       "version_minor": 0
      },
      "text/plain": [
       "  0%|          | 0/47 [00:00<?, ?it/s]"
      ]
     },
     "metadata": {},
     "output_type": "display_data"
    },
    {
     "data": {
      "application/vnd.jupyter.widget-view+json": {
       "model_id": "85ccdfd5421d494dbf81c2a5a961e1de",
       "version_major": 2,
       "version_minor": 0
      },
      "text/plain": [
       "  0%|          | 0/8 [00:00<?, ?it/s]"
      ]
     },
     "metadata": {},
     "output_type": "display_data"
    },
    {
     "name": "stdout",
     "output_type": "stream",
     "text": [
      "train dice score : 0.8674011826515198, train loss 0.20667448941063374\n",
      "valid dice score : 0.871990442276001, valid loss 0.19635743461549282\n",
      "saving model\n"
     ]
    },
    {
     "data": {
      "application/vnd.jupyter.widget-view+json": {
       "model_id": "e7c14556069843c5872a976657217914",
       "version_major": 2,
       "version_minor": 0
      },
      "text/plain": [
       "  0%|          | 0/47 [00:00<?, ?it/s]"
      ]
     },
     "metadata": {},
     "output_type": "display_data"
    },
    {
     "data": {
      "application/vnd.jupyter.widget-view+json": {
       "model_id": "9da290a2d6af49518859b844fd008dcf",
       "version_major": 2,
       "version_minor": 0
      },
      "text/plain": [
       "  0%|          | 0/8 [00:00<?, ?it/s]"
      ]
     },
     "metadata": {},
     "output_type": "display_data"
    },
    {
     "name": "stdout",
     "output_type": "stream",
     "text": [
      "train dice score : 0.9107339978218079, train loss 0.13198905152843354\n",
      "valid dice score : 0.8997569680213928, valid loss 0.15056656021624804\n",
      "saving model\n"
     ]
    },
    {
     "data": {
      "application/vnd.jupyter.widget-view+json": {
       "model_id": "1c87cbc4fd5f4167940b5a71d8b6c68c",
       "version_major": 2,
       "version_minor": 0
      },
      "text/plain": [
       "  0%|          | 0/47 [00:00<?, ?it/s]"
      ]
     },
     "metadata": {},
     "output_type": "display_data"
    },
    {
     "data": {
      "application/vnd.jupyter.widget-view+json": {
       "model_id": "2038a30bb373474b89edad38126355d1",
       "version_major": 2,
       "version_minor": 0
      },
      "text/plain": [
       "  0%|          | 0/8 [00:00<?, ?it/s]"
      ]
     },
     "metadata": {},
     "output_type": "display_data"
    },
    {
     "name": "stdout",
     "output_type": "stream",
     "text": [
      "train dice score : 0.9274612069129944, train loss 0.10924337970766615\n",
      "valid dice score : 0.914080023765564, valid loss 0.13697780389338732\n",
      "saving model\n"
     ]
    },
    {
     "data": {
      "application/vnd.jupyter.widget-view+json": {
       "model_id": "f95d2ee851e8475d83d016afa875285a",
       "version_major": 2,
       "version_minor": 0
      },
      "text/plain": [
       "  0%|          | 0/47 [00:00<?, ?it/s]"
      ]
     },
     "metadata": {},
     "output_type": "display_data"
    },
    {
     "data": {
      "application/vnd.jupyter.widget-view+json": {
       "model_id": "d12bb0aee0e6496ea70719b33643f283",
       "version_major": 2,
       "version_minor": 0
      },
      "text/plain": [
       "  0%|          | 0/8 [00:00<?, ?it/s]"
      ]
     },
     "metadata": {},
     "output_type": "display_data"
    },
    {
     "name": "stdout",
     "output_type": "stream",
     "text": [
      "train dice score : 0.9372887015342712, train loss 0.09635114923436591\n",
      "valid dice score : 0.9264574646949768, valid loss 0.12529025366529822\n",
      "saving model\n"
     ]
    },
    {
     "data": {
      "application/vnd.jupyter.widget-view+json": {
       "model_id": "089f64875438445abc18b4d2e13ec9bb",
       "version_major": 2,
       "version_minor": 0
      },
      "text/plain": [
       "  0%|          | 0/47 [00:00<?, ?it/s]"
      ]
     },
     "metadata": {},
     "output_type": "display_data"
    },
    {
     "data": {
      "application/vnd.jupyter.widget-view+json": {
       "model_id": "53687b49bb424904a016123d1347d924",
       "version_major": 2,
       "version_minor": 0
      },
      "text/plain": [
       "  0%|          | 0/8 [00:00<?, ?it/s]"
      ]
     },
     "metadata": {},
     "output_type": "display_data"
    },
    {
     "name": "stdout",
     "output_type": "stream",
     "text": [
      "train dice score : 0.9480992555618286, train loss 0.08055320397970524\n",
      "valid dice score : 0.9313315749168396, valid loss 0.1256098411977291\n"
     ]
    },
    {
     "data": {
      "application/vnd.jupyter.widget-view+json": {
       "model_id": "798a44bd83fc4f6bbfa4a465f472017e",
       "version_major": 2,
       "version_minor": 0
      },
      "text/plain": [
       "  0%|          | 0/47 [00:00<?, ?it/s]"
      ]
     },
     "metadata": {},
     "output_type": "display_data"
    },
    {
     "data": {
      "application/vnd.jupyter.widget-view+json": {
       "model_id": "e8e1032fee0f4017a8e2132ec4df48ba",
       "version_major": 2,
       "version_minor": 0
      },
      "text/plain": [
       "  0%|          | 0/8 [00:00<?, ?it/s]"
      ]
     },
     "metadata": {},
     "output_type": "display_data"
    },
    {
     "name": "stdout",
     "output_type": "stream",
     "text": [
      "train dice score : 0.9538446664810181, train loss 0.07389038222584318\n",
      "valid dice score : 0.9319142699241638, valid loss 0.11718650185503066\n",
      "saving model\n"
     ]
    },
    {
     "data": {
      "application/vnd.jupyter.widget-view+json": {
       "model_id": "fbaabb8b16124cc6ae2c55fd669ed802",
       "version_major": 2,
       "version_minor": 0
      },
      "text/plain": [
       "  0%|          | 0/47 [00:00<?, ?it/s]"
      ]
     },
     "metadata": {},
     "output_type": "display_data"
    },
    {
     "data": {
      "application/vnd.jupyter.widget-view+json": {
       "model_id": "09adcdf05f3b4feaad2e896579d9dbfa",
       "version_major": 2,
       "version_minor": 0
      },
      "text/plain": [
       "  0%|          | 0/8 [00:00<?, ?it/s]"
      ]
     },
     "metadata": {},
     "output_type": "display_data"
    },
    {
     "name": "stdout",
     "output_type": "stream",
     "text": [
      "train dice score : 0.9551547169685364, train loss 0.07357487296487422\n",
      "valid dice score : 0.934475839138031, valid loss 0.10941710323095322\n",
      "saving model\n"
     ]
    },
    {
     "data": {
      "application/vnd.jupyter.widget-view+json": {
       "model_id": "ce0074765bc34967b178cf51806ed6dc",
       "version_major": 2,
       "version_minor": 0
      },
      "text/plain": [
       "  0%|          | 0/47 [00:00<?, ?it/s]"
      ]
     },
     "metadata": {},
     "output_type": "display_data"
    },
    {
     "data": {
      "application/vnd.jupyter.widget-view+json": {
       "model_id": "60b39c4aed14474584fbc42d41d674aa",
       "version_major": 2,
       "version_minor": 0
      },
      "text/plain": [
       "  0%|          | 0/8 [00:00<?, ?it/s]"
      ]
     },
     "metadata": {},
     "output_type": "display_data"
    },
    {
     "name": "stdout",
     "output_type": "stream",
     "text": [
      "train dice score : 0.9587458968162537, train loss 0.06537259813952953\n",
      "valid dice score : 0.928773820400238, valid loss 0.1525818428490311\n"
     ]
    },
    {
     "data": {
      "application/vnd.jupyter.widget-view+json": {
       "model_id": "540eb63f7b29400ba5bc86e54a2cac67",
       "version_major": 2,
       "version_minor": 0
      },
      "text/plain": [
       "  0%|          | 0/47 [00:00<?, ?it/s]"
      ]
     },
     "metadata": {},
     "output_type": "display_data"
    },
    {
     "data": {
      "application/vnd.jupyter.widget-view+json": {
       "model_id": "a35188948ff44d8f8c87070e1eac8ef9",
       "version_major": 2,
       "version_minor": 0
      },
      "text/plain": [
       "  0%|          | 0/8 [00:00<?, ?it/s]"
      ]
     },
     "metadata": {},
     "output_type": "display_data"
    },
    {
     "name": "stdout",
     "output_type": "stream",
     "text": [
      "train dice score : 0.9646559953689575, train loss 0.057771198253365276\n",
      "valid dice score : 0.9346379637718201, valid loss 0.13776662503369153\n"
     ]
    },
    {
     "data": {
      "application/vnd.jupyter.widget-view+json": {
       "model_id": "27c480f5b1174ac4a7bcb265e2b12a40",
       "version_major": 2,
       "version_minor": 0
      },
      "text/plain": [
       "  0%|          | 0/47 [00:00<?, ?it/s]"
      ]
     },
     "metadata": {},
     "output_type": "display_data"
    },
    {
     "data": {
      "application/vnd.jupyter.widget-view+json": {
       "model_id": "21fa7ca0f9ff4a3cbc802b781bbb9a5c",
       "version_major": 2,
       "version_minor": 0
      },
      "text/plain": [
       "  0%|          | 0/8 [00:00<?, ?it/s]"
      ]
     },
     "metadata": {},
     "output_type": "display_data"
    },
    {
     "name": "stdout",
     "output_type": "stream",
     "text": [
      "train dice score : 0.9666985273361206, train loss 0.0544922235719067\n",
      "valid dice score : 0.9410706162452698, valid loss 0.12397479056380689\n"
     ]
    },
    {
     "data": {
      "application/vnd.jupyter.widget-view+json": {
       "model_id": "58b409a0c28042c8a608da7483766d78",
       "version_major": 2,
       "version_minor": 0
      },
      "text/plain": [
       "  0%|          | 0/47 [00:00<?, ?it/s]"
      ]
     },
     "metadata": {},
     "output_type": "display_data"
    },
    {
     "data": {
      "application/vnd.jupyter.widget-view+json": {
       "model_id": "32a5576ea22d4b35b53ba5083ee93de9",
       "version_major": 2,
       "version_minor": 0
      },
      "text/plain": [
       "  0%|          | 0/8 [00:00<?, ?it/s]"
      ]
     },
     "metadata": {},
     "output_type": "display_data"
    },
    {
     "name": "stdout",
     "output_type": "stream",
     "text": [
      "train dice score : 0.9677273631095886, train loss 0.052693513122961874\n",
      "valid dice score : 0.9407567977905273, valid loss 0.15300136781297624\n"
     ]
    },
    {
     "data": {
      "application/vnd.jupyter.widget-view+json": {
       "model_id": "8ee566c9a67145e4a1cc5150a0815dcc",
       "version_major": 2,
       "version_minor": 0
      },
      "text/plain": [
       "  0%|          | 0/47 [00:00<?, ?it/s]"
      ]
     },
     "metadata": {},
     "output_type": "display_data"
    },
    {
     "data": {
      "application/vnd.jupyter.widget-view+json": {
       "model_id": "e54fbce2c3704fd68afbdbec2b71e9f0",
       "version_major": 2,
       "version_minor": 0
      },
      "text/plain": [
       "  0%|          | 0/8 [00:00<?, ?it/s]"
      ]
     },
     "metadata": {},
     "output_type": "display_data"
    },
    {
     "name": "stdout",
     "output_type": "stream",
     "text": [
      "train dice score : 0.9718087911605835, train loss 0.050693327679913094\n",
      "valid dice score : 0.9424779415130615, valid loss 0.1271718661300838\n",
      "Training terminated, no improvement in valid loss\n",
      "started fitting the model\n"
     ]
    },
    {
     "data": {
      "application/vnd.jupyter.widget-view+json": {
       "model_id": "3c15813dfbed4979a0a5c89dba15a97e",
       "version_major": 2,
       "version_minor": 0
      },
      "text/plain": [
       "  0%|          | 0/38 [00:00<?, ?it/s]"
      ]
     },
     "metadata": {},
     "output_type": "display_data"
    },
    {
     "data": {
      "application/vnd.jupyter.widget-view+json": {
       "model_id": "71754aedc53d410181b1c9e75615ec20",
       "version_major": 2,
       "version_minor": 0
      },
      "text/plain": [
       "  0%|          | 0/17 [00:00<?, ?it/s]"
      ]
     },
     "metadata": {},
     "output_type": "display_data"
    },
    {
     "name": "stdout",
     "output_type": "stream",
     "text": [
      "train dice score : 0.6077746152877808, train loss 0.5684734959351389\n",
      "valid dice score : 0.6490503549575806, valid loss 0.48261260635712566\n",
      "saving model\n"
     ]
    },
    {
     "data": {
      "application/vnd.jupyter.widget-view+json": {
       "model_id": "ba53f92766864a71ba3c90f1d556fc3f",
       "version_major": 2,
       "version_minor": 0
      },
      "text/plain": [
       "  0%|          | 0/38 [00:00<?, ?it/s]"
      ]
     },
     "metadata": {},
     "output_type": "display_data"
    },
    {
     "data": {
      "application/vnd.jupyter.widget-view+json": {
       "model_id": "44a517e123b247518cae86ecd87ceaec",
       "version_major": 2,
       "version_minor": 0
      },
      "text/plain": [
       "  0%|          | 0/17 [00:00<?, ?it/s]"
      ]
     },
     "metadata": {},
     "output_type": "display_data"
    },
    {
     "name": "stdout",
     "output_type": "stream",
     "text": [
      "train dice score : 0.6755353808403015, train loss 0.44979054363150345\n",
      "valid dice score : 0.6986778974533081, valid loss 0.4071301712709315\n",
      "saving model\n"
     ]
    },
    {
     "data": {
      "application/vnd.jupyter.widget-view+json": {
       "model_id": "6a8034ebcd8842f6ab66392a3e1b707d",
       "version_major": 2,
       "version_minor": 0
      },
      "text/plain": [
       "  0%|          | 0/38 [00:00<?, ?it/s]"
      ]
     },
     "metadata": {},
     "output_type": "display_data"
    },
    {
     "data": {
      "application/vnd.jupyter.widget-view+json": {
       "model_id": "f68bd7a54b7b41b9b3ae1c88b275c6de",
       "version_major": 2,
       "version_minor": 0
      },
      "text/plain": [
       "  0%|          | 0/17 [00:00<?, ?it/s]"
      ]
     },
     "metadata": {},
     "output_type": "display_data"
    },
    {
     "name": "stdout",
     "output_type": "stream",
     "text": [
      "train dice score : 0.7422655820846558, train loss 0.35709163232853536\n",
      "valid dice score : 0.7609079480171204, valid loss 0.3294174013768925\n",
      "saving model\n"
     ]
    },
    {
     "data": {
      "application/vnd.jupyter.widget-view+json": {
       "model_id": "c03c23f9c5ba4001a30f5dd4698ee46b",
       "version_major": 2,
       "version_minor": 0
      },
      "text/plain": [
       "  0%|          | 0/38 [00:00<?, ?it/s]"
      ]
     },
     "metadata": {},
     "output_type": "display_data"
    },
    {
     "data": {
      "application/vnd.jupyter.widget-view+json": {
       "model_id": "5fa1424076e24241a8cde0131f7d3364",
       "version_major": 2,
       "version_minor": 0
      },
      "text/plain": [
       "  0%|          | 0/17 [00:00<?, ?it/s]"
      ]
     },
     "metadata": {},
     "output_type": "display_data"
    },
    {
     "name": "stdout",
     "output_type": "stream",
     "text": [
      "train dice score : 0.7925280928611755, train loss 0.2980528548359871\n",
      "valid dice score : 0.7990286350250244, valid loss 0.28765535968191486\n",
      "saving model\n"
     ]
    },
    {
     "data": {
      "application/vnd.jupyter.widget-view+json": {
       "model_id": "d9668c64624b4fdea6fccb420b79dc9f",
       "version_major": 2,
       "version_minor": 0
      },
      "text/plain": [
       "  0%|          | 0/38 [00:00<?, ?it/s]"
      ]
     },
     "metadata": {},
     "output_type": "display_data"
    },
    {
     "data": {
      "application/vnd.jupyter.widget-view+json": {
       "model_id": "b017697619914806a7a14705ba9484b4",
       "version_major": 2,
       "version_minor": 0
      },
      "text/plain": [
       "  0%|          | 0/17 [00:00<?, ?it/s]"
      ]
     },
     "metadata": {},
     "output_type": "display_data"
    },
    {
     "name": "stdout",
     "output_type": "stream",
     "text": [
      "train dice score : 0.8269505500793457, train loss 0.25077500547233383\n",
      "valid dice score : 0.8619843125343323, valid loss 0.1775790036601179\n",
      "saving model\n"
     ]
    },
    {
     "data": {
      "application/vnd.jupyter.widget-view+json": {
       "model_id": "80740fb519b3487aa1087c2e30200c5f",
       "version_major": 2,
       "version_minor": 0
      },
      "text/plain": [
       "  0%|          | 0/38 [00:00<?, ?it/s]"
      ]
     },
     "metadata": {},
     "output_type": "display_data"
    },
    {
     "data": {
      "application/vnd.jupyter.widget-view+json": {
       "model_id": "a0064869dc724a21b4b18d4fecfda5f3",
       "version_major": 2,
       "version_minor": 0
      },
      "text/plain": [
       "  0%|          | 0/17 [00:00<?, ?it/s]"
      ]
     },
     "metadata": {},
     "output_type": "display_data"
    },
    {
     "name": "stdout",
     "output_type": "stream",
     "text": [
      "train dice score : 0.8666295409202576, train loss 0.17845483320324043\n",
      "valid dice score : 0.8940787315368652, valid loss 0.1386376917362213\n",
      "saving model\n"
     ]
    },
    {
     "data": {
      "application/vnd.jupyter.widget-view+json": {
       "model_id": "e2b0195c40ed49fd88bfe28807bcf8b9",
       "version_major": 2,
       "version_minor": 0
      },
      "text/plain": [
       "  0%|          | 0/38 [00:00<?, ?it/s]"
      ]
     },
     "metadata": {},
     "output_type": "display_data"
    },
    {
     "data": {
      "application/vnd.jupyter.widget-view+json": {
       "model_id": "8eef685ae7d048b6bf253f39c6c58dc0",
       "version_major": 2,
       "version_minor": 0
      },
      "text/plain": [
       "  0%|          | 0/17 [00:00<?, ?it/s]"
      ]
     },
     "metadata": {},
     "output_type": "display_data"
    },
    {
     "name": "stdout",
     "output_type": "stream",
     "text": [
      "train dice score : 0.8976207375526428, train loss 0.13948290755874232\n",
      "valid dice score : 0.9194421172142029, valid loss 0.10958420397604213\n",
      "saving model\n"
     ]
    },
    {
     "data": {
      "application/vnd.jupyter.widget-view+json": {
       "model_id": "eb7669299b344602b88db98b947bb5dc",
       "version_major": 2,
       "version_minor": 0
      },
      "text/plain": [
       "  0%|          | 0/38 [00:00<?, ?it/s]"
      ]
     },
     "metadata": {},
     "output_type": "display_data"
    },
    {
     "data": {
      "application/vnd.jupyter.widget-view+json": {
       "model_id": "c51de7ed05a94adea619ce390f1096b1",
       "version_major": 2,
       "version_minor": 0
      },
      "text/plain": [
       "  0%|          | 0/17 [00:00<?, ?it/s]"
      ]
     },
     "metadata": {},
     "output_type": "display_data"
    },
    {
     "name": "stdout",
     "output_type": "stream",
     "text": [
      "train dice score : 0.9167920351028442, train loss 0.12001560040210422\n",
      "valid dice score : 0.9351652264595032, valid loss 0.092188032453551\n",
      "saving model\n"
     ]
    },
    {
     "data": {
      "application/vnd.jupyter.widget-view+json": {
       "model_id": "45b49d27545742028831250e79be4b4b",
       "version_major": 2,
       "version_minor": 0
      },
      "text/plain": [
       "  0%|          | 0/38 [00:00<?, ?it/s]"
      ]
     },
     "metadata": {},
     "output_type": "display_data"
    },
    {
     "data": {
      "application/vnd.jupyter.widget-view+json": {
       "model_id": "6000fb2ece0247b5a8ac3c0eecbc08a9",
       "version_major": 2,
       "version_minor": 0
      },
      "text/plain": [
       "  0%|          | 0/17 [00:00<?, ?it/s]"
      ]
     },
     "metadata": {},
     "output_type": "display_data"
    },
    {
     "name": "stdout",
     "output_type": "stream",
     "text": [
      "train dice score : 0.9284957051277161, train loss 0.10496871741978746\n",
      "valid dice score : 0.9405771493911743, valid loss 0.09216142423889216\n",
      "saving model\n"
     ]
    },
    {
     "data": {
      "application/vnd.jupyter.widget-view+json": {
       "model_id": "50d4b4c1b02b494ab44d6042117b8372",
       "version_major": 2,
       "version_minor": 0
      },
      "text/plain": [
       "  0%|          | 0/38 [00:00<?, ?it/s]"
      ]
     },
     "metadata": {},
     "output_type": "display_data"
    },
    {
     "data": {
      "application/vnd.jupyter.widget-view+json": {
       "model_id": "7af3cfe2633f4bcb99c242444df8d53c",
       "version_major": 2,
       "version_minor": 0
      },
      "text/plain": [
       "  0%|          | 0/17 [00:00<?, ?it/s]"
      ]
     },
     "metadata": {},
     "output_type": "display_data"
    },
    {
     "name": "stdout",
     "output_type": "stream",
     "text": [
      "train dice score : 0.9351332783699036, train loss 0.09718163811454647\n",
      "valid dice score : 0.9444136619567871, valid loss 0.0937829455908607\n"
     ]
    },
    {
     "data": {
      "application/vnd.jupyter.widget-view+json": {
       "model_id": "a936f0dd8ce54d27b1001caababde0f1",
       "version_major": 2,
       "version_minor": 0
      },
      "text/plain": [
       "  0%|          | 0/38 [00:00<?, ?it/s]"
      ]
     },
     "metadata": {},
     "output_type": "display_data"
    },
    {
     "data": {
      "application/vnd.jupyter.widget-view+json": {
       "model_id": "1cfd8201dbe74679be99a789459d765c",
       "version_major": 2,
       "version_minor": 0
      },
      "text/plain": [
       "  0%|          | 0/17 [00:00<?, ?it/s]"
      ]
     },
     "metadata": {},
     "output_type": "display_data"
    },
    {
     "name": "stdout",
     "output_type": "stream",
     "text": [
      "train dice score : 0.9436090588569641, train loss 0.08285577712874663\n",
      "valid dice score : 0.9521183967590332, valid loss 0.07690607098972096\n",
      "saving model\n"
     ]
    },
    {
     "data": {
      "application/vnd.jupyter.widget-view+json": {
       "model_id": "e82f2901bb2645a08c52c08625e41428",
       "version_major": 2,
       "version_minor": 0
      },
      "text/plain": [
       "  0%|          | 0/38 [00:00<?, ?it/s]"
      ]
     },
     "metadata": {},
     "output_type": "display_data"
    },
    {
     "data": {
      "application/vnd.jupyter.widget-view+json": {
       "model_id": "49980e1a57bf491ebc2b11189beb3889",
       "version_major": 2,
       "version_minor": 0
      },
      "text/plain": [
       "  0%|          | 0/17 [00:00<?, ?it/s]"
      ]
     },
     "metadata": {},
     "output_type": "display_data"
    },
    {
     "name": "stdout",
     "output_type": "stream",
     "text": [
      "train dice score : 0.9471046328544617, train loss 0.08073290074734311\n",
      "valid dice score : 0.9482942223548889, valid loss 0.08914339914917946\n"
     ]
    },
    {
     "data": {
      "application/vnd.jupyter.widget-view+json": {
       "model_id": "774d00ab5b414d9eb291268dff891248",
       "version_major": 2,
       "version_minor": 0
      },
      "text/plain": [
       "  0%|          | 0/38 [00:00<?, ?it/s]"
      ]
     },
     "metadata": {},
     "output_type": "display_data"
    },
    {
     "data": {
      "application/vnd.jupyter.widget-view+json": {
       "model_id": "51c6c5428beb4062a045d182eef76346",
       "version_major": 2,
       "version_minor": 0
      },
      "text/plain": [
       "  0%|          | 0/17 [00:00<?, ?it/s]"
      ]
     },
     "metadata": {},
     "output_type": "display_data"
    },
    {
     "name": "stdout",
     "output_type": "stream",
     "text": [
      "train dice score : 0.9510352611541748, train loss 0.07606742776146061\n",
      "valid dice score : 0.9493546485900879, valid loss 0.09147363988792195\n"
     ]
    },
    {
     "data": {
      "application/vnd.jupyter.widget-view+json": {
       "model_id": "375da0bb948c462ca2ffbca15401abeb",
       "version_major": 2,
       "version_minor": 0
      },
      "text/plain": [
       "  0%|          | 0/38 [00:00<?, ?it/s]"
      ]
     },
     "metadata": {},
     "output_type": "display_data"
    },
    {
     "data": {
      "application/vnd.jupyter.widget-view+json": {
       "model_id": "8e2b698cd014401b9a4d3a082e262ded",
       "version_major": 2,
       "version_minor": 0
      },
      "text/plain": [
       "  0%|          | 0/17 [00:00<?, ?it/s]"
      ]
     },
     "metadata": {},
     "output_type": "display_data"
    },
    {
     "name": "stdout",
     "output_type": "stream",
     "text": [
      "train dice score : 0.9551537036895752, train loss 0.06971533233790021\n",
      "valid dice score : 0.945400595664978, valid loss 0.11050221849890317\n"
     ]
    },
    {
     "data": {
      "application/vnd.jupyter.widget-view+json": {
       "model_id": "4b21bd0a38d94870b40cb76c1a2a49d1",
       "version_major": 2,
       "version_minor": 0
      },
      "text/plain": [
       "  0%|          | 0/38 [00:00<?, ?it/s]"
      ]
     },
     "metadata": {},
     "output_type": "display_data"
    },
    {
     "data": {
      "application/vnd.jupyter.widget-view+json": {
       "model_id": "44fbd99c461a4bdd9069e0a4cd7b411d",
       "version_major": 2,
       "version_minor": 0
      },
      "text/plain": [
       "  0%|          | 0/17 [00:00<?, ?it/s]"
      ]
     },
     "metadata": {},
     "output_type": "display_data"
    },
    {
     "name": "stdout",
     "output_type": "stream",
     "text": [
      "train dice score : 0.9567393064498901, train loss 0.06784234401818953\n",
      "valid dice score : 0.9589285850524902, valid loss 0.06967991196057376\n",
      "saving model\n"
     ]
    },
    {
     "data": {
      "application/vnd.jupyter.widget-view+json": {
       "model_id": "8515ccb5aaae4285854e49a26f1a656c",
       "version_major": 2,
       "version_minor": 0
      },
      "text/plain": [
       "  0%|          | 0/38 [00:00<?, ?it/s]"
      ]
     },
     "metadata": {},
     "output_type": "display_data"
    },
    {
     "data": {
      "application/vnd.jupyter.widget-view+json": {
       "model_id": "56c96a21ca744b55a9f273ace76bdb02",
       "version_major": 2,
       "version_minor": 0
      },
      "text/plain": [
       "  0%|          | 0/17 [00:00<?, ?it/s]"
      ]
     },
     "metadata": {},
     "output_type": "display_data"
    },
    {
     "name": "stdout",
     "output_type": "stream",
     "text": [
      "train dice score : 0.957362949848175, train loss 0.06871840602865345\n",
      "valid dice score : 0.9618330597877502, valid loss 0.0695892146185917\n",
      "saving model\n"
     ]
    },
    {
     "data": {
      "application/vnd.jupyter.widget-view+json": {
       "model_id": "5d1dd172ddb64da38c820031c4e17be7",
       "version_major": 2,
       "version_minor": 0
      },
      "text/plain": [
       "  0%|          | 0/38 [00:00<?, ?it/s]"
      ]
     },
     "metadata": {},
     "output_type": "display_data"
    },
    {
     "data": {
      "application/vnd.jupyter.widget-view+json": {
       "model_id": "301324c3fc7c45cebb62c3396278a070",
       "version_major": 2,
       "version_minor": 0
      },
      "text/plain": [
       "  0%|          | 0/17 [00:00<?, ?it/s]"
      ]
     },
     "metadata": {},
     "output_type": "display_data"
    },
    {
     "name": "stdout",
     "output_type": "stream",
     "text": [
      "train dice score : 0.9605250954627991, train loss 0.061753436432857266\n",
      "valid dice score : 0.9648234248161316, valid loss 0.08204196305835948\n"
     ]
    },
    {
     "data": {
      "application/vnd.jupyter.widget-view+json": {
       "model_id": "b5ff9043963f4e58ab0f220773c64602",
       "version_major": 2,
       "version_minor": 0
      },
      "text/plain": [
       "  0%|          | 0/38 [00:00<?, ?it/s]"
      ]
     },
     "metadata": {},
     "output_type": "display_data"
    },
    {
     "data": {
      "application/vnd.jupyter.widget-view+json": {
       "model_id": "10bf38ab18ff48a0babe949bd03b9df4",
       "version_major": 2,
       "version_minor": 0
      },
      "text/plain": [
       "  0%|          | 0/17 [00:00<?, ?it/s]"
      ]
     },
     "metadata": {},
     "output_type": "display_data"
    },
    {
     "name": "stdout",
     "output_type": "stream",
     "text": [
      "train dice score : 0.9652965664863586, train loss 0.05428046086116841\n",
      "valid dice score : 0.9633022546768188, valid loss 0.07324488954070736\n"
     ]
    },
    {
     "data": {
      "application/vnd.jupyter.widget-view+json": {
       "model_id": "025cb28e1df848dda1659dbec87f6028",
       "version_major": 2,
       "version_minor": 0
      },
      "text/plain": [
       "  0%|          | 0/38 [00:00<?, ?it/s]"
      ]
     },
     "metadata": {},
     "output_type": "display_data"
    },
    {
     "data": {
      "application/vnd.jupyter.widget-view+json": {
       "model_id": "aedf10f44db4463da6457674ff9c46a3",
       "version_major": 2,
       "version_minor": 0
      },
      "text/plain": [
       "  0%|          | 0/17 [00:00<?, ?it/s]"
      ]
     },
     "metadata": {},
     "output_type": "display_data"
    },
    {
     "name": "stdout",
     "output_type": "stream",
     "text": [
      "train dice score : 0.9668341279029846, train loss 0.05420993229276255\n",
      "valid dice score : 0.9608743190765381, valid loss 0.08977809329243268\n"
     ]
    },
    {
     "data": {
      "application/vnd.jupyter.widget-view+json": {
       "model_id": "8fe8a1ad637248b6a1858b8375e04a25",
       "version_major": 2,
       "version_minor": 0
      },
      "text/plain": [
       "  0%|          | 0/38 [00:00<?, ?it/s]"
      ]
     },
     "metadata": {},
     "output_type": "display_data"
    },
    {
     "data": {
      "application/vnd.jupyter.widget-view+json": {
       "model_id": "0d7554ea019f49f58624c9ef3d45a912",
       "version_major": 2,
       "version_minor": 0
      },
      "text/plain": [
       "  0%|          | 0/17 [00:00<?, ?it/s]"
      ]
     },
     "metadata": {},
     "output_type": "display_data"
    },
    {
     "name": "stdout",
     "output_type": "stream",
     "text": [
      "train dice score : 0.9670870900154114, train loss 0.05405240540245646\n",
      "valid dice score : 0.9625864624977112, valid loss 0.08394914482008009\n"
     ]
    },
    {
     "data": {
      "application/vnd.jupyter.widget-view+json": {
       "model_id": "0a9fdbd8f2874596b6157dc9cf6257c8",
       "version_major": 2,
       "version_minor": 0
      },
      "text/plain": [
       "  0%|          | 0/38 [00:00<?, ?it/s]"
      ]
     },
     "metadata": {},
     "output_type": "display_data"
    },
    {
     "data": {
      "application/vnd.jupyter.widget-view+json": {
       "model_id": "c6297ac5842b41238905bbd8c35805e0",
       "version_major": 2,
       "version_minor": 0
      },
      "text/plain": [
       "  0%|          | 0/17 [00:00<?, ?it/s]"
      ]
     },
     "metadata": {},
     "output_type": "display_data"
    },
    {
     "name": "stdout",
     "output_type": "stream",
     "text": [
      "train dice score : 0.968483567237854, train loss 0.05086387149793537\n",
      "valid dice score : 0.9568755030632019, valid loss 0.11985030759345083\n",
      "Training terminated, no improvement in valid loss\n",
      "started fitting the model\n"
     ]
    },
    {
     "data": {
      "application/vnd.jupyter.widget-view+json": {
       "model_id": "0c1209c080f34b7899c932525bb9492d",
       "version_major": 2,
       "version_minor": 0
      },
      "text/plain": [
       "  0%|          | 0/38 [00:00<?, ?it/s]"
      ]
     },
     "metadata": {},
     "output_type": "display_data"
    },
    {
     "data": {
      "application/vnd.jupyter.widget-view+json": {
       "model_id": "467090ddd389410da4c8b479787f8a07",
       "version_major": 2,
       "version_minor": 0
      },
      "text/plain": [
       "  0%|          | 0/17 [00:00<?, ?it/s]"
      ]
     },
     "metadata": {},
     "output_type": "display_data"
    },
    {
     "name": "stdout",
     "output_type": "stream",
     "text": [
      "train dice score : 0.6797523498535156, train loss 0.46358846676977056\n",
      "valid dice score : 0.6832900047302246, valid loss 0.44138094607521505\n",
      "saving model\n"
     ]
    },
    {
     "data": {
      "application/vnd.jupyter.widget-view+json": {
       "model_id": "73fb20692b4640029599e17f73a147df",
       "version_major": 2,
       "version_minor": 0
      },
      "text/plain": [
       "  0%|          | 0/38 [00:00<?, ?it/s]"
      ]
     },
     "metadata": {},
     "output_type": "display_data"
    },
    {
     "data": {
      "application/vnd.jupyter.widget-view+json": {
       "model_id": "d80d378dc3d94da69f4c8091d75e1215",
       "version_major": 2,
       "version_minor": 0
      },
      "text/plain": [
       "  0%|          | 0/17 [00:00<?, ?it/s]"
      ]
     },
     "metadata": {},
     "output_type": "display_data"
    },
    {
     "name": "stdout",
     "output_type": "stream",
     "text": [
      "train dice score : 0.7420668601989746, train loss 0.3596495515421817\n",
      "valid dice score : 0.7520451545715332, valid loss 0.35481832746197195\n",
      "saving model\n"
     ]
    },
    {
     "data": {
      "application/vnd.jupyter.widget-view+json": {
       "model_id": "39f275037aaf4d2490d7591c715a02d8",
       "version_major": 2,
       "version_minor": 0
      },
      "text/plain": [
       "  0%|          | 0/38 [00:00<?, ?it/s]"
      ]
     },
     "metadata": {},
     "output_type": "display_data"
    },
    {
     "data": {
      "application/vnd.jupyter.widget-view+json": {
       "model_id": "33da9cad16ca406ca96da5cc7bf504c3",
       "version_major": 2,
       "version_minor": 0
      },
      "text/plain": [
       "  0%|          | 0/17 [00:00<?, ?it/s]"
      ]
     },
     "metadata": {},
     "output_type": "display_data"
    },
    {
     "name": "stdout",
     "output_type": "stream",
     "text": [
      "train dice score : 0.7961565852165222, train loss 0.28722654910464035\n",
      "valid dice score : 0.79533451795578, valid loss 0.2708468866698882\n",
      "saving model\n"
     ]
    },
    {
     "data": {
      "application/vnd.jupyter.widget-view+json": {
       "model_id": "73491a602ce34fe4b806613bebe61115",
       "version_major": 2,
       "version_minor": 0
      },
      "text/plain": [
       "  0%|          | 0/38 [00:00<?, ?it/s]"
      ]
     },
     "metadata": {},
     "output_type": "display_data"
    },
    {
     "data": {
      "application/vnd.jupyter.widget-view+json": {
       "model_id": "e5151e91039b47a29786471cba7f03c6",
       "version_major": 2,
       "version_minor": 0
      },
      "text/plain": [
       "  0%|          | 0/17 [00:00<?, ?it/s]"
      ]
     },
     "metadata": {},
     "output_type": "display_data"
    },
    {
     "name": "stdout",
     "output_type": "stream",
     "text": [
      "train dice score : 0.8551599383354187, train loss 0.19363921998362793\n",
      "valid dice score : 0.8639838695526123, valid loss 0.18785671933608897\n",
      "saving model\n"
     ]
    },
    {
     "data": {
      "application/vnd.jupyter.widget-view+json": {
       "model_id": "7bbec7683f0b48deb7eec766b79aea5b",
       "version_major": 2,
       "version_minor": 0
      },
      "text/plain": [
       "  0%|          | 0/38 [00:00<?, ?it/s]"
      ]
     },
     "metadata": {},
     "output_type": "display_data"
    },
    {
     "data": {
      "application/vnd.jupyter.widget-view+json": {
       "model_id": "9cb31eafff7b46c585a84106ab0004dc",
       "version_major": 2,
       "version_minor": 0
      },
      "text/plain": [
       "  0%|          | 0/17 [00:00<?, ?it/s]"
      ]
     },
     "metadata": {},
     "output_type": "display_data"
    },
    {
     "name": "stdout",
     "output_type": "stream",
     "text": [
      "train dice score : 0.896446704864502, train loss 0.14557475537845962\n",
      "valid dice score : 0.906112015247345, valid loss 0.13265936602564418\n",
      "saving model\n"
     ]
    },
    {
     "data": {
      "application/vnd.jupyter.widget-view+json": {
       "model_id": "39547d46deb5443e802449906de9a0c6",
       "version_major": 2,
       "version_minor": 0
      },
      "text/plain": [
       "  0%|          | 0/38 [00:00<?, ?it/s]"
      ]
     },
     "metadata": {},
     "output_type": "display_data"
    },
    {
     "data": {
      "application/vnd.jupyter.widget-view+json": {
       "model_id": "87f2ccc4739942abb18e060ddd185e4c",
       "version_major": 2,
       "version_minor": 0
      },
      "text/plain": [
       "  0%|          | 0/17 [00:00<?, ?it/s]"
      ]
     },
     "metadata": {},
     "output_type": "display_data"
    },
    {
     "name": "stdout",
     "output_type": "stream",
     "text": [
      "train dice score : 0.9159027934074402, train loss 0.11977512958018403\n",
      "valid dice score : 0.9183048009872437, valid loss 0.11785653430749388\n",
      "saving model\n"
     ]
    },
    {
     "data": {
      "application/vnd.jupyter.widget-view+json": {
       "model_id": "91e0e6877af94390a035ff622bfe5e94",
       "version_major": 2,
       "version_minor": 0
      },
      "text/plain": [
       "  0%|          | 0/38 [00:00<?, ?it/s]"
      ]
     },
     "metadata": {},
     "output_type": "display_data"
    },
    {
     "data": {
      "application/vnd.jupyter.widget-view+json": {
       "model_id": "d55df9ff8e35485787b5e1244f0f7b89",
       "version_major": 2,
       "version_minor": 0
      },
      "text/plain": [
       "  0%|          | 0/17 [00:00<?, ?it/s]"
      ]
     },
     "metadata": {},
     "output_type": "display_data"
    },
    {
     "name": "stdout",
     "output_type": "stream",
     "text": [
      "train dice score : 0.9289649128913879, train loss 0.10340700631863192\n",
      "valid dice score : 0.9296733736991882, valid loss 0.10837224454564207\n",
      "saving model\n"
     ]
    },
    {
     "data": {
      "application/vnd.jupyter.widget-view+json": {
       "model_id": "6d729a93f42d48d6ab7aa4721be1fb93",
       "version_major": 2,
       "version_minor": 0
      },
      "text/plain": [
       "  0%|          | 0/38 [00:00<?, ?it/s]"
      ]
     },
     "metadata": {},
     "output_type": "display_data"
    },
    {
     "data": {
      "application/vnd.jupyter.widget-view+json": {
       "model_id": "1299be35d7e34cbc83804ae5ef34f30a",
       "version_major": 2,
       "version_minor": 0
      },
      "text/plain": [
       "  0%|          | 0/17 [00:00<?, ?it/s]"
      ]
     },
     "metadata": {},
     "output_type": "display_data"
    },
    {
     "name": "stdout",
     "output_type": "stream",
     "text": [
      "train dice score : 0.9371398091316223, train loss 0.09258855104838547\n",
      "valid dice score : 0.9277833700180054, valid loss 0.11376465506413404\n"
     ]
    },
    {
     "data": {
      "application/vnd.jupyter.widget-view+json": {
       "model_id": "4ff115bfa39c4db4ac26ef7c96427551",
       "version_major": 2,
       "version_minor": 0
      },
      "text/plain": [
       "  0%|          | 0/38 [00:00<?, ?it/s]"
      ]
     },
     "metadata": {},
     "output_type": "display_data"
    },
    {
     "data": {
      "application/vnd.jupyter.widget-view+json": {
       "model_id": "09b3516bfb5e45edb5ae2714faa08214",
       "version_major": 2,
       "version_minor": 0
      },
      "text/plain": [
       "  0%|          | 0/17 [00:00<?, ?it/s]"
      ]
     },
     "metadata": {},
     "output_type": "display_data"
    },
    {
     "name": "stdout",
     "output_type": "stream",
     "text": [
      "train dice score : 0.9448073506355286, train loss 0.08382039438737066\n",
      "valid dice score : 0.9313951134681702, valid loss 0.11326197556713048\n"
     ]
    },
    {
     "data": {
      "application/vnd.jupyter.widget-view+json": {
       "model_id": "362830cda83b47b59a374772343bb161",
       "version_major": 2,
       "version_minor": 0
      },
      "text/plain": [
       "  0%|          | 0/38 [00:00<?, ?it/s]"
      ]
     },
     "metadata": {},
     "output_type": "display_data"
    },
    {
     "data": {
      "application/vnd.jupyter.widget-view+json": {
       "model_id": "70cac20a54d043d9b6cadb1278bc4556",
       "version_major": 2,
       "version_minor": 0
      },
      "text/plain": [
       "  0%|          | 0/17 [00:00<?, ?it/s]"
      ]
     },
     "metadata": {},
     "output_type": "display_data"
    },
    {
     "name": "stdout",
     "output_type": "stream",
     "text": [
      "train dice score : 0.9480119943618774, train loss 0.08013217337429523\n",
      "valid dice score : 0.94132399559021, valid loss 0.09590681751861292\n",
      "saving model\n"
     ]
    },
    {
     "data": {
      "application/vnd.jupyter.widget-view+json": {
       "model_id": "e511a54442304b84ac08bac845600efb",
       "version_major": 2,
       "version_minor": 0
      },
      "text/plain": [
       "  0%|          | 0/38 [00:00<?, ?it/s]"
      ]
     },
     "metadata": {},
     "output_type": "display_data"
    },
    {
     "data": {
      "application/vnd.jupyter.widget-view+json": {
       "model_id": "bd9766e39ed04491916f5516238261d6",
       "version_major": 2,
       "version_minor": 0
      },
      "text/plain": [
       "  0%|          | 0/17 [00:00<?, ?it/s]"
      ]
     },
     "metadata": {},
     "output_type": "display_data"
    },
    {
     "name": "stdout",
     "output_type": "stream",
     "text": [
      "train dice score : 0.9537654519081116, train loss 0.07043884420081188\n",
      "valid dice score : 0.9372519254684448, valid loss 0.1138393396840376\n"
     ]
    },
    {
     "data": {
      "application/vnd.jupyter.widget-view+json": {
       "model_id": "8413c9d952044873a59d23f4b0407158",
       "version_major": 2,
       "version_minor": 0
      },
      "text/plain": [
       "  0%|          | 0/38 [00:00<?, ?it/s]"
      ]
     },
     "metadata": {},
     "output_type": "display_data"
    },
    {
     "data": {
      "application/vnd.jupyter.widget-view+json": {
       "model_id": "ebc7026e71224d868e1b16cfe5a3751e",
       "version_major": 2,
       "version_minor": 0
      },
      "text/plain": [
       "  0%|          | 0/17 [00:00<?, ?it/s]"
      ]
     },
     "metadata": {},
     "output_type": "display_data"
    },
    {
     "name": "stdout",
     "output_type": "stream",
     "text": [
      "train dice score : 0.953885018825531, train loss 0.07491803541779518\n",
      "valid dice score : 0.9415929317474365, valid loss 0.10778399797923424\n"
     ]
    },
    {
     "data": {
      "application/vnd.jupyter.widget-view+json": {
       "model_id": "63140f033cb54d45853cb9fc5d33a54e",
       "version_major": 2,
       "version_minor": 0
      },
      "text/plain": [
       "  0%|          | 0/38 [00:00<?, ?it/s]"
      ]
     },
     "metadata": {},
     "output_type": "display_data"
    },
    {
     "data": {
      "application/vnd.jupyter.widget-view+json": {
       "model_id": "43e9e345787f4c8091d7ca8f03ee61bd",
       "version_major": 2,
       "version_minor": 0
      },
      "text/plain": [
       "  0%|          | 0/17 [00:00<?, ?it/s]"
      ]
     },
     "metadata": {},
     "output_type": "display_data"
    },
    {
     "name": "stdout",
     "output_type": "stream",
     "text": [
      "train dice score : 0.9577465057373047, train loss 0.06550564058125019\n",
      "valid dice score : 0.9460054039955139, valid loss 0.0949304199174923\n",
      "saving model\n"
     ]
    },
    {
     "data": {
      "application/vnd.jupyter.widget-view+json": {
       "model_id": "0dcb048e8b884e6cb2509e1472192ccf",
       "version_major": 2,
       "version_minor": 0
      },
      "text/plain": [
       "  0%|          | 0/38 [00:00<?, ?it/s]"
      ]
     },
     "metadata": {},
     "output_type": "display_data"
    },
    {
     "data": {
      "application/vnd.jupyter.widget-view+json": {
       "model_id": "f2540b302ae34e829566515b8ea623ec",
       "version_major": 2,
       "version_minor": 0
      },
      "text/plain": [
       "  0%|          | 0/17 [00:00<?, ?it/s]"
      ]
     },
     "metadata": {},
     "output_type": "display_data"
    },
    {
     "name": "stdout",
     "output_type": "stream",
     "text": [
      "train dice score : 0.9626469612121582, train loss 0.05889809170835897\n",
      "valid dice score : 0.9532952904701233, valid loss 0.09988017544588622\n"
     ]
    },
    {
     "data": {
      "application/vnd.jupyter.widget-view+json": {
       "model_id": "209fcb1b2b204cb2a5f56b37750a56ba",
       "version_major": 2,
       "version_minor": 0
      },
      "text/plain": [
       "  0%|          | 0/38 [00:00<?, ?it/s]"
      ]
     },
     "metadata": {},
     "output_type": "display_data"
    },
    {
     "data": {
      "application/vnd.jupyter.widget-view+json": {
       "model_id": "0cbd5de2d4d74eec9b1d57f271bee5e4",
       "version_major": 2,
       "version_minor": 0
      },
      "text/plain": [
       "  0%|          | 0/17 [00:00<?, ?it/s]"
      ]
     },
     "metadata": {},
     "output_type": "display_data"
    },
    {
     "name": "stdout",
     "output_type": "stream",
     "text": [
      "train dice score : 0.9621801972389221, train loss 0.06467887347466067\n",
      "valid dice score : 0.9535803198814392, valid loss 0.08970232548959114\n",
      "saving model\n"
     ]
    },
    {
     "data": {
      "application/vnd.jupyter.widget-view+json": {
       "model_id": "b32d5a182c644d579badbe19f5f2bb84",
       "version_major": 2,
       "version_minor": 0
      },
      "text/plain": [
       "  0%|          | 0/38 [00:00<?, ?it/s]"
      ]
     },
     "metadata": {},
     "output_type": "display_data"
    },
    {
     "data": {
      "application/vnd.jupyter.widget-view+json": {
       "model_id": "d4cb415f12ba4afd90d24cf549d25b7f",
       "version_major": 2,
       "version_minor": 0
      },
      "text/plain": [
       "  0%|          | 0/17 [00:00<?, ?it/s]"
      ]
     },
     "metadata": {},
     "output_type": "display_data"
    },
    {
     "name": "stdout",
     "output_type": "stream",
     "text": [
      "train dice score : 0.9617756009101868, train loss 0.06019244499896702\n",
      "valid dice score : 0.9516088962554932, valid loss 0.09196510812377229\n"
     ]
    },
    {
     "data": {
      "application/vnd.jupyter.widget-view+json": {
       "model_id": "986f119573ea4a58883a2e4204e45395",
       "version_major": 2,
       "version_minor": 0
      },
      "text/plain": [
       "  0%|          | 0/38 [00:00<?, ?it/s]"
      ]
     },
     "metadata": {},
     "output_type": "display_data"
    },
    {
     "data": {
      "application/vnd.jupyter.widget-view+json": {
       "model_id": "a0f8744933d64b03a918642a6cbf2a3f",
       "version_major": 2,
       "version_minor": 0
      },
      "text/plain": [
       "  0%|          | 0/17 [00:00<?, ?it/s]"
      ]
     },
     "metadata": {},
     "output_type": "display_data"
    },
    {
     "name": "stdout",
     "output_type": "stream",
     "text": [
      "train dice score : 0.9673311114311218, train loss 0.05224283637576982\n",
      "valid dice score : 0.9512326717376709, valid loss 0.09926826594506993\n"
     ]
    },
    {
     "data": {
      "application/vnd.jupyter.widget-view+json": {
       "model_id": "127bf90d58194d45862093e62474dac8",
       "version_major": 2,
       "version_minor": 0
      },
      "text/plain": [
       "  0%|          | 0/38 [00:00<?, ?it/s]"
      ]
     },
     "metadata": {},
     "output_type": "display_data"
    },
    {
     "data": {
      "application/vnd.jupyter.widget-view+json": {
       "model_id": "eca93db8ff8344f899daa986314fc13b",
       "version_major": 2,
       "version_minor": 0
      },
      "text/plain": [
       "  0%|          | 0/17 [00:00<?, ?it/s]"
      ]
     },
     "metadata": {},
     "output_type": "display_data"
    },
    {
     "name": "stdout",
     "output_type": "stream",
     "text": [
      "train dice score : 0.9688007831573486, train loss 0.052188898338691184\n",
      "valid dice score : 0.9440082311630249, valid loss 0.11659952822853537\n"
     ]
    },
    {
     "data": {
      "application/vnd.jupyter.widget-view+json": {
       "model_id": "0645c3658f7846b2b2c5f01ccdb073ad",
       "version_major": 2,
       "version_minor": 0
      },
      "text/plain": [
       "  0%|          | 0/38 [00:00<?, ?it/s]"
      ]
     },
     "metadata": {},
     "output_type": "display_data"
    },
    {
     "data": {
      "application/vnd.jupyter.widget-view+json": {
       "model_id": "91aeed2f62504de4a4a3c20f84243fad",
       "version_major": 2,
       "version_minor": 0
      },
      "text/plain": [
       "  0%|          | 0/17 [00:00<?, ?it/s]"
      ]
     },
     "metadata": {},
     "output_type": "display_data"
    },
    {
     "name": "stdout",
     "output_type": "stream",
     "text": [
      "train dice score : 0.9695499539375305, train loss 0.04853714365316065\n",
      "valid dice score : 0.9446023106575012, valid loss 0.11007560219834833\n"
     ]
    },
    {
     "data": {
      "application/vnd.jupyter.widget-view+json": {
       "model_id": "7493cdf2a21a4d5a8b4ad65109249f9c",
       "version_major": 2,
       "version_minor": 0
      },
      "text/plain": [
       "  0%|          | 0/38 [00:00<?, ?it/s]"
      ]
     },
     "metadata": {},
     "output_type": "display_data"
    },
    {
     "data": {
      "application/vnd.jupyter.widget-view+json": {
       "model_id": "e5c8a3720a424d3396f488fee16edcb8",
       "version_major": 2,
       "version_minor": 0
      },
      "text/plain": [
       "  0%|          | 0/17 [00:00<?, ?it/s]"
      ]
     },
     "metadata": {},
     "output_type": "display_data"
    },
    {
     "name": "stdout",
     "output_type": "stream",
     "text": [
      "train dice score : 0.9685108661651611, train loss 0.05507531698401037\n",
      "valid dice score : 0.9576512575149536, valid loss 0.10180271504556432\n",
      "Training terminated, no improvement in valid loss\n",
      "started fitting the model\n"
     ]
    },
    {
     "data": {
      "application/vnd.jupyter.widget-view+json": {
       "model_id": "eddea2f93d5840bb9a7f964dc9fb4c54",
       "version_major": 2,
       "version_minor": 0
      },
      "text/plain": [
       "  0%|          | 0/49 [00:00<?, ?it/s]"
      ]
     },
     "metadata": {},
     "output_type": "display_data"
    },
    {
     "data": {
      "application/vnd.jupyter.widget-view+json": {
       "model_id": "e0cff1de7e80416597d9d7930dbd1b3b",
       "version_major": 2,
       "version_minor": 0
      },
      "text/plain": [
       "  0%|          | 0/6 [00:00<?, ?it/s]"
      ]
     },
     "metadata": {},
     "output_type": "display_data"
    },
    {
     "name": "stdout",
     "output_type": "stream",
     "text": [
      "train dice score : 0.5393572449684143, train loss 0.6903030081671111\n",
      "valid dice score : 0.5215696692466736, valid loss 0.6917090117931366\n",
      "saving model\n"
     ]
    },
    {
     "data": {
      "application/vnd.jupyter.widget-view+json": {
       "model_id": "0732d6a818aa420f899bb1eeb84f2983",
       "version_major": 2,
       "version_minor": 0
      },
      "text/plain": [
       "  0%|          | 0/49 [00:00<?, ?it/s]"
      ]
     },
     "metadata": {},
     "output_type": "display_data"
    },
    {
     "data": {
      "application/vnd.jupyter.widget-view+json": {
       "model_id": "a92d442541a64aa39f7f6d1a1042eb99",
       "version_major": 2,
       "version_minor": 0
      },
      "text/plain": [
       "  0%|          | 0/6 [00:00<?, ?it/s]"
      ]
     },
     "metadata": {},
     "output_type": "display_data"
    },
    {
     "name": "stdout",
     "output_type": "stream",
     "text": [
      "train dice score : 0.6362180709838867, train loss 0.4934441252630584\n",
      "valid dice score : 0.6338279247283936, valid loss 0.4832138816515605\n",
      "saving model\n"
     ]
    },
    {
     "data": {
      "application/vnd.jupyter.widget-view+json": {
       "model_id": "ab54f9e3842b40b88e9c279247aae484",
       "version_major": 2,
       "version_minor": 0
      },
      "text/plain": [
       "  0%|          | 0/49 [00:00<?, ?it/s]"
      ]
     },
     "metadata": {},
     "output_type": "display_data"
    },
    {
     "data": {
      "application/vnd.jupyter.widget-view+json": {
       "model_id": "902c076a530f4b29a927edc2989ea905",
       "version_major": 2,
       "version_minor": 0
      },
      "text/plain": [
       "  0%|          | 0/6 [00:00<?, ?it/s]"
      ]
     },
     "metadata": {},
     "output_type": "display_data"
    },
    {
     "name": "stdout",
     "output_type": "stream",
     "text": [
      "train dice score : 0.7538588643074036, train loss 0.3172579571908834\n",
      "valid dice score : 0.7935090065002441, valid loss 0.2637312784790993\n",
      "saving model\n"
     ]
    },
    {
     "data": {
      "application/vnd.jupyter.widget-view+json": {
       "model_id": "eb78604879174bffbdde04140166f61e",
       "version_major": 2,
       "version_minor": 0
      },
      "text/plain": [
       "  0%|          | 0/49 [00:00<?, ?it/s]"
      ]
     },
     "metadata": {},
     "output_type": "display_data"
    },
    {
     "data": {
      "application/vnd.jupyter.widget-view+json": {
       "model_id": "29b4de17803c4ec1a7cd00073147cf0f",
       "version_major": 2,
       "version_minor": 0
      },
      "text/plain": [
       "  0%|          | 0/6 [00:00<?, ?it/s]"
      ]
     },
     "metadata": {},
     "output_type": "display_data"
    },
    {
     "name": "stdout",
     "output_type": "stream",
     "text": [
      "train dice score : 0.8474293947219849, train loss 0.19951940130214302\n",
      "valid dice score : 0.8634021878242493, valid loss 0.18793348471323648\n",
      "saving model\n"
     ]
    },
    {
     "data": {
      "application/vnd.jupyter.widget-view+json": {
       "model_id": "a5ab3e9bba504b70aabca51c3e64be78",
       "version_major": 2,
       "version_minor": 0
      },
      "text/plain": [
       "  0%|          | 0/49 [00:00<?, ?it/s]"
      ]
     },
     "metadata": {},
     "output_type": "display_data"
    },
    {
     "data": {
      "application/vnd.jupyter.widget-view+json": {
       "model_id": "8cfb26ef699b403b857d66016e36c4c7",
       "version_major": 2,
       "version_minor": 0
      },
      "text/plain": [
       "  0%|          | 0/6 [00:00<?, ?it/s]"
      ]
     },
     "metadata": {},
     "output_type": "display_data"
    },
    {
     "name": "stdout",
     "output_type": "stream",
     "text": [
      "train dice score : 0.8905377984046936, train loss 0.14804291269000697\n",
      "valid dice score : 0.8902757167816162, valid loss 0.16209703435500464\n",
      "saving model\n"
     ]
    },
    {
     "data": {
      "application/vnd.jupyter.widget-view+json": {
       "model_id": "04fa44a831af47da91b36b1c99c4728c",
       "version_major": 2,
       "version_minor": 0
      },
      "text/plain": [
       "  0%|          | 0/49 [00:00<?, ?it/s]"
      ]
     },
     "metadata": {},
     "output_type": "display_data"
    },
    {
     "data": {
      "application/vnd.jupyter.widget-view+json": {
       "model_id": "0c938b9e78404adca2494180b28dd3d4",
       "version_major": 2,
       "version_minor": 0
      },
      "text/plain": [
       "  0%|          | 0/6 [00:00<?, ?it/s]"
      ]
     },
     "metadata": {},
     "output_type": "display_data"
    },
    {
     "name": "stdout",
     "output_type": "stream",
     "text": [
      "train dice score : 0.9136757254600525, train loss 0.11876026419352512\n",
      "valid dice score : 0.9035384058952332, valid loss 0.1521792827794949\n",
      "saving model\n"
     ]
    },
    {
     "data": {
      "application/vnd.jupyter.widget-view+json": {
       "model_id": "f7023b6e043043bd908677842d03debc",
       "version_major": 2,
       "version_minor": 0
      },
      "text/plain": [
       "  0%|          | 0/49 [00:00<?, ?it/s]"
      ]
     },
     "metadata": {},
     "output_type": "display_data"
    },
    {
     "data": {
      "application/vnd.jupyter.widget-view+json": {
       "model_id": "6422924f81444f99983dd6e0b2b1ab85",
       "version_major": 2,
       "version_minor": 0
      },
      "text/plain": [
       "  0%|          | 0/6 [00:00<?, ?it/s]"
      ]
     },
     "metadata": {},
     "output_type": "display_data"
    },
    {
     "name": "stdout",
     "output_type": "stream",
     "text": [
      "train dice score : 0.926349401473999, train loss 0.10692839430911201\n",
      "valid dice score : 0.9163453578948975, valid loss 0.1463516460110744\n",
      "saving model\n"
     ]
    },
    {
     "data": {
      "application/vnd.jupyter.widget-view+json": {
       "model_id": "be045be8bca04f71bedf1c15b0cf189c",
       "version_major": 2,
       "version_minor": 0
      },
      "text/plain": [
       "  0%|          | 0/49 [00:00<?, ?it/s]"
      ]
     },
     "metadata": {},
     "output_type": "display_data"
    },
    {
     "data": {
      "application/vnd.jupyter.widget-view+json": {
       "model_id": "a1867b083d794421902f57ef71bc9aaf",
       "version_major": 2,
       "version_minor": 0
      },
      "text/plain": [
       "  0%|          | 0/6 [00:00<?, ?it/s]"
      ]
     },
     "metadata": {},
     "output_type": "display_data"
    },
    {
     "name": "stdout",
     "output_type": "stream",
     "text": [
      "train dice score : 0.9335341453552246, train loss 0.09718867946340114\n",
      "valid dice score : 0.9222660064697266, valid loss 0.13785809930413961\n",
      "saving model\n"
     ]
    },
    {
     "data": {
      "application/vnd.jupyter.widget-view+json": {
       "model_id": "98f2c91d9df04d39984aa36528e5be7e",
       "version_major": 2,
       "version_minor": 0
      },
      "text/plain": [
       "  0%|          | 0/49 [00:00<?, ?it/s]"
      ]
     },
     "metadata": {},
     "output_type": "display_data"
    },
    {
     "data": {
      "application/vnd.jupyter.widget-view+json": {
       "model_id": "fc149fffe6654eb0b4003100fd2373db",
       "version_major": 2,
       "version_minor": 0
      },
      "text/plain": [
       "  0%|          | 0/6 [00:00<?, ?it/s]"
      ]
     },
     "metadata": {},
     "output_type": "display_data"
    },
    {
     "name": "stdout",
     "output_type": "stream",
     "text": [
      "train dice score : 0.9410701394081116, train loss 0.08733451009100797\n",
      "valid dice score : 0.9232783317565918, valid loss 0.15328075923025608\n"
     ]
    },
    {
     "data": {
      "application/vnd.jupyter.widget-view+json": {
       "model_id": "8a5d3b69179846469dc45c9c5acae264",
       "version_major": 2,
       "version_minor": 0
      },
      "text/plain": [
       "  0%|          | 0/49 [00:00<?, ?it/s]"
      ]
     },
     "metadata": {},
     "output_type": "display_data"
    },
    {
     "data": {
      "application/vnd.jupyter.widget-view+json": {
       "model_id": "a7ada8f560014180a3c779403dcc1239",
       "version_major": 2,
       "version_minor": 0
      },
      "text/plain": [
       "  0%|          | 0/6 [00:00<?, ?it/s]"
      ]
     },
     "metadata": {},
     "output_type": "display_data"
    },
    {
     "name": "stdout",
     "output_type": "stream",
     "text": [
      "train dice score : 0.9475486278533936, train loss 0.07801960583548156\n",
      "valid dice score : 0.9313355088233948, valid loss 0.13442253662894169\n",
      "saving model\n"
     ]
    },
    {
     "data": {
      "application/vnd.jupyter.widget-view+json": {
       "model_id": "3110955f8f7848fcbce1504951a01e05",
       "version_major": 2,
       "version_minor": 0
      },
      "text/plain": [
       "  0%|          | 0/49 [00:00<?, ?it/s]"
      ]
     },
     "metadata": {},
     "output_type": "display_data"
    },
    {
     "data": {
      "application/vnd.jupyter.widget-view+json": {
       "model_id": "eaf70a3dce8d4c7185bace87e144b32f",
       "version_major": 2,
       "version_minor": 0
      },
      "text/plain": [
       "  0%|          | 0/6 [00:00<?, ?it/s]"
      ]
     },
     "metadata": {},
     "output_type": "display_data"
    },
    {
     "name": "stdout",
     "output_type": "stream",
     "text": [
      "train dice score : 0.9511352181434631, train loss 0.07404057423070985\n",
      "valid dice score : 0.9326357841491699, valid loss 0.13917311824237308\n"
     ]
    },
    {
     "data": {
      "application/vnd.jupyter.widget-view+json": {
       "model_id": "dfab091fd2b04e01b828b6ffa089f0a0",
       "version_major": 2,
       "version_minor": 0
      },
      "text/plain": [
       "  0%|          | 0/49 [00:00<?, ?it/s]"
      ]
     },
     "metadata": {},
     "output_type": "display_data"
    },
    {
     "data": {
      "application/vnd.jupyter.widget-view+json": {
       "model_id": "85d33d3f133c45f9a7d610574e946622",
       "version_major": 2,
       "version_minor": 0
      },
      "text/plain": [
       "  0%|          | 0/6 [00:00<?, ?it/s]"
      ]
     },
     "metadata": {},
     "output_type": "display_data"
    },
    {
     "name": "stdout",
     "output_type": "stream",
     "text": [
      "train dice score : 0.9566022157669067, train loss 0.06690269875891354\n",
      "valid dice score : 0.9361662864685059, valid loss 0.13157558999955654\n",
      "saving model\n"
     ]
    },
    {
     "data": {
      "application/vnd.jupyter.widget-view+json": {
       "model_id": "1b8bde8dc9154ff48d229e9f5e76491e",
       "version_major": 2,
       "version_minor": 0
      },
      "text/plain": [
       "  0%|          | 0/49 [00:00<?, ?it/s]"
      ]
     },
     "metadata": {},
     "output_type": "display_data"
    },
    {
     "data": {
      "application/vnd.jupyter.widget-view+json": {
       "model_id": "284e5a79399144e09f4ca92c4af4a4d6",
       "version_major": 2,
       "version_minor": 0
      },
      "text/plain": [
       "  0%|          | 0/6 [00:00<?, ?it/s]"
      ]
     },
     "metadata": {},
     "output_type": "display_data"
    },
    {
     "name": "stdout",
     "output_type": "stream",
     "text": [
      "train dice score : 0.9577135443687439, train loss 0.06688842785601713\n",
      "valid dice score : 0.9385576248168945, valid loss 0.12134397961199284\n",
      "saving model\n"
     ]
    },
    {
     "data": {
      "application/vnd.jupyter.widget-view+json": {
       "model_id": "a154daa803bb45379080af3f2d3209db",
       "version_major": 2,
       "version_minor": 0
      },
      "text/plain": [
       "  0%|          | 0/49 [00:00<?, ?it/s]"
      ]
     },
     "metadata": {},
     "output_type": "display_data"
    },
    {
     "data": {
      "application/vnd.jupyter.widget-view+json": {
       "model_id": "ce99beefa30e4cd882fe6f97a2da6a6e",
       "version_major": 2,
       "version_minor": 0
      },
      "text/plain": [
       "  0%|          | 0/6 [00:00<?, ?it/s]"
      ]
     },
     "metadata": {},
     "output_type": "display_data"
    },
    {
     "name": "stdout",
     "output_type": "stream",
     "text": [
      "train dice score : 0.9604571461677551, train loss 0.06354715675115585\n",
      "valid dice score : 0.940237820148468, valid loss 0.12713476185066006\n"
     ]
    },
    {
     "data": {
      "application/vnd.jupyter.widget-view+json": {
       "model_id": "4d49e0054fb94323b2edf692b6aa8216",
       "version_major": 2,
       "version_minor": 0
      },
      "text/plain": [
       "  0%|          | 0/49 [00:00<?, ?it/s]"
      ]
     },
     "metadata": {},
     "output_type": "display_data"
    },
    {
     "data": {
      "application/vnd.jupyter.widget-view+json": {
       "model_id": "8e00f61a9c144cd0b29fffa498d22290",
       "version_major": 2,
       "version_minor": 0
      },
      "text/plain": [
       "  0%|          | 0/6 [00:00<?, ?it/s]"
      ]
     },
     "metadata": {},
     "output_type": "display_data"
    },
    {
     "name": "stdout",
     "output_type": "stream",
     "text": [
      "train dice score : 0.9624456167221069, train loss 0.06264665308503473\n",
      "valid dice score : 0.9446800351142883, valid loss 0.14037111463646093\n"
     ]
    },
    {
     "data": {
      "application/vnd.jupyter.widget-view+json": {
       "model_id": "790bbbdb93c04ae890fb8dbb4246a34c",
       "version_major": 2,
       "version_minor": 0
      },
      "text/plain": [
       "  0%|          | 0/49 [00:00<?, ?it/s]"
      ]
     },
     "metadata": {},
     "output_type": "display_data"
    },
    {
     "data": {
      "application/vnd.jupyter.widget-view+json": {
       "model_id": "5a81aded4723479da30f48f5d4cfce0b",
       "version_major": 2,
       "version_minor": 0
      },
      "text/plain": [
       "  0%|          | 0/6 [00:00<?, ?it/s]"
      ]
     },
     "metadata": {},
     "output_type": "display_data"
    },
    {
     "name": "stdout",
     "output_type": "stream",
     "text": [
      "train dice score : 0.9647710919380188, train loss 0.05509034061462295\n",
      "valid dice score : 0.9374480247497559, valid loss 0.1314783690031618\n"
     ]
    },
    {
     "data": {
      "application/vnd.jupyter.widget-view+json": {
       "model_id": "dfcc77a7f978428daf704817b2bea842",
       "version_major": 2,
       "version_minor": 0
      },
      "text/plain": [
       "  0%|          | 0/49 [00:00<?, ?it/s]"
      ]
     },
     "metadata": {},
     "output_type": "display_data"
    },
    {
     "data": {
      "application/vnd.jupyter.widget-view+json": {
       "model_id": "acd160b626fb469c98c2731d999bece3",
       "version_major": 2,
       "version_minor": 0
      },
      "text/plain": [
       "  0%|          | 0/6 [00:00<?, ?it/s]"
      ]
     },
     "metadata": {},
     "output_type": "display_data"
    },
    {
     "name": "stdout",
     "output_type": "stream",
     "text": [
      "train dice score : 0.9684150815010071, train loss 0.04843801609715637\n",
      "valid dice score : 0.9427254796028137, valid loss 0.15128885465674102\n"
     ]
    },
    {
     "data": {
      "application/vnd.jupyter.widget-view+json": {
       "model_id": "a03551e6765b41c2837ab24e4057fc9c",
       "version_major": 2,
       "version_minor": 0
      },
      "text/plain": [
       "  0%|          | 0/49 [00:00<?, ?it/s]"
      ]
     },
     "metadata": {},
     "output_type": "display_data"
    },
    {
     "data": {
      "application/vnd.jupyter.widget-view+json": {
       "model_id": "6eb8ec7c000b4d7eb61ffbf0fa0de0f0",
       "version_major": 2,
       "version_minor": 0
      },
      "text/plain": [
       "  0%|          | 0/6 [00:00<?, ?it/s]"
      ]
     },
     "metadata": {},
     "output_type": "display_data"
    },
    {
     "name": "stdout",
     "output_type": "stream",
     "text": [
      "train dice score : 0.9668412208557129, train loss 0.053026822908800474\n",
      "valid dice score : 0.9455625414848328, valid loss 0.12468922813422978\n",
      "Training terminated, no improvement in valid loss\n",
      "started fitting the model\n"
     ]
    },
    {
     "data": {
      "application/vnd.jupyter.widget-view+json": {
       "model_id": "c7d9c6da726c47dcaf3bb1647c2f29cd",
       "version_major": 2,
       "version_minor": 0
      },
      "text/plain": [
       "  0%|          | 0/47 [00:00<?, ?it/s]"
      ]
     },
     "metadata": {},
     "output_type": "display_data"
    },
    {
     "data": {
      "application/vnd.jupyter.widget-view+json": {
       "model_id": "c1a5205af5eb48cc8453da0feb4eb388",
       "version_major": 2,
       "version_minor": 0
      },
      "text/plain": [
       "  0%|          | 0/8 [00:00<?, ?it/s]"
      ]
     },
     "metadata": {},
     "output_type": "display_data"
    },
    {
     "name": "stdout",
     "output_type": "stream",
     "text": [
      "train dice score : 0.6015257835388184, train loss 0.5841953437379066\n",
      "valid dice score : 0.6578506231307983, valid loss 0.4684557653963566\n",
      "saving model\n"
     ]
    },
    {
     "data": {
      "application/vnd.jupyter.widget-view+json": {
       "model_id": "c71b61527e9c4a72b19141a883fe46a2",
       "version_major": 2,
       "version_minor": 0
      },
      "text/plain": [
       "  0%|          | 0/47 [00:00<?, ?it/s]"
      ]
     },
     "metadata": {},
     "output_type": "display_data"
    },
    {
     "data": {
      "application/vnd.jupyter.widget-view+json": {
       "model_id": "536ae26de9c642858d554b7b2590fb90",
       "version_major": 2,
       "version_minor": 0
      },
      "text/plain": [
       "  0%|          | 0/8 [00:00<?, ?it/s]"
      ]
     },
     "metadata": {},
     "output_type": "display_data"
    },
    {
     "name": "stdout",
     "output_type": "stream",
     "text": [
      "train dice score : 0.6828555464744568, train loss 0.42252677362015906\n",
      "valid dice score : 0.721009373664856, valid loss 0.3765984773635864\n",
      "saving model\n"
     ]
    },
    {
     "data": {
      "application/vnd.jupyter.widget-view+json": {
       "model_id": "224276033d6d4a4ca6593cba7acb3954",
       "version_major": 2,
       "version_minor": 0
      },
      "text/plain": [
       "  0%|          | 0/47 [00:00<?, ?it/s]"
      ]
     },
     "metadata": {},
     "output_type": "display_data"
    },
    {
     "data": {
      "application/vnd.jupyter.widget-view+json": {
       "model_id": "0823eb623a7a43f79a90e423e78cd1f7",
       "version_major": 2,
       "version_minor": 0
      },
      "text/plain": [
       "  0%|          | 0/8 [00:00<?, ?it/s]"
      ]
     },
     "metadata": {},
     "output_type": "display_data"
    },
    {
     "name": "stdout",
     "output_type": "stream",
     "text": [
      "train dice score : 0.7603027820587158, train loss 0.3170085844207317\n",
      "valid dice score : 0.7628148794174194, valid loss 0.3081739041954279\n",
      "saving model\n"
     ]
    },
    {
     "data": {
      "application/vnd.jupyter.widget-view+json": {
       "model_id": "1223135c15b5451b834e62e9ec87edf2",
       "version_major": 2,
       "version_minor": 0
      },
      "text/plain": [
       "  0%|          | 0/47 [00:00<?, ?it/s]"
      ]
     },
     "metadata": {},
     "output_type": "display_data"
    },
    {
     "data": {
      "application/vnd.jupyter.widget-view+json": {
       "model_id": "68ab654f8afd497ea79f7f70bd6aba31",
       "version_major": 2,
       "version_minor": 0
      },
      "text/plain": [
       "  0%|          | 0/8 [00:00<?, ?it/s]"
      ]
     },
     "metadata": {},
     "output_type": "display_data"
    },
    {
     "name": "stdout",
     "output_type": "stream",
     "text": [
      "train dice score : 0.8452750444412231, train loss 0.20694448735485685\n",
      "valid dice score : 0.86674565076828, valid loss 0.18515277281403542\n",
      "saving model\n"
     ]
    },
    {
     "data": {
      "application/vnd.jupyter.widget-view+json": {
       "model_id": "cd6fa92928854d4a825d7036f75b9315",
       "version_major": 2,
       "version_minor": 0
      },
      "text/plain": [
       "  0%|          | 0/47 [00:00<?, ?it/s]"
      ]
     },
     "metadata": {},
     "output_type": "display_data"
    },
    {
     "data": {
      "application/vnd.jupyter.widget-view+json": {
       "model_id": "cd24a3a4ab43403eb93bbf846f547151",
       "version_major": 2,
       "version_minor": 0
      },
      "text/plain": [
       "  0%|          | 0/8 [00:00<?, ?it/s]"
      ]
     },
     "metadata": {},
     "output_type": "display_data"
    },
    {
     "name": "stdout",
     "output_type": "stream",
     "text": [
      "train dice score : 0.8927212953567505, train loss 0.14748380888015666\n",
      "valid dice score : 0.896778404712677, valid loss 0.15671668760478497\n",
      "saving model\n"
     ]
    },
    {
     "data": {
      "application/vnd.jupyter.widget-view+json": {
       "model_id": "09a1fc90038d4588bee02a56d00e5a77",
       "version_major": 2,
       "version_minor": 0
      },
      "text/plain": [
       "  0%|          | 0/47 [00:00<?, ?it/s]"
      ]
     },
     "metadata": {},
     "output_type": "display_data"
    },
    {
     "data": {
      "application/vnd.jupyter.widget-view+json": {
       "model_id": "a96a59cb1cd545e3854a22e9b15d9f67",
       "version_major": 2,
       "version_minor": 0
      },
      "text/plain": [
       "  0%|          | 0/8 [00:00<?, ?it/s]"
      ]
     },
     "metadata": {},
     "output_type": "display_data"
    },
    {
     "name": "stdout",
     "output_type": "stream",
     "text": [
      "train dice score : 0.9133192300796509, train loss 0.12486101924738985\n",
      "valid dice score : 0.9152492880821228, valid loss 0.12034864630550146\n",
      "saving model\n"
     ]
    },
    {
     "data": {
      "application/vnd.jupyter.widget-view+json": {
       "model_id": "01715af5b2934caa90ce978e75860aac",
       "version_major": 2,
       "version_minor": 0
      },
      "text/plain": [
       "  0%|          | 0/47 [00:00<?, ?it/s]"
      ]
     },
     "metadata": {},
     "output_type": "display_data"
    },
    {
     "data": {
      "application/vnd.jupyter.widget-view+json": {
       "model_id": "0c7c213d807c4a3586bf17c016ff5ba8",
       "version_major": 2,
       "version_minor": 0
      },
      "text/plain": [
       "  0%|          | 0/8 [00:00<?, ?it/s]"
      ]
     },
     "metadata": {},
     "output_type": "display_data"
    },
    {
     "name": "stdout",
     "output_type": "stream",
     "text": [
      "train dice score : 0.9281055331230164, train loss 0.10437474288838974\n",
      "valid dice score : 0.9272452592849731, valid loss 0.10426621837541461\n",
      "saving model\n"
     ]
    },
    {
     "data": {
      "application/vnd.jupyter.widget-view+json": {
       "model_id": "20b997ea38bd4114b89da2ded741aff0",
       "version_major": 2,
       "version_minor": 0
      },
      "text/plain": [
       "  0%|          | 0/47 [00:00<?, ?it/s]"
      ]
     },
     "metadata": {},
     "output_type": "display_data"
    },
    {
     "data": {
      "application/vnd.jupyter.widget-view+json": {
       "model_id": "0f2ff13b614c46d18065dcb46531f399",
       "version_major": 2,
       "version_minor": 0
      },
      "text/plain": [
       "  0%|          | 0/8 [00:00<?, ?it/s]"
      ]
     },
     "metadata": {},
     "output_type": "display_data"
    },
    {
     "name": "stdout",
     "output_type": "stream",
     "text": [
      "train dice score : 0.9385148882865906, train loss 0.08747350202595934\n",
      "valid dice score : 0.9285296201705933, valid loss 0.10875340737402439\n"
     ]
    },
    {
     "data": {
      "application/vnd.jupyter.widget-view+json": {
       "model_id": "9bf4625ebb3b4e6895280db44c0f5da1",
       "version_major": 2,
       "version_minor": 0
      },
      "text/plain": [
       "  0%|          | 0/47 [00:00<?, ?it/s]"
      ]
     },
     "metadata": {},
     "output_type": "display_data"
    },
    {
     "data": {
      "application/vnd.jupyter.widget-view+json": {
       "model_id": "fe66c73a764a4084896c35320deda770",
       "version_major": 2,
       "version_minor": 0
      },
      "text/plain": [
       "  0%|          | 0/8 [00:00<?, ?it/s]"
      ]
     },
     "metadata": {},
     "output_type": "display_data"
    },
    {
     "name": "stdout",
     "output_type": "stream",
     "text": [
      "train dice score : 0.9454898238182068, train loss 0.08010670415898587\n",
      "valid dice score : 0.9374510645866394, valid loss 0.09411236131563783\n",
      "saving model\n"
     ]
    },
    {
     "data": {
      "application/vnd.jupyter.widget-view+json": {
       "model_id": "8bb2f75c863041f89ff9ffda5f658d54",
       "version_major": 2,
       "version_minor": 0
      },
      "text/plain": [
       "  0%|          | 0/47 [00:00<?, ?it/s]"
      ]
     },
     "metadata": {},
     "output_type": "display_data"
    },
    {
     "data": {
      "application/vnd.jupyter.widget-view+json": {
       "model_id": "f57f0f1c06b64114ba9d92cfde4d226a",
       "version_major": 2,
       "version_minor": 0
      },
      "text/plain": [
       "  0%|          | 0/8 [00:00<?, ?it/s]"
      ]
     },
     "metadata": {},
     "output_type": "display_data"
    },
    {
     "name": "stdout",
     "output_type": "stream",
     "text": [
      "train dice score : 0.9497027397155762, train loss 0.0767332211612387\n",
      "valid dice score : 0.9398662447929382, valid loss 0.09874375490471721\n"
     ]
    },
    {
     "data": {
      "application/vnd.jupyter.widget-view+json": {
       "model_id": "2cf2049a231c4cb28e05f0cf6580b172",
       "version_major": 2,
       "version_minor": 0
      },
      "text/plain": [
       "  0%|          | 0/47 [00:00<?, ?it/s]"
      ]
     },
     "metadata": {},
     "output_type": "display_data"
    },
    {
     "data": {
      "application/vnd.jupyter.widget-view+json": {
       "model_id": "91595347c16d4ce59ed13fc9611483d3",
       "version_major": 2,
       "version_minor": 0
      },
      "text/plain": [
       "  0%|          | 0/8 [00:00<?, ?it/s]"
      ]
     },
     "metadata": {},
     "output_type": "display_data"
    },
    {
     "name": "stdout",
     "output_type": "stream",
     "text": [
      "train dice score : 0.9538592100143433, train loss 0.06763440980873209\n",
      "valid dice score : 0.9416494369506836, valid loss 0.10222695488482714\n"
     ]
    },
    {
     "data": {
      "application/vnd.jupyter.widget-view+json": {
       "model_id": "a503c29cbbf44e5e8bff2cd4e348f497",
       "version_major": 2,
       "version_minor": 0
      },
      "text/plain": [
       "  0%|          | 0/47 [00:00<?, ?it/s]"
      ]
     },
     "metadata": {},
     "output_type": "display_data"
    },
    {
     "data": {
      "application/vnd.jupyter.widget-view+json": {
       "model_id": "e1d0c4a2ddb74a26b1e7ea4143ac7132",
       "version_major": 2,
       "version_minor": 0
      },
      "text/plain": [
       "  0%|          | 0/8 [00:00<?, ?it/s]"
      ]
     },
     "metadata": {},
     "output_type": "display_data"
    },
    {
     "name": "stdout",
     "output_type": "stream",
     "text": [
      "train dice score : 0.9569834470748901, train loss 0.06677625090517897\n",
      "valid dice score : 0.9454435110092163, valid loss 0.09533842420205474\n"
     ]
    },
    {
     "data": {
      "application/vnd.jupyter.widget-view+json": {
       "model_id": "070dabcbfdb743a8bbf48f44c0b04250",
       "version_major": 2,
       "version_minor": 0
      },
      "text/plain": [
       "  0%|          | 0/47 [00:00<?, ?it/s]"
      ]
     },
     "metadata": {},
     "output_type": "display_data"
    },
    {
     "data": {
      "application/vnd.jupyter.widget-view+json": {
       "model_id": "45a4ddb871c0484b9d52a6a9ef854a1a",
       "version_major": 2,
       "version_minor": 0
      },
      "text/plain": [
       "  0%|          | 0/8 [00:00<?, ?it/s]"
      ]
     },
     "metadata": {},
     "output_type": "display_data"
    },
    {
     "name": "stdout",
     "output_type": "stream",
     "text": [
      "train dice score : 0.9620845317840576, train loss 0.05803274177014828\n",
      "valid dice score : 0.9442935585975647, valid loss 0.09872580133378506\n"
     ]
    },
    {
     "data": {
      "application/vnd.jupyter.widget-view+json": {
       "model_id": "e5b8f0b0f8e4404b9fa6ff2ae5cd4b36",
       "version_major": 2,
       "version_minor": 0
      },
      "text/plain": [
       "  0%|          | 0/47 [00:00<?, ?it/s]"
      ]
     },
     "metadata": {},
     "output_type": "display_data"
    },
    {
     "data": {
      "application/vnd.jupyter.widget-view+json": {
       "model_id": "04504d32281a46068711e002788b8353",
       "version_major": 2,
       "version_minor": 0
      },
      "text/plain": [
       "  0%|          | 0/8 [00:00<?, ?it/s]"
      ]
     },
     "metadata": {},
     "output_type": "display_data"
    },
    {
     "name": "stdout",
     "output_type": "stream",
     "text": [
      "train dice score : 0.9635301232337952, train loss 0.05889498046103944\n",
      "valid dice score : 0.9388368725776672, valid loss 0.10565839242190123\n",
      "Training terminated, no improvement in valid loss\n"
     ]
    },
    {
     "data": {
      "text/plain": [
       "[['0_UNET', 0.10941710323095322],\n",
       " ['1_UNET', 0.0695892146185917],\n",
       " ['2_UNET', 0.08970232548959114],\n",
       " ['3_UNET', 0.12134397961199284],\n",
       " ['4_UNET', 0.09411236131563783]]"
      ]
     },
     "execution_count": 7,
     "metadata": {},
     "output_type": "execute_result"
    }
   ],
   "source": [
    "kfold_training(train_data_csv_path,patches_csv_path,n_folds = cfg.NFOLDS)"
   ]
  },
  {
   "cell_type": "code",
   "execution_count": null,
   "id": "89cb2b1a-d892-4d94-95e7-a2d2512b3e7b",
   "metadata": {},
   "outputs": [],
   "source": []
  }
 ],
 "metadata": {
  "kernelspec": {
   "display_name": "vm_sripad",
   "language": "python",
   "name": "vm_sripad"
  },
  "language_info": {
   "codemirror_mode": {
    "name": "ipython",
    "version": 3
   },
   "file_extension": ".py",
   "mimetype": "text/x-python",
   "name": "python",
   "nbconvert_exporter": "python",
   "pygments_lexer": "ipython3",
   "version": "3.9.6"
  }
 },
 "nbformat": 4,
 "nbformat_minor": 5
}
