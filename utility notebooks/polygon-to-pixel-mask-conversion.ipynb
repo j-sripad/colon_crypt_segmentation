{
 "cells": [
  {
   "cell_type": "markdown",
   "metadata": {
    "papermill": {
     "duration": 0.009679,
     "end_time": "2020-11-19T20:38:16.303924",
     "exception": false,
     "start_time": "2020-11-19T20:38:16.294245",
     "status": "completed"
    },
    "tags": []
   },
   "source": [
    "# Converting Polygon Masks to Pixel Masks\n",
    "By Leah Scherschel and Yingnan Ju - Indiana University"
   ]
  },
  {
   "cell_type": "markdown",
   "metadata": {
    "papermill": {
     "duration": 0.006615,
     "end_time": "2020-11-19T20:38:16.317651",
     "exception": false,
     "start_time": "2020-11-19T20:38:16.311036",
     "status": "completed"
    },
    "tags": []
   },
   "source": [
    "## Import packages"
   ]
  },
  {
   "cell_type": "code",
   "execution_count": 1,
   "metadata": {
    "papermill": {
     "duration": 0.171685,
     "end_time": "2020-11-19T20:38:16.496120",
     "exception": false,
     "start_time": "2020-11-19T20:38:16.324435",
     "status": "completed"
    },
    "tags": []
   },
   "outputs": [],
   "source": [
    "import json\n",
    "import numpy as np\n",
    "import cv2\n",
    "import matplotlib.pyplot as plt\n",
    "from PIL import Image, ImageDraw\n"
   ]
  },
  {
   "cell_type": "markdown",
   "metadata": {
    "papermill": {
     "duration": 0.006584,
     "end_time": "2020-11-19T20:38:16.509707",
     "exception": false,
     "start_time": "2020-11-19T20:38:16.503123",
     "status": "completed"
    },
    "tags": []
   },
   "source": [
    "## Load polygon mask .json file"
   ]
  },
  {
   "cell_type": "code",
   "execution_count": 3,
   "metadata": {
    "papermill": {
     "duration": 0.022906,
     "end_time": "2020-11-19T20:38:16.539596",
     "exception": false,
     "start_time": "2020-11-19T20:38:16.516690",
     "status": "completed"
    },
    "tags": []
   },
   "outputs": [],
   "source": [
    "json_filename = '../Colonic_crypt_dataset/test/CL_HandE_1234_B004_bottomleft.json'\n",
    "read_file = open(json_filename, \"r\") \n",
    "data = json.load(read_file)\n",
    "#data[0]\n"
   ]
  },
  {
   "cell_type": "code",
   "execution_count": 4,
   "metadata": {},
   "outputs": [],
   "source": [
    "polys = []\n",
    "for index in range(data.__len__()):\n",
    "    geom = np.array(data[index]['geometry']['coordinates'])\n",
    "    polys.append(geom.astype(int))\n",
    "#polys"
   ]
  },
  {
   "cell_type": "markdown",
   "metadata": {
    "papermill": {
     "duration": 0.006522,
     "end_time": "2020-11-19T20:38:16.553020",
     "exception": false,
     "start_time": "2020-11-19T20:38:16.546498",
     "status": "completed"
    },
    "tags": []
   },
   "source": [
    "## Provide the shape of the image in pixels: (height, width)"
   ]
  },
  {
   "cell_type": "code",
   "execution_count": 5,
   "metadata": {
    "papermill": {
     "duration": 0.013641,
     "end_time": "2020-11-19T20:38:16.573371",
     "exception": false,
     "start_time": "2020-11-19T20:38:16.559730",
     "status": "completed"
    },
    "tags": []
   },
   "outputs": [],
   "source": [
    "shape = (4536, 4704)\n"
   ]
  },
  {
   "cell_type": "markdown",
   "metadata": {
    "papermill": {
     "duration": 0.006549,
     "end_time": "2020-11-19T20:38:16.586749",
     "exception": false,
     "start_time": "2020-11-19T20:38:16.580200",
     "status": "completed"
    },
    "tags": []
   },
   "source": [
    "## Convert the polygon vector into a pixel mask"
   ]
  },
  {
   "cell_type": "markdown",
   "metadata": {
    "papermill": {
     "duration": 0.006487,
     "end_time": "2020-11-19T20:38:16.600055",
     "exception": false,
     "start_time": "2020-11-19T20:38:16.593568",
     "status": "completed"
    },
    "tags": []
   },
   "source": [
    "### Method 1"
   ]
  },
  {
   "cell_type": "code",
   "execution_count": 6,
   "metadata": {
    "papermill": {
     "duration": 37.86648,
     "end_time": "2020-11-19T20:38:54.473402",
     "exception": false,
     "start_time": "2020-11-19T20:38:16.606922",
     "status": "completed"
    },
    "tags": []
   },
   "outputs": [
    {
     "data": {
      "text/plain": [
       "<matplotlib.image.AxesImage at 0x7fd33294e4f0>"
      ]
     },
     "execution_count": 6,
     "metadata": {},
     "output_type": "execute_result"
    },
    {
     "data": {
      "image/png": "[encoded data removed]",
      "text/plain": [
       "<Figure size 432x288 with 1 Axes>"
      ]
     },
     "metadata": {
      "needs_background": "light"
     },
     "output_type": "display_data"
    }
   ],
   "source": [
    "mask_1 = np.zeros(shape)\n",
    "for i in range(len(polys)):\n",
    "    cv2.fillPoly(mask_1, polys[i], i+1)\n",
    "\n",
    "plt.imshow(mask_1)"
   ]
  },
  {
   "cell_type": "code",
   "execution_count": 8,
   "metadata": {},
   "outputs": [
    {
     "data": {
      "text/plain": [
       "array([  0.,   1.,   2.,   3.,   4.,   5.,   6.,   7.,   8.,   9.,  10.,\n",
       "        11.,  12.,  13.,  14.,  15.,  16.,  17.,  18.,  19.,  20.,  21.,\n",
       "        22.,  23.,  24.,  25.,  26.,  27.,  28.,  29.,  30.,  31.,  32.,\n",
       "        33.,  34.,  35.,  36.,  37.,  38.,  39.,  40.,  41.,  42.,  43.,\n",
       "        44.,  45.,  46.,  47.,  48.,  49.,  50.,  51.,  52.,  53.,  54.,\n",
       "        55.,  56.,  57.,  58.,  59.,  60.,  61.,  62.,  63.,  64.,  65.,\n",
       "        66.,  67.,  68.,  69.,  70.,  71.,  72.,  73.,  74.,  75.,  76.,\n",
       "        77.,  78.,  79.,  80.,  81.,  82.,  83.,  84.,  85.,  86.,  87.,\n",
       "        88.,  89.,  90.,  91.,  92.,  93.,  94.,  95.,  96.,  97.,  98.,\n",
       "        99., 100., 101., 102., 103., 104., 105., 106., 107., 108., 109.,\n",
       "       110., 111., 112., 113., 114., 115., 116., 117., 118., 119., 120.,\n",
       "       121., 122., 123., 124.])"
      ]
     },
     "execution_count": 8,
     "metadata": {},
     "output_type": "execute_result"
    }
   ],
   "source": [
    "np.unique(mask_1)"
   ]
  },
  {
   "cell_type": "markdown",
   "metadata": {
    "papermill": {
     "duration": 0.007591,
     "end_time": "2020-11-19T20:38:54.488734",
     "exception": false,
     "start_time": "2020-11-19T20:38:54.481143",
     "status": "completed"
    },
    "tags": []
   },
   "source": [
    "### Method 2"
   ]
  },
  {
   "cell_type": "code",
   "execution_count": 6,
   "metadata": {
    "papermill": {
     "duration": 21.414784,
     "end_time": "2020-11-19T20:39:15.911240",
     "exception": false,
     "start_time": "2020-11-19T20:38:54.496456",
     "status": "completed"
    },
    "tags": []
   },
   "outputs": [
    {
     "data": {
      "text/plain": [
       "<matplotlib.image.AxesImage at 0x16ddf807190>"
      ]
     },
     "execution_count": 6,
     "metadata": {},
     "output_type": "execute_result"
    },
    {
     "data": {
      "image/png": "[encoded data removed]",
      "text/plain": [
       "<Figure size 432x288 with 1 Axes>"
      ]
     },
     "metadata": {
      "needs_background": "light"
     },
     "output_type": "display_data"
    }
   ],
   "source": [
    "Image.MAX_IMAGE_PIXELS = None\n",
    "img = Image.new('L', (shape[1], shape[0]), 0)  # (w, h)\n",
    "for i in range(len(polys)):\n",
    "    poly = polys[i]\n",
    "    ImageDraw.Draw(img).polygon(tuple(map(tuple, poly[0])), outline=i + 1, fill=i + 1) \n",
    "\n",
    "mask_2 = np.array(img)\n",
    "plt.imshow(mask_2)"
   ]
  },
  {
   "cell_type": "code",
   "execution_count": null,
   "metadata": {},
   "outputs": [],
   "source": []
  }
 ],
 "metadata": {
  "kernelspec": {
   "display_name": "vm_sripad",
   "language": "python",
   "name": "vm_sripad"
  },
  "language_info": {
   "codemirror_mode": {
    "name": "ipython",
    "version": 3
   },
   "file_extension": ".py",
   "mimetype": "text/x-python",
   "name": "python",
   "nbconvert_exporter": "python",
   "pygments_lexer": "ipython3",
   "version": "3.9.6"
  },
  "papermill": {
   "duration": 64.800256,
   "end_time": "2020-11-19T20:39:17.016962",
   "environment_variables": {},
   "exception": null,
   "input_path": "__notebook__.ipynb",
   "output_path": "__notebook__.ipynb",
   "parameters": {},
   "start_time": "2020-11-19T20:38:12.216706",
   "version": "2.1.0"
  }
 },
 "nbformat": 4,
 "nbformat_minor": 4
}
